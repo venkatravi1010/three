{
  "cells": [
    {
      "cell_type": "code",
      "execution_count": null,
      "metadata": {
        "id": "5YGCXnyIrLF5"
      },
      "outputs": [],
      "source": [
        "import pandas as pd\n",
        "import numpy as np\n",
        "import matplotlib.pyplot as plt\n",
        "import seaborn as sns\n"
      ]
    },
    {
      "cell_type": "code",
      "execution_count": null,
      "metadata": {
        "colab": {
          "base_uri": "https://localhost:8080/"
        },
        "id": "0DIN6fCAP3AT",
        "outputId": "77629546-6caa-468e-9eee-7dc94c883bf8"
      },
      "outputs": [
        {
          "output_type": "stream",
          "name": "stdout",
          "text": [
            "Mounted at /content/drive/\n"
          ]
        }
      ],
      "source": [
        "from google.colab import drive\n",
        "drive.mount('/content/drive/')"
      ]
    },
    {
      "cell_type": "code",
      "execution_count": null,
      "metadata": {
        "colab": {
          "base_uri": "https://localhost:8080/"
        },
        "id": "IJo73qUnQLXG",
        "outputId": "fe7f13ff-eb9e-4494-a17c-2b7ba2ae6fd9"
      },
      "outputs": [
        {
          "output_type": "stream",
          "name": "stdout",
          "text": [
            " Data1.csv   Data5.csv\t'K to Clusters.gsheet'\t WorldData.ipynb\n",
            " Data2.csv   Data6.csv\t Project_1.ipynb\t'World Indicators.csv'\n",
            " Data3.csv   Data7.csv\t Sandbox_data1.ipynb\n",
            " Data4.csv   Data8.csv\t Sandbox.ipynb\n"
          ]
        }
      ],
      "source": [
        "!ls '/content/drive/MyDrive/IE5374 Workspace/Colab Notebooks/Project_1/'"
      ]
    },
    {
      "cell_type": "markdown",
      "metadata": {
        "id": "JyDynfs_a51F"
      },
      "source": [
        "### Task 1 - Data 1 K Means Clustering"
      ]
    },
    {
      "cell_type": "code",
      "execution_count": null,
      "metadata": {
        "colab": {
          "base_uri": "https://localhost:8080/",
          "height": 353
        },
        "id": "j-k5RYhGPP-3",
        "outputId": "071ab08b-49f7-4421-bd7e-cafa9d640e7d"
      },
      "outputs": [
        {
          "output_type": "error",
          "ename": "KeyError",
          "evalue": "ignored",
          "traceback": [
            "\u001b[0;31m---------------------------------------------------------------------------\u001b[0m",
            "\u001b[0;31mKeyError\u001b[0m                                  Traceback (most recent call last)",
            "\u001b[0;32m<ipython-input-4-e564cdf1e9e5>\u001b[0m in \u001b[0;36m<module>\u001b[0;34m\u001b[0m\n\u001b[1;32m      1\u001b[0m \u001b[0mdf_1\u001b[0m \u001b[0;34m=\u001b[0m \u001b[0mpd\u001b[0m\u001b[0;34m.\u001b[0m\u001b[0mread_csv\u001b[0m\u001b[0;34m(\u001b[0m\u001b[0;34m'/content/drive/MyDrive/IE5374 Workspace/Colab Notebooks/Project_1/Data1.csv'\u001b[0m\u001b[0;34m)\u001b[0m\u001b[0;34m\u001b[0m\u001b[0;34m\u001b[0m\u001b[0m\n\u001b[0;32m----> 2\u001b[0;31m \u001b[0mdf_1\u001b[0m \u001b[0;34m=\u001b[0m \u001b[0mdf_1\u001b[0m\u001b[0;34m.\u001b[0m\u001b[0mdrop\u001b[0m\u001b[0;34m(\u001b[0m\u001b[0;34m'Unnamed: 0'\u001b[0m\u001b[0;34m,\u001b[0m \u001b[0maxis\u001b[0m\u001b[0;34m=\u001b[0m\u001b[0;36m1\u001b[0m\u001b[0;34m)\u001b[0m\u001b[0;34m\u001b[0m\u001b[0;34m\u001b[0m\u001b[0m\n\u001b[0m\u001b[1;32m      3\u001b[0m \u001b[0mdf_1\u001b[0m\u001b[0;34m\u001b[0m\u001b[0;34m\u001b[0m\u001b[0m\n",
            "\u001b[0;32m/usr/local/lib/python3.7/dist-packages/pandas/util/_decorators.py\u001b[0m in \u001b[0;36mwrapper\u001b[0;34m(*args, **kwargs)\u001b[0m\n\u001b[1;32m    309\u001b[0m                     \u001b[0mstacklevel\u001b[0m\u001b[0;34m=\u001b[0m\u001b[0mstacklevel\u001b[0m\u001b[0;34m,\u001b[0m\u001b[0;34m\u001b[0m\u001b[0;34m\u001b[0m\u001b[0m\n\u001b[1;32m    310\u001b[0m                 )\n\u001b[0;32m--> 311\u001b[0;31m             \u001b[0;32mreturn\u001b[0m \u001b[0mfunc\u001b[0m\u001b[0;34m(\u001b[0m\u001b[0;34m*\u001b[0m\u001b[0margs\u001b[0m\u001b[0;34m,\u001b[0m \u001b[0;34m**\u001b[0m\u001b[0mkwargs\u001b[0m\u001b[0;34m)\u001b[0m\u001b[0;34m\u001b[0m\u001b[0;34m\u001b[0m\u001b[0m\n\u001b[0m\u001b[1;32m    312\u001b[0m \u001b[0;34m\u001b[0m\u001b[0m\n\u001b[1;32m    313\u001b[0m         \u001b[0;32mreturn\u001b[0m \u001b[0mwrapper\u001b[0m\u001b[0;34m\u001b[0m\u001b[0;34m\u001b[0m\u001b[0m\n",
            "\u001b[0;32m/usr/local/lib/python3.7/dist-packages/pandas/core/frame.py\u001b[0m in \u001b[0;36mdrop\u001b[0;34m(self, labels, axis, index, columns, level, inplace, errors)\u001b[0m\n\u001b[1;32m   4911\u001b[0m             \u001b[0mlevel\u001b[0m\u001b[0;34m=\u001b[0m\u001b[0mlevel\u001b[0m\u001b[0;34m,\u001b[0m\u001b[0;34m\u001b[0m\u001b[0;34m\u001b[0m\u001b[0m\n\u001b[1;32m   4912\u001b[0m             \u001b[0minplace\u001b[0m\u001b[0;34m=\u001b[0m\u001b[0minplace\u001b[0m\u001b[0;34m,\u001b[0m\u001b[0;34m\u001b[0m\u001b[0;34m\u001b[0m\u001b[0m\n\u001b[0;32m-> 4913\u001b[0;31m             \u001b[0merrors\u001b[0m\u001b[0;34m=\u001b[0m\u001b[0merrors\u001b[0m\u001b[0;34m,\u001b[0m\u001b[0;34m\u001b[0m\u001b[0;34m\u001b[0m\u001b[0m\n\u001b[0m\u001b[1;32m   4914\u001b[0m         )\n\u001b[1;32m   4915\u001b[0m \u001b[0;34m\u001b[0m\u001b[0m\n",
            "\u001b[0;32m/usr/local/lib/python3.7/dist-packages/pandas/core/generic.py\u001b[0m in \u001b[0;36mdrop\u001b[0;34m(self, labels, axis, index, columns, level, inplace, errors)\u001b[0m\n\u001b[1;32m   4148\u001b[0m         \u001b[0;32mfor\u001b[0m \u001b[0maxis\u001b[0m\u001b[0;34m,\u001b[0m \u001b[0mlabels\u001b[0m \u001b[0;32min\u001b[0m \u001b[0maxes\u001b[0m\u001b[0;34m.\u001b[0m\u001b[0mitems\u001b[0m\u001b[0;34m(\u001b[0m\u001b[0;34m)\u001b[0m\u001b[0;34m:\u001b[0m\u001b[0;34m\u001b[0m\u001b[0;34m\u001b[0m\u001b[0m\n\u001b[1;32m   4149\u001b[0m             \u001b[0;32mif\u001b[0m \u001b[0mlabels\u001b[0m \u001b[0;32mis\u001b[0m \u001b[0;32mnot\u001b[0m \u001b[0;32mNone\u001b[0m\u001b[0;34m:\u001b[0m\u001b[0;34m\u001b[0m\u001b[0;34m\u001b[0m\u001b[0m\n\u001b[0;32m-> 4150\u001b[0;31m                 \u001b[0mobj\u001b[0m \u001b[0;34m=\u001b[0m \u001b[0mobj\u001b[0m\u001b[0;34m.\u001b[0m\u001b[0m_drop_axis\u001b[0m\u001b[0;34m(\u001b[0m\u001b[0mlabels\u001b[0m\u001b[0;34m,\u001b[0m \u001b[0maxis\u001b[0m\u001b[0;34m,\u001b[0m \u001b[0mlevel\u001b[0m\u001b[0;34m=\u001b[0m\u001b[0mlevel\u001b[0m\u001b[0;34m,\u001b[0m \u001b[0merrors\u001b[0m\u001b[0;34m=\u001b[0m\u001b[0merrors\u001b[0m\u001b[0;34m)\u001b[0m\u001b[0;34m\u001b[0m\u001b[0;34m\u001b[0m\u001b[0m\n\u001b[0m\u001b[1;32m   4151\u001b[0m \u001b[0;34m\u001b[0m\u001b[0m\n\u001b[1;32m   4152\u001b[0m         \u001b[0;32mif\u001b[0m \u001b[0minplace\u001b[0m\u001b[0;34m:\u001b[0m\u001b[0;34m\u001b[0m\u001b[0;34m\u001b[0m\u001b[0m\n",
            "\u001b[0;32m/usr/local/lib/python3.7/dist-packages/pandas/core/generic.py\u001b[0m in \u001b[0;36m_drop_axis\u001b[0;34m(self, labels, axis, level, errors)\u001b[0m\n\u001b[1;32m   4183\u001b[0m                 \u001b[0mnew_axis\u001b[0m \u001b[0;34m=\u001b[0m \u001b[0maxis\u001b[0m\u001b[0;34m.\u001b[0m\u001b[0mdrop\u001b[0m\u001b[0;34m(\u001b[0m\u001b[0mlabels\u001b[0m\u001b[0;34m,\u001b[0m \u001b[0mlevel\u001b[0m\u001b[0;34m=\u001b[0m\u001b[0mlevel\u001b[0m\u001b[0;34m,\u001b[0m \u001b[0merrors\u001b[0m\u001b[0;34m=\u001b[0m\u001b[0merrors\u001b[0m\u001b[0;34m)\u001b[0m\u001b[0;34m\u001b[0m\u001b[0;34m\u001b[0m\u001b[0m\n\u001b[1;32m   4184\u001b[0m             \u001b[0;32melse\u001b[0m\u001b[0;34m:\u001b[0m\u001b[0;34m\u001b[0m\u001b[0;34m\u001b[0m\u001b[0m\n\u001b[0;32m-> 4185\u001b[0;31m                 \u001b[0mnew_axis\u001b[0m \u001b[0;34m=\u001b[0m \u001b[0maxis\u001b[0m\u001b[0;34m.\u001b[0m\u001b[0mdrop\u001b[0m\u001b[0;34m(\u001b[0m\u001b[0mlabels\u001b[0m\u001b[0;34m,\u001b[0m \u001b[0merrors\u001b[0m\u001b[0;34m=\u001b[0m\u001b[0merrors\u001b[0m\u001b[0;34m)\u001b[0m\u001b[0;34m\u001b[0m\u001b[0;34m\u001b[0m\u001b[0m\n\u001b[0m\u001b[1;32m   4186\u001b[0m             \u001b[0mresult\u001b[0m \u001b[0;34m=\u001b[0m \u001b[0mself\u001b[0m\u001b[0;34m.\u001b[0m\u001b[0mreindex\u001b[0m\u001b[0;34m(\u001b[0m\u001b[0;34m**\u001b[0m\u001b[0;34m{\u001b[0m\u001b[0maxis_name\u001b[0m\u001b[0;34m:\u001b[0m \u001b[0mnew_axis\u001b[0m\u001b[0;34m}\u001b[0m\u001b[0;34m)\u001b[0m\u001b[0;34m\u001b[0m\u001b[0;34m\u001b[0m\u001b[0m\n\u001b[1;32m   4187\u001b[0m \u001b[0;34m\u001b[0m\u001b[0m\n",
            "\u001b[0;32m/usr/local/lib/python3.7/dist-packages/pandas/core/indexes/base.py\u001b[0m in \u001b[0;36mdrop\u001b[0;34m(self, labels, errors)\u001b[0m\n\u001b[1;32m   6015\u001b[0m         \u001b[0;32mif\u001b[0m \u001b[0mmask\u001b[0m\u001b[0;34m.\u001b[0m\u001b[0many\u001b[0m\u001b[0;34m(\u001b[0m\u001b[0;34m)\u001b[0m\u001b[0;34m:\u001b[0m\u001b[0;34m\u001b[0m\u001b[0;34m\u001b[0m\u001b[0m\n\u001b[1;32m   6016\u001b[0m             \u001b[0;32mif\u001b[0m \u001b[0merrors\u001b[0m \u001b[0;34m!=\u001b[0m \u001b[0;34m\"ignore\"\u001b[0m\u001b[0;34m:\u001b[0m\u001b[0;34m\u001b[0m\u001b[0;34m\u001b[0m\u001b[0m\n\u001b[0;32m-> 6017\u001b[0;31m                 \u001b[0;32mraise\u001b[0m \u001b[0mKeyError\u001b[0m\u001b[0;34m(\u001b[0m\u001b[0;34mf\"{labels[mask]} not found in axis\"\u001b[0m\u001b[0;34m)\u001b[0m\u001b[0;34m\u001b[0m\u001b[0;34m\u001b[0m\u001b[0m\n\u001b[0m\u001b[1;32m   6018\u001b[0m             \u001b[0mindexer\u001b[0m \u001b[0;34m=\u001b[0m \u001b[0mindexer\u001b[0m\u001b[0;34m[\u001b[0m\u001b[0;34m~\u001b[0m\u001b[0mmask\u001b[0m\u001b[0;34m]\u001b[0m\u001b[0;34m\u001b[0m\u001b[0;34m\u001b[0m\u001b[0m\n\u001b[1;32m   6019\u001b[0m         \u001b[0;32mreturn\u001b[0m \u001b[0mself\u001b[0m\u001b[0;34m.\u001b[0m\u001b[0mdelete\u001b[0m\u001b[0;34m(\u001b[0m\u001b[0mindexer\u001b[0m\u001b[0;34m)\u001b[0m\u001b[0;34m\u001b[0m\u001b[0;34m\u001b[0m\u001b[0m\n",
            "\u001b[0;31mKeyError\u001b[0m: \"['Unnamed: 0'] not found in axis\""
          ]
        }
      ],
      "source": [
        "df_1 = pd.read_csv('/content/drive/MyDrive/IE5374 Workspace/Colab Notebooks/Project_1/Data1.csv')\n",
        "df_1 = df_1.drop('Unnamed: 0', axis=1)\n",
        "df_1"
      ]
    },
    {
      "cell_type": "code",
      "execution_count": null,
      "metadata": {
        "id": "uwCBgFg7PQBC"
      },
      "outputs": [],
      "source": [
        "# Convert the labels of the defined classes from 1-7 to 0-6 as model prediction is between 0-6\n",
        "df_1.loc[df_1['Class']==1,'Class'] = 0\n",
        "df_1.loc[df_1['Class']==2,'Class'] = 1\n",
        "df_1.loc[df_1['Class']==3,'Class'] = 2\n",
        "df_1.loc[df_1['Class']==4,'Class'] = 3\n",
        "df_1.loc[df_1['Class']==5,'Class'] = 4\n",
        "df_1.loc[df_1['Class']==6,'Class'] = 5\n",
        "df_1.loc[df_1['Class']==7,'Class'] = 6"
      ]
    },
    {
      "cell_type": "code",
      "execution_count": null,
      "metadata": {
        "id": "ME6i0Jf2bdzx"
      },
      "outputs": [],
      "source": [
        "df_1"
      ]
    },
    {
      "cell_type": "code",
      "execution_count": null,
      "metadata": {
        "id": "fgj8n-apPQIm"
      },
      "outputs": [],
      "source": [
        "from sklearn.cluster import KMeans\n",
        "from sklearn.metrics import accuracy_score, f1_score, adjusted_rand_score\n",
        "from sklearn.preprocessing import StandardScaler,MinMaxScaler\n",
        "\n",
        "# Using min max scaler to scale the features for better model fit\n",
        "#scaler = MinMaxScaler()\n",
        "#model = scaler.fit(df_1.iloc[:,0:3])\n",
        "#scaled_data = model.transform(df_1.iloc[:,0:3])\n",
        "#scaled_df_1 = pd.DataFrame(scaled_data)\n",
        "\n",
        "# Kmeans clustering model\n",
        "km = KMeans(n_clusters=7,random_state=10)\n",
        "km.fit_predict(df_1)\n",
        "print(km.labels_)\n",
        "print(\"\\n\")\n",
        "print(\"Accuracy Score :\",accuracy_score(df_1['Class'],km.labels_))\n",
        "print(\"F1 Score :\", f1_score(df_1['Class'], km.labels_, average=\"macro\"))\n",
        "#print(\"Adjusted Random Index :\",adjusted_rand_score(df_1['Class'],km.labels_))"
      ]
    },
    {
      "cell_type": "code",
      "execution_count": null,
      "metadata": {
        "id": "A8Y9_DpiBh1y"
      },
      "outputs": [],
      "source": [
        "from sklearn.cluster import AgglomerativeClustering\n",
        "import scipy.cluster.hierarchy as shc\n",
        "mdlh=AgglomerativeClustering()\n",
        "mdlh.fit(df_1)\n",
        "mdlh.labels_\n",
        "\n",
        "Z1 = AgglomerativeClustering(n_clusters=2, linkage='ward')\n",
        "dend = shc.dendrogram(shc.linkage(df_1.iloc[:,0:3], method='ward'))\n",
        "plt.axhline(y=10, color='r', linestyle='--')\n",
        "plt.gcf().set_size_inches(12,7)"
      ]
    },
    {
      "cell_type": "code",
      "execution_count": null,
      "metadata": {
        "id": "lemIrolxJmqD"
      },
      "outputs": [],
      "source": [
        "from sklearn.metrics import f1_score\n",
        "print(f1_score(df_1['Class'],km.labels_, average='macro'))"
      ]
    },
    {
      "cell_type": "code",
      "execution_count": null,
      "metadata": {
        "id": "d9889GU1PQKu"
      },
      "outputs": [],
      "source": [
        "# 3D Visual of predicted clusters\n",
        "import plotly.express as px\n",
        "plot = px.scatter_3d(df_1, x='X1', y='X2', z='X3', color=km.labels_)\n",
        "plot.show()"
      ]
    },
    {
      "cell_type": "code",
      "execution_count": null,
      "metadata": {
        "id": "2B46XZBbPQNS"
      },
      "outputs": [],
      "source": [
        "# 3D visuals of defined clusters\n",
        "import plotly.express as px\n",
        "plot = px.scatter_3d(df_1, x='X1', y='X2', z='X3', color='Class')\n",
        "plot.show()"
      ]
    },
    {
      "cell_type": "markdown",
      "metadata": {
        "id": "w6-BqPLIhqYQ"
      },
      "source": [
        "## Task 1 - Data 2 K Means Clustering"
      ]
    },
    {
      "cell_type": "code",
      "execution_count": null,
      "metadata": {
        "colab": {
          "base_uri": "https://localhost:8080/",
          "height": 424
        },
        "id": "aj8QGehshwJQ",
        "outputId": "697c68ef-36db-4add-b4ed-3c7d2819989f"
      },
      "outputs": [
        {
          "output_type": "execute_result",
          "data": {
            "text/plain": [
              "            X         Y         C  Class\n",
              "0    3.277701  0.814082  0.326574      1\n",
              "1    0.387577  0.176780  0.888046      1\n",
              "2    0.268546  0.582963  0.080981      1\n",
              "3    2.031145  0.244597  0.643921      1\n",
              "4    0.188677  0.461280  0.496633      1\n",
              "..        ...       ...       ...    ...\n",
              "399  3.248655  2.297291  3.388138      3\n",
              "400  4.100000  5.100000  0.504558      4\n",
              "401  3.900000  4.900000  0.941634      4\n",
              "402  4.000000  5.000000  0.702123      4\n",
              "403  4.100000  5.100000  0.887645      4\n",
              "\n",
              "[404 rows x 4 columns]"
            ],
            "text/html": [
              "\n",
              "  <div id=\"df-a6f07945-7f38-46cd-9b56-af42073caafe\">\n",
              "    <div class=\"colab-df-container\">\n",
              "      <div>\n",
              "<style scoped>\n",
              "    .dataframe tbody tr th:only-of-type {\n",
              "        vertical-align: middle;\n",
              "    }\n",
              "\n",
              "    .dataframe tbody tr th {\n",
              "        vertical-align: top;\n",
              "    }\n",
              "\n",
              "    .dataframe thead th {\n",
              "        text-align: right;\n",
              "    }\n",
              "</style>\n",
              "<table border=\"1\" class=\"dataframe\">\n",
              "  <thead>\n",
              "    <tr style=\"text-align: right;\">\n",
              "      <th></th>\n",
              "      <th>X</th>\n",
              "      <th>Y</th>\n",
              "      <th>C</th>\n",
              "      <th>Class</th>\n",
              "    </tr>\n",
              "  </thead>\n",
              "  <tbody>\n",
              "    <tr>\n",
              "      <th>0</th>\n",
              "      <td>3.277701</td>\n",
              "      <td>0.814082</td>\n",
              "      <td>0.326574</td>\n",
              "      <td>1</td>\n",
              "    </tr>\n",
              "    <tr>\n",
              "      <th>1</th>\n",
              "      <td>0.387577</td>\n",
              "      <td>0.176780</td>\n",
              "      <td>0.888046</td>\n",
              "      <td>1</td>\n",
              "    </tr>\n",
              "    <tr>\n",
              "      <th>2</th>\n",
              "      <td>0.268546</td>\n",
              "      <td>0.582963</td>\n",
              "      <td>0.080981</td>\n",
              "      <td>1</td>\n",
              "    </tr>\n",
              "    <tr>\n",
              "      <th>3</th>\n",
              "      <td>2.031145</td>\n",
              "      <td>0.244597</td>\n",
              "      <td>0.643921</td>\n",
              "      <td>1</td>\n",
              "    </tr>\n",
              "    <tr>\n",
              "      <th>4</th>\n",
              "      <td>0.188677</td>\n",
              "      <td>0.461280</td>\n",
              "      <td>0.496633</td>\n",
              "      <td>1</td>\n",
              "    </tr>\n",
              "    <tr>\n",
              "      <th>...</th>\n",
              "      <td>...</td>\n",
              "      <td>...</td>\n",
              "      <td>...</td>\n",
              "      <td>...</td>\n",
              "    </tr>\n",
              "    <tr>\n",
              "      <th>399</th>\n",
              "      <td>3.248655</td>\n",
              "      <td>2.297291</td>\n",
              "      <td>3.388138</td>\n",
              "      <td>3</td>\n",
              "    </tr>\n",
              "    <tr>\n",
              "      <th>400</th>\n",
              "      <td>4.100000</td>\n",
              "      <td>5.100000</td>\n",
              "      <td>0.504558</td>\n",
              "      <td>4</td>\n",
              "    </tr>\n",
              "    <tr>\n",
              "      <th>401</th>\n",
              "      <td>3.900000</td>\n",
              "      <td>4.900000</td>\n",
              "      <td>0.941634</td>\n",
              "      <td>4</td>\n",
              "    </tr>\n",
              "    <tr>\n",
              "      <th>402</th>\n",
              "      <td>4.000000</td>\n",
              "      <td>5.000000</td>\n",
              "      <td>0.702123</td>\n",
              "      <td>4</td>\n",
              "    </tr>\n",
              "    <tr>\n",
              "      <th>403</th>\n",
              "      <td>4.100000</td>\n",
              "      <td>5.100000</td>\n",
              "      <td>0.887645</td>\n",
              "      <td>4</td>\n",
              "    </tr>\n",
              "  </tbody>\n",
              "</table>\n",
              "<p>404 rows × 4 columns</p>\n",
              "</div>\n",
              "      <button class=\"colab-df-convert\" onclick=\"convertToInteractive('df-a6f07945-7f38-46cd-9b56-af42073caafe')\"\n",
              "              title=\"Convert this dataframe to an interactive table.\"\n",
              "              style=\"display:none;\">\n",
              "        \n",
              "  <svg xmlns=\"http://www.w3.org/2000/svg\" height=\"24px\"viewBox=\"0 0 24 24\"\n",
              "       width=\"24px\">\n",
              "    <path d=\"M0 0h24v24H0V0z\" fill=\"none\"/>\n",
              "    <path d=\"M18.56 5.44l.94 2.06.94-2.06 2.06-.94-2.06-.94-.94-2.06-.94 2.06-2.06.94zm-11 1L8.5 8.5l.94-2.06 2.06-.94-2.06-.94L8.5 2.5l-.94 2.06-2.06.94zm10 10l.94 2.06.94-2.06 2.06-.94-2.06-.94-.94-2.06-.94 2.06-2.06.94z\"/><path d=\"M17.41 7.96l-1.37-1.37c-.4-.4-.92-.59-1.43-.59-.52 0-1.04.2-1.43.59L10.3 9.45l-7.72 7.72c-.78.78-.78 2.05 0 2.83L4 21.41c.39.39.9.59 1.41.59.51 0 1.02-.2 1.41-.59l7.78-7.78 2.81-2.81c.8-.78.8-2.07 0-2.86zM5.41 20L4 18.59l7.72-7.72 1.47 1.35L5.41 20z\"/>\n",
              "  </svg>\n",
              "      </button>\n",
              "      \n",
              "  <style>\n",
              "    .colab-df-container {\n",
              "      display:flex;\n",
              "      flex-wrap:wrap;\n",
              "      gap: 12px;\n",
              "    }\n",
              "\n",
              "    .colab-df-convert {\n",
              "      background-color: #E8F0FE;\n",
              "      border: none;\n",
              "      border-radius: 50%;\n",
              "      cursor: pointer;\n",
              "      display: none;\n",
              "      fill: #1967D2;\n",
              "      height: 32px;\n",
              "      padding: 0 0 0 0;\n",
              "      width: 32px;\n",
              "    }\n",
              "\n",
              "    .colab-df-convert:hover {\n",
              "      background-color: #E2EBFA;\n",
              "      box-shadow: 0px 1px 2px rgba(60, 64, 67, 0.3), 0px 1px 3px 1px rgba(60, 64, 67, 0.15);\n",
              "      fill: #174EA6;\n",
              "    }\n",
              "\n",
              "    [theme=dark] .colab-df-convert {\n",
              "      background-color: #3B4455;\n",
              "      fill: #D2E3FC;\n",
              "    }\n",
              "\n",
              "    [theme=dark] .colab-df-convert:hover {\n",
              "      background-color: #434B5C;\n",
              "      box-shadow: 0px 1px 3px 1px rgba(0, 0, 0, 0.15);\n",
              "      filter: drop-shadow(0px 1px 2px rgba(0, 0, 0, 0.3));\n",
              "      fill: #FFFFFF;\n",
              "    }\n",
              "  </style>\n",
              "\n",
              "      <script>\n",
              "        const buttonEl =\n",
              "          document.querySelector('#df-a6f07945-7f38-46cd-9b56-af42073caafe button.colab-df-convert');\n",
              "        buttonEl.style.display =\n",
              "          google.colab.kernel.accessAllowed ? 'block' : 'none';\n",
              "\n",
              "        async function convertToInteractive(key) {\n",
              "          const element = document.querySelector('#df-a6f07945-7f38-46cd-9b56-af42073caafe');\n",
              "          const dataTable =\n",
              "            await google.colab.kernel.invokeFunction('convertToInteractive',\n",
              "                                                     [key], {});\n",
              "          if (!dataTable) return;\n",
              "\n",
              "          const docLinkHtml = 'Like what you see? Visit the ' +\n",
              "            '<a target=\"_blank\" href=https://colab.research.google.com/notebooks/data_table.ipynb>data table notebook</a>'\n",
              "            + ' to learn more about interactive tables.';\n",
              "          element.innerHTML = '';\n",
              "          dataTable['output_type'] = 'display_data';\n",
              "          await google.colab.output.renderOutput(dataTable, element);\n",
              "          const docLink = document.createElement('div');\n",
              "          docLink.innerHTML = docLinkHtml;\n",
              "          element.appendChild(docLink);\n",
              "        }\n",
              "      </script>\n",
              "    </div>\n",
              "  </div>\n",
              "  "
            ]
          },
          "metadata": {},
          "execution_count": 5
        }
      ],
      "source": [
        "df_2 = pd.read_csv('/content/drive/MyDrive/IE5374 Workspace/Colab Notebooks/Project_1/Data2.csv')\n",
        "df_2 = df_2.drop('Unnamed: 0', axis=1)\n",
        "df_2"
      ]
    },
    {
      "cell_type": "code",
      "execution_count": null,
      "metadata": {
        "colab": {
          "base_uri": "https://localhost:8080/",
          "height": 424
        },
        "id": "9m-J3ib4h1iN",
        "outputId": "f163054c-335c-4e70-d838-6ef31511ca06"
      },
      "outputs": [
        {
          "output_type": "execute_result",
          "data": {
            "text/plain": [
              "            X         Y         C  Class\n",
              "0    3.277701  0.814082  0.326574      0\n",
              "1    0.387577  0.176780  0.888046      0\n",
              "2    0.268546  0.582963  0.080981      0\n",
              "3    2.031145  0.244597  0.643921      0\n",
              "4    0.188677  0.461280  0.496633      0\n",
              "..        ...       ...       ...    ...\n",
              "399  3.248655  2.297291  3.388138      2\n",
              "400  4.100000  5.100000  0.504558      3\n",
              "401  3.900000  4.900000  0.941634      3\n",
              "402  4.000000  5.000000  0.702123      3\n",
              "403  4.100000  5.100000  0.887645      3\n",
              "\n",
              "[404 rows x 4 columns]"
            ],
            "text/html": [
              "\n",
              "  <div id=\"df-00a885b1-1819-450c-9fd6-a129c0c92ac0\">\n",
              "    <div class=\"colab-df-container\">\n",
              "      <div>\n",
              "<style scoped>\n",
              "    .dataframe tbody tr th:only-of-type {\n",
              "        vertical-align: middle;\n",
              "    }\n",
              "\n",
              "    .dataframe tbody tr th {\n",
              "        vertical-align: top;\n",
              "    }\n",
              "\n",
              "    .dataframe thead th {\n",
              "        text-align: right;\n",
              "    }\n",
              "</style>\n",
              "<table border=\"1\" class=\"dataframe\">\n",
              "  <thead>\n",
              "    <tr style=\"text-align: right;\">\n",
              "      <th></th>\n",
              "      <th>X</th>\n",
              "      <th>Y</th>\n",
              "      <th>C</th>\n",
              "      <th>Class</th>\n",
              "    </tr>\n",
              "  </thead>\n",
              "  <tbody>\n",
              "    <tr>\n",
              "      <th>0</th>\n",
              "      <td>3.277701</td>\n",
              "      <td>0.814082</td>\n",
              "      <td>0.326574</td>\n",
              "      <td>0</td>\n",
              "    </tr>\n",
              "    <tr>\n",
              "      <th>1</th>\n",
              "      <td>0.387577</td>\n",
              "      <td>0.176780</td>\n",
              "      <td>0.888046</td>\n",
              "      <td>0</td>\n",
              "    </tr>\n",
              "    <tr>\n",
              "      <th>2</th>\n",
              "      <td>0.268546</td>\n",
              "      <td>0.582963</td>\n",
              "      <td>0.080981</td>\n",
              "      <td>0</td>\n",
              "    </tr>\n",
              "    <tr>\n",
              "      <th>3</th>\n",
              "      <td>2.031145</td>\n",
              "      <td>0.244597</td>\n",
              "      <td>0.643921</td>\n",
              "      <td>0</td>\n",
              "    </tr>\n",
              "    <tr>\n",
              "      <th>4</th>\n",
              "      <td>0.188677</td>\n",
              "      <td>0.461280</td>\n",
              "      <td>0.496633</td>\n",
              "      <td>0</td>\n",
              "    </tr>\n",
              "    <tr>\n",
              "      <th>...</th>\n",
              "      <td>...</td>\n",
              "      <td>...</td>\n",
              "      <td>...</td>\n",
              "      <td>...</td>\n",
              "    </tr>\n",
              "    <tr>\n",
              "      <th>399</th>\n",
              "      <td>3.248655</td>\n",
              "      <td>2.297291</td>\n",
              "      <td>3.388138</td>\n",
              "      <td>2</td>\n",
              "    </tr>\n",
              "    <tr>\n",
              "      <th>400</th>\n",
              "      <td>4.100000</td>\n",
              "      <td>5.100000</td>\n",
              "      <td>0.504558</td>\n",
              "      <td>3</td>\n",
              "    </tr>\n",
              "    <tr>\n",
              "      <th>401</th>\n",
              "      <td>3.900000</td>\n",
              "      <td>4.900000</td>\n",
              "      <td>0.941634</td>\n",
              "      <td>3</td>\n",
              "    </tr>\n",
              "    <tr>\n",
              "      <th>402</th>\n",
              "      <td>4.000000</td>\n",
              "      <td>5.000000</td>\n",
              "      <td>0.702123</td>\n",
              "      <td>3</td>\n",
              "    </tr>\n",
              "    <tr>\n",
              "      <th>403</th>\n",
              "      <td>4.100000</td>\n",
              "      <td>5.100000</td>\n",
              "      <td>0.887645</td>\n",
              "      <td>3</td>\n",
              "    </tr>\n",
              "  </tbody>\n",
              "</table>\n",
              "<p>404 rows × 4 columns</p>\n",
              "</div>\n",
              "      <button class=\"colab-df-convert\" onclick=\"convertToInteractive('df-00a885b1-1819-450c-9fd6-a129c0c92ac0')\"\n",
              "              title=\"Convert this dataframe to an interactive table.\"\n",
              "              style=\"display:none;\">\n",
              "        \n",
              "  <svg xmlns=\"http://www.w3.org/2000/svg\" height=\"24px\"viewBox=\"0 0 24 24\"\n",
              "       width=\"24px\">\n",
              "    <path d=\"M0 0h24v24H0V0z\" fill=\"none\"/>\n",
              "    <path d=\"M18.56 5.44l.94 2.06.94-2.06 2.06-.94-2.06-.94-.94-2.06-.94 2.06-2.06.94zm-11 1L8.5 8.5l.94-2.06 2.06-.94-2.06-.94L8.5 2.5l-.94 2.06-2.06.94zm10 10l.94 2.06.94-2.06 2.06-.94-2.06-.94-.94-2.06-.94 2.06-2.06.94z\"/><path d=\"M17.41 7.96l-1.37-1.37c-.4-.4-.92-.59-1.43-.59-.52 0-1.04.2-1.43.59L10.3 9.45l-7.72 7.72c-.78.78-.78 2.05 0 2.83L4 21.41c.39.39.9.59 1.41.59.51 0 1.02-.2 1.41-.59l7.78-7.78 2.81-2.81c.8-.78.8-2.07 0-2.86zM5.41 20L4 18.59l7.72-7.72 1.47 1.35L5.41 20z\"/>\n",
              "  </svg>\n",
              "      </button>\n",
              "      \n",
              "  <style>\n",
              "    .colab-df-container {\n",
              "      display:flex;\n",
              "      flex-wrap:wrap;\n",
              "      gap: 12px;\n",
              "    }\n",
              "\n",
              "    .colab-df-convert {\n",
              "      background-color: #E8F0FE;\n",
              "      border: none;\n",
              "      border-radius: 50%;\n",
              "      cursor: pointer;\n",
              "      display: none;\n",
              "      fill: #1967D2;\n",
              "      height: 32px;\n",
              "      padding: 0 0 0 0;\n",
              "      width: 32px;\n",
              "    }\n",
              "\n",
              "    .colab-df-convert:hover {\n",
              "      background-color: #E2EBFA;\n",
              "      box-shadow: 0px 1px 2px rgba(60, 64, 67, 0.3), 0px 1px 3px 1px rgba(60, 64, 67, 0.15);\n",
              "      fill: #174EA6;\n",
              "    }\n",
              "\n",
              "    [theme=dark] .colab-df-convert {\n",
              "      background-color: #3B4455;\n",
              "      fill: #D2E3FC;\n",
              "    }\n",
              "\n",
              "    [theme=dark] .colab-df-convert:hover {\n",
              "      background-color: #434B5C;\n",
              "      box-shadow: 0px 1px 3px 1px rgba(0, 0, 0, 0.15);\n",
              "      filter: drop-shadow(0px 1px 2px rgba(0, 0, 0, 0.3));\n",
              "      fill: #FFFFFF;\n",
              "    }\n",
              "  </style>\n",
              "\n",
              "      <script>\n",
              "        const buttonEl =\n",
              "          document.querySelector('#df-00a885b1-1819-450c-9fd6-a129c0c92ac0 button.colab-df-convert');\n",
              "        buttonEl.style.display =\n",
              "          google.colab.kernel.accessAllowed ? 'block' : 'none';\n",
              "\n",
              "        async function convertToInteractive(key) {\n",
              "          const element = document.querySelector('#df-00a885b1-1819-450c-9fd6-a129c0c92ac0');\n",
              "          const dataTable =\n",
              "            await google.colab.kernel.invokeFunction('convertToInteractive',\n",
              "                                                     [key], {});\n",
              "          if (!dataTable) return;\n",
              "\n",
              "          const docLinkHtml = 'Like what you see? Visit the ' +\n",
              "            '<a target=\"_blank\" href=https://colab.research.google.com/notebooks/data_table.ipynb>data table notebook</a>'\n",
              "            + ' to learn more about interactive tables.';\n",
              "          element.innerHTML = '';\n",
              "          dataTable['output_type'] = 'display_data';\n",
              "          await google.colab.output.renderOutput(dataTable, element);\n",
              "          const docLink = document.createElement('div');\n",
              "          docLink.innerHTML = docLinkHtml;\n",
              "          element.appendChild(docLink);\n",
              "        }\n",
              "      </script>\n",
              "    </div>\n",
              "  </div>\n",
              "  "
            ]
          },
          "metadata": {},
          "execution_count": 6
        }
      ],
      "source": [
        "# Convert the labels of the defined classes from 1-7 to 0-6 as model prediction is between 0-6\n",
        "df_2.loc[df_2['Class']==1,'Class'] = 0\n",
        "df_2.loc[df_2['Class']==2,'Class'] = 1\n",
        "df_2.loc[df_2['Class']==3,'Class'] = 2\n",
        "df_2.loc[df_2['Class']==4,'Class'] = 3\n",
        "df_2\n"
      ]
    },
    {
      "cell_type": "code",
      "execution_count": null,
      "metadata": {
        "colab": {
          "base_uri": "https://localhost:8080/"
        },
        "id": "ZNAvjNBWibZi",
        "outputId": "e4be8667-8968-4684-dbed-c12ae07a2d16"
      },
      "outputs": [
        {
          "output_type": "stream",
          "name": "stdout",
          "text": [
            "[1 0 0 1 0 1 1 1 1 0 0 1 1 0 0 1 0 0 0 0 0 1 0 0 0 0 1 1 1 1 1 1 0 1 1 1 0\n",
            " 0 1 0 1 0 0 1 0 0 0 1 1 1 0 1 1 0 0 1 0 1 0 0 1 0 1 0 1 0 0 0 0 0 0 0 0 1\n",
            " 0 1 1 0 0 0 1 0 0 0 1 1 1 0 1 0 0 1 0 0 0 1 0 0 1 1 1 1 0 1 0 1 0 0 1 1 0\n",
            " 0 0 1 0 0 0 1 0 0 1 0 0 0 1 0 0 0 0 0 0 1 0 0 0 0 0 1 1 1 1 0 0 1 1 0 0 1\n",
            " 1 0 1 1 0 0 0 0 0 1 0 0 0 0 0 1 1 0 1 1 1 0 0 1 0 0 1 0 0 1 1 0 1 1 0 1 0\n",
            " 1 0 0 0 0 1 1 0 0 0 1 0 0 1 0 3 3 3 3 3 3 0 3 3 3 3 3 3 3 3 3 3 0 3 3 0 3\n",
            " 3 3 3 3 3 3 0 3 3 0 3 3 3 3 3 3 3 3 3 0 3 3 3 3 3 3 3 3 0 3 3 3 3 3 3 3 0\n",
            " 3 0 0 3 3 3 0 0 0 3 0 3 3 3 3 3 3 3 0 3 3 3 0 0 3 3 3 0 3 3 3 3 3 3 0 3 3\n",
            " 3 0 0 3 2 2 2 2 2 2 2 2 2 2 2 2 2 2 2 2 2 2 2 2 2 2 2 2 2 2 2 2 2 2 2 2 2\n",
            " 2 2 2 2 2 2 2 2 2 2 2 2 2 2 2 2 2 2 2 2 2 2 2 2 2 2 2 2 2 2 2 2 2 2 2 2 2\n",
            " 2 2 2 2 2 2 2 2 2 2 2 2 2 2 2 2 2 2 2 2 2 2 2 2 2 2 2 2 2 2 2 2 2 2]\n",
            "\n",
            "\n",
            "Accuracy Score : 0.5371287128712872\n",
            "F1 Score : 0.4181749622926093\n"
          ]
        }
      ],
      "source": [
        "from sklearn.cluster import KMeans\n",
        "from sklearn.metrics import adjusted_rand_score, accuracy_score, f1_score\n",
        "from sklearn.preprocessing import MinMaxScaler\n",
        "# Using min max scaler to scale the features for better model fit\n",
        "#scaler = MinMaxScaler()\n",
        "#model = scaler.fit(df_2.iloc[:,1:4])\n",
        "#scaled_data = model.transform(df_2.iloc[:,1:4])\n",
        "#scaled_df_2 = pd.DataFrame(scaled_data, columns=[\"X1\",\"X2\",\"X3\"])\n",
        "\n",
        "# Kmeans clustering model\n",
        "\n",
        "km = KMeans(n_clusters=4,random_state=10)\n",
        "km.fit_predict(df_2)\n",
        "print(km.labels_)\n",
        "\n",
        "print(\"\\n\")\n",
        "print(\"Accuracy Score :\",accuracy_score(df_2['Class'],km.labels_))\n",
        "print(\"F1 Score :\", f1_score(df_2['Class'], km.labels_, average=\"macro\"))\n",
        "#print(\"Adjusted Random Index :\",adjusted_rand_score(df_2['Class'],km.labels_))"
      ]
    },
    {
      "cell_type": "code",
      "execution_count": null,
      "metadata": {
        "colab": {
          "base_uri": "https://localhost:8080/",
          "height": 428
        },
        "id": "dXlggsk7LsgV",
        "outputId": "c51a67c2-3583-4c50-8e9f-8eed4da92387"
      },
      "outputs": [
        {
          "output_type": "display_data",
          "data": {
            "text/plain": [
              "<Figure size 864x504 with 1 Axes>"
            ],
            "image/png": "[encoded data removed]"
          },
          "metadata": {
            "needs_background": "light"
          }
        }
      ],
      "source": [
        "from sklearn.cluster import AgglomerativeClustering\n",
        "import scipy.cluster.hierarchy as shc\n",
        "mdl2=AgglomerativeClustering()\n",
        "mdl2.fit(df_2)\n",
        "mdl2.labels_\n",
        "\n",
        "Z2 = AgglomerativeClustering(n_clusters=2, linkage='ward')\n",
        "dend = shc.dendrogram(shc.linkage(df_2.iloc[:,0:3], method='ward'))\n",
        "plt.axhline(y=30, color='r', linestyle='--')\n",
        "plt.gcf().set_size_inches(12,7)"
      ]
    },
    {
      "cell_type": "code",
      "execution_count": null,
      "metadata": {
        "colab": {
          "base_uri": "https://localhost:8080/",
          "height": 542
        },
        "id": "aAKQdoBsiuLn",
        "outputId": "ef00f247-4a98-429b-c8e4-1d7bead9a8be"
      },
      "outputs": [
        {
          "output_type": "display_data",
          "data": {
            "text/html": [
              "<html>\n",
              "<head><meta charset=\"utf-8\" /></head>\n",
              "<body>\n",
              "    <div>            <script src=\"https://cdnjs.cloudflare.com/ajax/libs/mathjax/2.7.5/MathJax.js?config=TeX-AMS-MML_SVG\"></script><script type=\"text/javascript\">if (window.MathJax) {MathJax.Hub.Config({SVG: {font: \"STIX-Web\"}});}</script>                <script type=\"text/javascript\">window.PlotlyConfig = {MathJaxConfig: 'local'};</script>\n",
              "        <script src=\"https://cdn.plot.ly/plotly-2.8.3.min.js\"></script>                <div id=\"303f4b13-98cc-456d-ac27-4282808fbaf9\" class=\"plotly-graph-div\" style=\"height:525px; width:100%;\"></div>            <script type=\"text/javascript\">                                    window.PLOTLYENV=window.PLOTLYENV || {};                                    if (document.getElementById(\"303f4b13-98cc-456d-ac27-4282808fbaf9\")) {                    Plotly.newPlot(                        \"303f4b13-98cc-456d-ac27-4282808fbaf9\",                        [{\"hovertemplate\":\"X=%{x}<br>Y=%{y}<br>C=%{z}<br>color=%{marker.color}<extra></extra>\",\"legendgroup\":\"\",\"marker\":{\"color\":[1,0,0,1,0,1,1,1,1,0,0,1,1,0,0,1,0,0,0,0,0,1,0,0,0,0,1,1,1,1,1,1,0,1,1,1,0,0,1,0,1,0,0,1,0,0,0,1,1,1,0,1,1,0,0,1,0,1,0,0,1,0,1,0,1,0,0,0,0,0,0,0,0,1,0,1,1,0,0,0,1,0,0,0,1,1,1,0,1,0,0,1,0,0,0,1,0,0,1,1,1,1,0,1,0,1,0,0,1,1,0,0,0,1,0,0,0,1,0,0,1,0,0,0,1,0,0,0,0,0,0,1,0,0,0,0,0,1,1,1,1,0,0,1,1,0,0,1,1,0,1,1,0,0,0,0,0,1,0,0,0,0,0,1,1,0,1,1,1,0,0,1,0,0,1,0,0,1,1,0,1,1,0,1,0,1,0,0,0,0,1,1,0,0,0,1,0,0,1,0,3,3,3,3,3,3,0,3,3,3,3,3,3,3,3,3,3,0,3,3,0,3,3,3,3,3,3,3,0,3,3,0,3,3,3,3,3,3,3,3,3,0,3,3,3,3,3,3,3,3,0,3,3,3,3,3,3,3,0,3,0,0,3,3,3,0,0,0,3,0,3,3,3,3,3,3,3,0,3,3,3,0,0,3,3,3,0,3,3,3,3,3,3,0,3,3,3,0,0,3,2,2,2,2,2,2,2,2,2,2,2,2,2,2,2,2,2,2,2,2,2,2,2,2,2,2,2,2,2,2,2,2,2,2,2,2,2,2,2,2,2,2,2,2,2,2,2,2,2,2,2,2,2,2,2,2,2,2,2,2,2,2,2,2,2,2,2,2,2,2,2,2,2,2,2,2,2,2,2,2,2,2,2,2,2,2,2,2,2,2,2,2,2,2,2,2,2,2,2,2,2,2,2,2],\"coloraxis\":\"coloraxis\",\"symbol\":\"circle\"},\"mode\":\"markers\",\"name\":\"\",\"scene\":\"scene\",\"showlegend\":false,\"x\":[3.277701,0.387577,0.268546,2.031145,0.188677,3.525472,2.229583,3.392074,3.589815,1.227873,1.300699,3.596968,3.106757,0.221139,1.496841,2.860498,1.45071,1.745799,1.4048,1.7696,0.464511,2.750803,1.571006,1.18166,0.661957,0.828567,3.313914,3.625645,3.611238,2.904519,3.080431,3.851167,0.944956,3.834215,2.179064,2.716449,0.02978,0.095525,3.835506,1.142732,3.747439,0.948862,0.160755,3.288779,1.35625,0.91626,1.252876,2.471178,2.364922,2.172301,0.671267,2.165402,2.661288,1.92646,1.899647,3.82986,1.133497,2.309857,1.371371,0.151858,2.096938,1.30049,3.534799,1.217877,2.726977,0.682141,0.837813,0.799211,0.042015,0.520977,0.71972,0.197504,1.724494,3.57454,1.416691,3.037057,3.644992,0.049575,1.023898,1.815563,2.312471,0.855281,0.760641,1.48494,2.725697,2.789323,3.803611,1.591552,3.102531,0.565235,0.985402,2.948159,1.323618,0.552512,0.635387,3.928676,0.780925,1.872623,2.759808,3.504794,3.683266,2.441121,0.031457,3.387011,1.982598,2.696483,1.159278,0.576024,3.538351,3.304712,0.438501,1.937908,1.434005,3.112876,0.413395,1.358768,1.731313,2.130866,0.057906,1.365225,3.101071,0.331075,1.086791,1.996396,3.845884,0.985853,1.688165,0.161953,0.287702,0.972789,1.30506,3.515395,1.736284,1.788111,0.692963,0.459059,1.421594,3.222115,3.055062,3.439667,2.742587,0.258403,1.707936,3.110911,2.199103,1.784882,1.886291,2.886793,2.7774,1.463492,2.073286,3.728174,0.0787,1.37351,0.698877,0.448893,0.735566,2.724216,1.635384,1.288393,1.18528,0.452272,1.020964,3.465723,2.532696,0.985995,2.750285,2.577899,3.036657,1.564616,1.518451,3.142274,1.483197,1.293469,3.176521,0.398666,1.717029,2.777236,2.702432,1.807774,2.882574,3.29973,0.725724,2.92698,1.434889,3.61203,1.258017,1.286561,0.689474,0.598052,3.499457,3.093691,1.431273,0.460369,0.884156,3.275009,1.164767,0.039219,2.412745,0.833625,0.725273,0.573147,1.177763,0.661644,0.652245,0.812158,0.652892,0.963136,1.328618,1.49669,1.152723,1.369882,1.49389,1.34549,0.819666,1.107822,1.283312,0.748762,0.821916,0.90795,1.060966,1.20534,1.477937,1.097946,0.938634,0.780331,0.903332,0.5591,1.173636,1.347315,1.288732,1.376571,0.892292,0.703477,1.142235,1.001787,0.777779,0.652697,0.721173,0.967501,1.334662,1.368845,0.776253,0.746947,1.411469,0.740597,1.184165,1.452709,1.341934,0.759816,1.273906,0.891859,1.011748,1.054506,1.021894,1.249096,0.596855,0.64177,1.041153,1.220983,0.850268,1.312062,0.707436,1.019011,0.783086,0.7404,0.5208,1.381679,0.658734,0.611377,1.099438,1.361092,0.876255,0.690748,0.701393,1.253097,1.057211,1.241162,0.840611,0.519795,1.23516,0.584467,1.418398,1.370529,0.966071,0.748149,0.533105,0.813012,1.380626,1.038899,1.174998,1.482927,0.795556,0.550885,0.597946,1.219187,1.422764,1.265363,1.139539,0.668471,3.841499,3.265874,2.419956,3.131922,1.919251,3.653976,3.21453,2.781111,2.402959,3.182097,3.198566,2.505896,2.983629,2.700613,2.507695,2.878039,2.568892,2.69394,3.527832,3.203677,2.777954,3.78305,3.304181,3.977555,3.263746,3.045912,2.879968,3.233598,4.229498,2.379583,3.162948,2.428762,3.541297,2.638412,2.783332,3.186008,2.027834,2.191808,2.681085,2.987601,2.783705,2.726431,3.236021,3.104434,2.393173,2.597097,2.878632,3.326832,3.196477,2.653013,2.855684,3.032148,2.70028,3.716787,2.51471,3.02421,3.157008,2.756181,2.742568,2.592192,2.626225,2.508567,3.099795,3.283033,3.23753,3.104924,2.502861,3.619561,3.154704,2.889961,2.669538,3.391711,3.041719,2.94886,2.974983,2.85135,3.041585,3.27871,3.154729,2.993547,2.452315,2.833249,2.972504,2.882325,2.810947,2.286906,2.895769,2.395709,2.873213,2.678611,2.767651,2.288566,3.37523,3.366669,2.849598,2.636088,2.9383,3.080906,2.404517,3.248655,4.1,3.9,4.0,4.1],\"y\":[0.814082,0.17678,0.582963,0.244597,0.46128,0.265579,0.682189,0.420976,0.832527,0.810909,0.146538,0.421791,0.779664,0.612603,0.495985,0.535719,0.142352,0.066373,0.32968,0.777809,0.672442,0.16552,0.091428,0.857799,0.612812,0.798048,0.216602,0.538592,0.584716,0.465036,0.24549,0.574214,0.077006,0.224878,0.784896,0.944268,0.931252,0.349743,0.889721,0.811691,0.654886,0.122011,0.702042,0.737797,0.029101,0.59616,0.500998,0.39643,0.992772,0.283717,0.055467,0.152,0.467768,0.74119,0.649203,0.726794,0.516173,0.767935,0.956664,0.284416,0.411357,0.720155,0.181775,0.460971,0.699328,0.054686,0.912877,0.501879,0.689603,0.079651,0.445045,0.36273,0.670107,0.08528,0.723741,0.548241,0.349585,0.013442,0.977225,0.32859,0.520445,0.42998,0.724534,0.793583,0.764628,0.243674,0.25148,0.431951,0.674293,0.679348,0.187597,0.311962,0.644543,0.648435,0.474052,0.204357,0.800335,0.814694,0.162941,0.648843,0.59175,0.097041,0.462131,0.07938,0.588441,0.24238,0.190088,0.996298,0.281543,0.77258,0.884463,0.82629,0.338369,0.655144,0.150636,0.479656,0.95869,0.004658,0.933944,0.699019,0.982575,0.263808,0.353972,0.528335,0.795806,0.434387,0.938172,0.829518,0.857928,0.916516,0.621873,0.462665,0.812699,0.112125,0.831389,0.283671,0.942622,0.997386,0.603635,0.514822,0.603127,0.395579,0.209115,0.81924,0.812362,0.387625,0.684541,0.942807,0.706607,0.491627,0.916573,0.954035,0.263543,0.62181,0.482423,0.098618,0.119708,0.58073,0.533324,0.847085,0.543564,0.70928,0.583399,0.52496,0.959479,0.008335,0.620354,0.245998,0.930898,0.954967,0.978359,0.434848,0.185676,0.897792,0.047388,0.166009,0.111247,0.026691,0.510408,0.762573,0.514512,0.231124,0.585824,0.244504,0.489006,0.621951,0.242269,0.568048,0.760472,0.279905,0.153595,0.158748,0.568599,0.295192,0.513333,0.432164,0.62918,0.052828,0.512431,0.325255,3.965634,2.923034,2.565923,3.973707,2.253018,3.260725,1.693079,4.958545,3.566781,5.272268,3.543348,2.380564,4.247095,5.278332,4.616232,4.153609,4.321069,1.619142,4.852253,3.163114,1.963245,4.321613,5.03948,2.953946,3.012962,5.235518,4.814365,3.571814,2.044423,5.234,2.683106,2.091436,3.81059,3.956213,4.972135,4.217102,4.493622,4.836891,2.798064,5.367249,2.597372,1.77,4.234287,4.667021,4.074821,4.389994,3.031102,4.177391,4.679407,3.996869,1.534234,5.165834,3.99935,2.504006,4.436951,3.361231,2.324431,4.391472,1.863353,4.447128,2.060747,1.586404,3.389818,4.508529,2.760037,1.656725,1.722157,1.903451,2.418634,1.720026,3.206013,4.829104,2.389184,5.011891,3.863155,4.650538,3.862135,1.7,4.937659,2.816374,3.869624,1.922548,1.71,3.740063,4.68502,4.103231,2.028217,4.871033,5.043905,5.385811,4.070992,3.678969,4.257588,1.687598,3.506649,3.456902,3.827562,1.935044,2.153101,3.331001,2.712392,3.353799,2.641744,2.59268,3.015192,2.494605,1.966662,2.277463,2.802239,2.135258,3.048673,2.598232,2.547538,2.653876,2.471939,2.268676,2.687723,3.019875,3.153919,2.218877,2.822901,2.08902,3.017798,2.505972,2.587482,3.185275,1.668478,2.545167,2.065403,1.876676,2.754962,2.33817,2.33867,2.533631,2.32586,2.274951,2.851225,2.17414,2.396655,2.69732,2.178922,2.496669,2.751028,2.561753,3.532294,1.977501,2.90941,2.811118,2.166446,2.265335,2.526266,2.495063,2.469205,1.876565,3.181043,2.312406,2.537848,2.614829,2.867741,2.704054,2.598176,1.939792,2.887828,3.137479,1.924833,1.886308,2.470116,2.532584,2.162704,2.274144,2.488717,2.002519,2.793216,2.523832,2.559658,3.138343,2.1891,3.120111,2.922001,2.433338,2.625794,3.067828,2.630939,2.690261,2.659502,2.470892,3.025914,2.891312,3.188846,2.335079,2.726053,2.79594,2.588055,3.025123,2.751661,2.056805,2.321199,2.209603,2.641618,2.297291,5.1,4.9,5.0,5.1],\"z\":[0.326573856831138,0.888045708864652,0.0809813803530142,0.64392063197717,0.496633379643104,0.138218731427085,0.478728676224991,0.987709329412309,0.306473263373742,0.544637870254412,0.367677544409753,0.036302286964087,0.385608246956509,0.340417316158185,0.780815254049801,0.57000310797545,0.650461491902006,0.558493249926034,0.789414771922745,0.4535391544335,0.323684085216971,0.260501731246459,0.543439210922078,0.372589863576832,0.324948164701079,0.176660526517658,-0.130562289784722,0.898669005428379,0.622582095407145,0.967310487142659,0.362340242009018,0.503462992885378,0.862329087827268,0.122092768027093,0.434730113159621,0.908512654405299,0.852631742392815,0.170986462985554,0.49227095447613,0.590638452650047,0.348723404234723,0.397456679877004,0.535254925361395,-0.02119407410184,0.606451370634737,0.710663120346715,0.222243803106057,0.827105247946459,0.165629768857074,0.18785326053652,0.440006629095844,0.506616126797938,0.522378828420773,0.493740365834507,0.8690719523775,0.0237586244876842,0.638239104190062,0.399550611470484,0.565697128233596,0.199881089788323,0.223823576154854,0.0151737927093698,0.227932368364728,0.499887539899614,0.706023201169494,0.298687683933767,0.953678391847532,0.860529416625253,0.515411050208853,0.507410535573502,0.367067360450928,0.251217259390388,-0.151981699975169,0.397113142580172,0.184017621857711,0.37530205246415,0.25771676928249,0.324163018242981,0.640570181712743,0.43172137597497,0.308366078088721,9.1956890344691e-05,0.473150891242773,0.642913120437378,0.599539897717609,0.539293246648888,0.487075012636802,0.70798339675433,0.301550950244327,0.593125309195897,0.504233433160889,0.452148983173417,0.339045179562076,0.400129616950149,0.0721178534135228,0.614233419969818,0.307728279591275,0.616328538187997,0.371606235882674,0.999848591696447,0.645324081590491,0.0586119413493259,0.36336729255495,0.411817854555232,-0.0249249013127754,0.592476268796776,1.04852263654705,0.302348413144577,0.390613895989224,0.541622608845517,0.598172448300209,0.404285020517701,0.385989973437623,0.743709350169904,0.481736131035696,0.573598018539028,0.354163633798571,0.510662917187943,0.416218537397013,0.73987767437096,0.436840903456866,1.17026622560056,-0.0609182242524399,0.579497942394171,0.133032228417516,0.367194633215857,0.570423301756743,-0.103526567007088,0.783592982225116,0.334862650478485,0.273150617834123,1.13333993514605,0.620958315603137,0.15921198284139,0.894905535777146,0.582792697258072,0.640237828797574,0.857977140136496,0.121684455773517,0.686799196928356,0.169101497617044,0.437819881527815,0.531356856798199,0.728598179886271,0.330839629167975,-0.0317083336285212,0.740677157590686,0.425402968630414,0.622960647521126,0.080769902013863,0.373028547262823,0.453229185120723,0.321502653008936,0.214944161832809,0.760187935864038,0.11850639572969,0.361581254428943,0.755788107523488,0.530709612856289,0.342361539983797,0.0637745177492376,0.697639947797451,0.407426703627463,1.34146607694378,0.712404974306231,0.52754268032534,0.289440129251125,0.871875411218409,0.611779803174208,0.395705989381507,0.587111929953378,0.924905383738756,0.31597964619897,0.471828292355041,0.422673843098391,0.468011257390252,0.340076970815792,0.586680266005217,0.604656988159904,0.608189518365252,0.49544847233879,0.610821876950985,0.353577382177324,0.380749168450093,0.81944438508422,0.414565769600733,0.602688539692792,0.0978465805438009,0.568097242223355,0.442048905027581,0.491653550749004,0.507083844676157,0.713993729212753,0.211164242054637,0.236558286343937,0.580602071444737,0.719444026909915,0.537565696264785,0.282587344213725,0.151764336637285,0.920444892403381,1.20969390613757,0.51996732919538,1.76283832116499,1.27036068105641,1.37518487092787,1.06880937007162,0.526752711300195,1.10585853708799,1.32111119514463,0.455291675965557,0.885571695020348,1.01294807696834,1.28815300582006,1.09313129092374,1.16440593464237,1.28457147310018,0.597545078072687,1.05321490871023,1.27830816371902,0.63370243232273,0.728975637821888,1.0458608148596,1.33591110980476,1.25637814294566,1.07031418412762,1.00066168416677,0.947084989975164,0.927739730011109,1.25117846464819,0.714366109204274,0.692026582656269,1.46176594366859,0.995045686644208,0.882506949902449,1.08737133725917,0.86173972703216,1.23717201858995,1.028197005624,0.634208664177712,0.945747883189847,0.873402844947671,1.74946388216486,1.31967937461178,1.18209051509274,1.12224033037616,1.05206265781414,1.22444941642654,1.34975407696763,0.956808684485794,0.401781389032335,0.989669085659027,0.211331529393313,1.14233234249887,0.66756900741116,1.25680059608081,1.91018450728063,1.23008327328901,1.29235513704872,0.900200242606372,1.18585289755261,1.43274486564505,0.781813934342444,1.15328638225106,0.987066005600894,0.682321483331314,0.903246549244036,0.770325431819313,1.22118699438307,1.03967885066694,1.1055229321732,0.856087283263877,0.733210138266365,1.12546211447609,1.04016796355782,0.857838246768614,1.30777151825043,0.808294279061983,0.974864453459014,1.12345734119768,1.08342052724005,1.1494963712229,0.628030314332066,0.744283068669603,1.50382682571063,1.22536068376482,1.35184215906771,0.496962868360193,0.721033799888868,0.819034982090715,0.541247035245642,1.49843929154726,0.892386644570098,0.967483186761354,0.92478240946986,1.30497977456969,1.00204551506495,1.02795696492063,0.65637453101958,1.00173420692735,2.73515133329806,2.90396394158134,2.86966580870835,2.591485696516,2.67566839763709,1.8506404388019,2.55878410502027,1.87758967376381,2.15512481076583,2.24908946663497,2.80957649087877,2.68638875148721,2.58899953276333,2.73041294939673,2.65483975938242,2.85812033394486,2.06226326035372,2.25414596793151,2.30858466778278,2.8167926173085,2.00104207299648,2.56611035783095,2.73239854861263,2.07546955030045,3.30579835716575,2.56812908333112,2.814446126693,2.55855788423813,2.70559784626231,2.58429479263904,2.56210208410916,2.89277905502401,1.7781735168161,2.16047171564164,2.12786280961472,2.27889958816524,2.32563239628999,2.0102267247569,2.8185421058768,2.80159684188739,2.30179045168981,2.30161139028421,2.91525630068023,2.74694577690068,2.12300673932991,2.54078689773787,2.87932063927678,2.15914139372182,2.7071024289409,1.91968225853256,2.31901174176739,2.29204957744754,2.74040239603577,2.93769782279646,2.72626432290878,2.05977648250643,2.85079618076915,2.1782370507449,2.4174094067478,2.59349280874005,3.17804783801783,2.73102885579561,2.70617689765559,2.92096323656429,2.46275177968143,3.25506568698736,2.31743168481571,2.36222745017828,2.43570123375126,2.85976588431126,1.94177120326539,2.41839173762678,1.95368634301252,2.83165123206303,2.58059052560393,3.07104974749341,2.78562916859269,2.01934758123433,2.56549735685614,2.96773264022249,2.07105987485315,2.86298234711201,2.57219880194094,2.743407522983,2.78048942567501,2.61386110878961,2.40371024768261,2.53730122398881,2.59827440320057,2.22626814686924,2.91033016825421,2.62122898295636,2.7135908143041,2.79834056579861,3.03138104722325,2.75292186820536,2.18934065162007,2.68439361748379,2.66755947862564,3.38813839725304,0.504557508975267,0.94163431506604,0.702122579328716,0.887645078357309],\"type\":\"scatter3d\"}],                        {\"template\":{\"data\":{\"bar\":[{\"error_x\":{\"color\":\"#2a3f5f\"},\"error_y\":{\"color\":\"#2a3f5f\"},\"marker\":{\"line\":{\"color\":\"#E5ECF6\",\"width\":0.5},\"pattern\":{\"fillmode\":\"overlay\",\"size\":10,\"solidity\":0.2}},\"type\":\"bar\"}],\"barpolar\":[{\"marker\":{\"line\":{\"color\":\"#E5ECF6\",\"width\":0.5},\"pattern\":{\"fillmode\":\"overlay\",\"size\":10,\"solidity\":0.2}},\"type\":\"barpolar\"}],\"carpet\":[{\"aaxis\":{\"endlinecolor\":\"#2a3f5f\",\"gridcolor\":\"white\",\"linecolor\":\"white\",\"minorgridcolor\":\"white\",\"startlinecolor\":\"#2a3f5f\"},\"baxis\":{\"endlinecolor\":\"#2a3f5f\",\"gridcolor\":\"white\",\"linecolor\":\"white\",\"minorgridcolor\":\"white\",\"startlinecolor\":\"#2a3f5f\"},\"type\":\"carpet\"}],\"choropleth\":[{\"colorbar\":{\"outlinewidth\":0,\"ticks\":\"\"},\"type\":\"choropleth\"}],\"contour\":[{\"colorbar\":{\"outlinewidth\":0,\"ticks\":\"\"},\"colorscale\":[[0.0,\"#0d0887\"],[0.1111111111111111,\"#46039f\"],[0.2222222222222222,\"#7201a8\"],[0.3333333333333333,\"#9c179e\"],[0.4444444444444444,\"#bd3786\"],[0.5555555555555556,\"#d8576b\"],[0.6666666666666666,\"#ed7953\"],[0.7777777777777778,\"#fb9f3a\"],[0.8888888888888888,\"#fdca26\"],[1.0,\"#f0f921\"]],\"type\":\"contour\"}],\"contourcarpet\":[{\"colorbar\":{\"outlinewidth\":0,\"ticks\":\"\"},\"type\":\"contourcarpet\"}],\"heatmap\":[{\"colorbar\":{\"outlinewidth\":0,\"ticks\":\"\"},\"colorscale\":[[0.0,\"#0d0887\"],[0.1111111111111111,\"#46039f\"],[0.2222222222222222,\"#7201a8\"],[0.3333333333333333,\"#9c179e\"],[0.4444444444444444,\"#bd3786\"],[0.5555555555555556,\"#d8576b\"],[0.6666666666666666,\"#ed7953\"],[0.7777777777777778,\"#fb9f3a\"],[0.8888888888888888,\"#fdca26\"],[1.0,\"#f0f921\"]],\"type\":\"heatmap\"}],\"heatmapgl\":[{\"colorbar\":{\"outlinewidth\":0,\"ticks\":\"\"},\"colorscale\":[[0.0,\"#0d0887\"],[0.1111111111111111,\"#46039f\"],[0.2222222222222222,\"#7201a8\"],[0.3333333333333333,\"#9c179e\"],[0.4444444444444444,\"#bd3786\"],[0.5555555555555556,\"#d8576b\"],[0.6666666666666666,\"#ed7953\"],[0.7777777777777778,\"#fb9f3a\"],[0.8888888888888888,\"#fdca26\"],[1.0,\"#f0f921\"]],\"type\":\"heatmapgl\"}],\"histogram\":[{\"marker\":{\"pattern\":{\"fillmode\":\"overlay\",\"size\":10,\"solidity\":0.2}},\"type\":\"histogram\"}],\"histogram2d\":[{\"colorbar\":{\"outlinewidth\":0,\"ticks\":\"\"},\"colorscale\":[[0.0,\"#0d0887\"],[0.1111111111111111,\"#46039f\"],[0.2222222222222222,\"#7201a8\"],[0.3333333333333333,\"#9c179e\"],[0.4444444444444444,\"#bd3786\"],[0.5555555555555556,\"#d8576b\"],[0.6666666666666666,\"#ed7953\"],[0.7777777777777778,\"#fb9f3a\"],[0.8888888888888888,\"#fdca26\"],[1.0,\"#f0f921\"]],\"type\":\"histogram2d\"}],\"histogram2dcontour\":[{\"colorbar\":{\"outlinewidth\":0,\"ticks\":\"\"},\"colorscale\":[[0.0,\"#0d0887\"],[0.1111111111111111,\"#46039f\"],[0.2222222222222222,\"#7201a8\"],[0.3333333333333333,\"#9c179e\"],[0.4444444444444444,\"#bd3786\"],[0.5555555555555556,\"#d8576b\"],[0.6666666666666666,\"#ed7953\"],[0.7777777777777778,\"#fb9f3a\"],[0.8888888888888888,\"#fdca26\"],[1.0,\"#f0f921\"]],\"type\":\"histogram2dcontour\"}],\"mesh3d\":[{\"colorbar\":{\"outlinewidth\":0,\"ticks\":\"\"},\"type\":\"mesh3d\"}],\"parcoords\":[{\"line\":{\"colorbar\":{\"outlinewidth\":0,\"ticks\":\"\"}},\"type\":\"parcoords\"}],\"pie\":[{\"automargin\":true,\"type\":\"pie\"}],\"scatter\":[{\"marker\":{\"colorbar\":{\"outlinewidth\":0,\"ticks\":\"\"}},\"type\":\"scatter\"}],\"scatter3d\":[{\"line\":{\"colorbar\":{\"outlinewidth\":0,\"ticks\":\"\"}},\"marker\":{\"colorbar\":{\"outlinewidth\":0,\"ticks\":\"\"}},\"type\":\"scatter3d\"}],\"scattercarpet\":[{\"marker\":{\"colorbar\":{\"outlinewidth\":0,\"ticks\":\"\"}},\"type\":\"scattercarpet\"}],\"scattergeo\":[{\"marker\":{\"colorbar\":{\"outlinewidth\":0,\"ticks\":\"\"}},\"type\":\"scattergeo\"}],\"scattergl\":[{\"marker\":{\"colorbar\":{\"outlinewidth\":0,\"ticks\":\"\"}},\"type\":\"scattergl\"}],\"scattermapbox\":[{\"marker\":{\"colorbar\":{\"outlinewidth\":0,\"ticks\":\"\"}},\"type\":\"scattermapbox\"}],\"scatterpolar\":[{\"marker\":{\"colorbar\":{\"outlinewidth\":0,\"ticks\":\"\"}},\"type\":\"scatterpolar\"}],\"scatterpolargl\":[{\"marker\":{\"colorbar\":{\"outlinewidth\":0,\"ticks\":\"\"}},\"type\":\"scatterpolargl\"}],\"scatterternary\":[{\"marker\":{\"colorbar\":{\"outlinewidth\":0,\"ticks\":\"\"}},\"type\":\"scatterternary\"}],\"surface\":[{\"colorbar\":{\"outlinewidth\":0,\"ticks\":\"\"},\"colorscale\":[[0.0,\"#0d0887\"],[0.1111111111111111,\"#46039f\"],[0.2222222222222222,\"#7201a8\"],[0.3333333333333333,\"#9c179e\"],[0.4444444444444444,\"#bd3786\"],[0.5555555555555556,\"#d8576b\"],[0.6666666666666666,\"#ed7953\"],[0.7777777777777778,\"#fb9f3a\"],[0.8888888888888888,\"#fdca26\"],[1.0,\"#f0f921\"]],\"type\":\"surface\"}],\"table\":[{\"cells\":{\"fill\":{\"color\":\"#EBF0F8\"},\"line\":{\"color\":\"white\"}},\"header\":{\"fill\":{\"color\":\"#C8D4E3\"},\"line\":{\"color\":\"white\"}},\"type\":\"table\"}]},\"layout\":{\"annotationdefaults\":{\"arrowcolor\":\"#2a3f5f\",\"arrowhead\":0,\"arrowwidth\":1},\"autotypenumbers\":\"strict\",\"coloraxis\":{\"colorbar\":{\"outlinewidth\":0,\"ticks\":\"\"}},\"colorscale\":{\"diverging\":[[0,\"#8e0152\"],[0.1,\"#c51b7d\"],[0.2,\"#de77ae\"],[0.3,\"#f1b6da\"],[0.4,\"#fde0ef\"],[0.5,\"#f7f7f7\"],[0.6,\"#e6f5d0\"],[0.7,\"#b8e186\"],[0.8,\"#7fbc41\"],[0.9,\"#4d9221\"],[1,\"#276419\"]],\"sequential\":[[0.0,\"#0d0887\"],[0.1111111111111111,\"#46039f\"],[0.2222222222222222,\"#7201a8\"],[0.3333333333333333,\"#9c179e\"],[0.4444444444444444,\"#bd3786\"],[0.5555555555555556,\"#d8576b\"],[0.6666666666666666,\"#ed7953\"],[0.7777777777777778,\"#fb9f3a\"],[0.8888888888888888,\"#fdca26\"],[1.0,\"#f0f921\"]],\"sequentialminus\":[[0.0,\"#0d0887\"],[0.1111111111111111,\"#46039f\"],[0.2222222222222222,\"#7201a8\"],[0.3333333333333333,\"#9c179e\"],[0.4444444444444444,\"#bd3786\"],[0.5555555555555556,\"#d8576b\"],[0.6666666666666666,\"#ed7953\"],[0.7777777777777778,\"#fb9f3a\"],[0.8888888888888888,\"#fdca26\"],[1.0,\"#f0f921\"]]},\"colorway\":[\"#636efa\",\"#EF553B\",\"#00cc96\",\"#ab63fa\",\"#FFA15A\",\"#19d3f3\",\"#FF6692\",\"#B6E880\",\"#FF97FF\",\"#FECB52\"],\"font\":{\"color\":\"#2a3f5f\"},\"geo\":{\"bgcolor\":\"white\",\"lakecolor\":\"white\",\"landcolor\":\"#E5ECF6\",\"showlakes\":true,\"showland\":true,\"subunitcolor\":\"white\"},\"hoverlabel\":{\"align\":\"left\"},\"hovermode\":\"closest\",\"mapbox\":{\"style\":\"light\"},\"paper_bgcolor\":\"white\",\"plot_bgcolor\":\"#E5ECF6\",\"polar\":{\"angularaxis\":{\"gridcolor\":\"white\",\"linecolor\":\"white\",\"ticks\":\"\"},\"bgcolor\":\"#E5ECF6\",\"radialaxis\":{\"gridcolor\":\"white\",\"linecolor\":\"white\",\"ticks\":\"\"}},\"scene\":{\"xaxis\":{\"backgroundcolor\":\"#E5ECF6\",\"gridcolor\":\"white\",\"gridwidth\":2,\"linecolor\":\"white\",\"showbackground\":true,\"ticks\":\"\",\"zerolinecolor\":\"white\"},\"yaxis\":{\"backgroundcolor\":\"#E5ECF6\",\"gridcolor\":\"white\",\"gridwidth\":2,\"linecolor\":\"white\",\"showbackground\":true,\"ticks\":\"\",\"zerolinecolor\":\"white\"},\"zaxis\":{\"backgroundcolor\":\"#E5ECF6\",\"gridcolor\":\"white\",\"gridwidth\":2,\"linecolor\":\"white\",\"showbackground\":true,\"ticks\":\"\",\"zerolinecolor\":\"white\"}},\"shapedefaults\":{\"line\":{\"color\":\"#2a3f5f\"}},\"ternary\":{\"aaxis\":{\"gridcolor\":\"white\",\"linecolor\":\"white\",\"ticks\":\"\"},\"baxis\":{\"gridcolor\":\"white\",\"linecolor\":\"white\",\"ticks\":\"\"},\"bgcolor\":\"#E5ECF6\",\"caxis\":{\"gridcolor\":\"white\",\"linecolor\":\"white\",\"ticks\":\"\"}},\"title\":{\"x\":0.05},\"xaxis\":{\"automargin\":true,\"gridcolor\":\"white\",\"linecolor\":\"white\",\"ticks\":\"\",\"title\":{\"standoff\":15},\"zerolinecolor\":\"white\",\"zerolinewidth\":2},\"yaxis\":{\"automargin\":true,\"gridcolor\":\"white\",\"linecolor\":\"white\",\"ticks\":\"\",\"title\":{\"standoff\":15},\"zerolinecolor\":\"white\",\"zerolinewidth\":2}}},\"scene\":{\"domain\":{\"x\":[0.0,1.0],\"y\":[0.0,1.0]},\"xaxis\":{\"title\":{\"text\":\"X\"}},\"yaxis\":{\"title\":{\"text\":\"Y\"}},\"zaxis\":{\"title\":{\"text\":\"C\"}}},\"coloraxis\":{\"colorbar\":{\"title\":{\"text\":\"color\"}},\"colorscale\":[[0.0,\"#0d0887\"],[0.1111111111111111,\"#46039f\"],[0.2222222222222222,\"#7201a8\"],[0.3333333333333333,\"#9c179e\"],[0.4444444444444444,\"#bd3786\"],[0.5555555555555556,\"#d8576b\"],[0.6666666666666666,\"#ed7953\"],[0.7777777777777778,\"#fb9f3a\"],[0.8888888888888888,\"#fdca26\"],[1.0,\"#f0f921\"]]},\"legend\":{\"tracegroupgap\":0},\"margin\":{\"t\":60}},                        {\"responsive\": true}                    ).then(function(){\n",
              "                            \n",
              "var gd = document.getElementById('303f4b13-98cc-456d-ac27-4282808fbaf9');\n",
              "var x = new MutationObserver(function (mutations, observer) {{\n",
              "        var display = window.getComputedStyle(gd).display;\n",
              "        if (!display || display === 'none') {{\n",
              "            console.log([gd, 'removed!']);\n",
              "            Plotly.purge(gd);\n",
              "            observer.disconnect();\n",
              "        }}\n",
              "}});\n",
              "\n",
              "// Listen for the removal of the full notebook cells\n",
              "var notebookContainer = gd.closest('#notebook-container');\n",
              "if (notebookContainer) {{\n",
              "    x.observe(notebookContainer, {childList: true});\n",
              "}}\n",
              "\n",
              "// Listen for the clearing of the current output cell\n",
              "var outputEl = gd.closest('.output');\n",
              "if (outputEl) {{\n",
              "    x.observe(outputEl, {childList: true});\n",
              "}}\n",
              "\n",
              "                        })                };                            </script>        </div>\n",
              "</body>\n",
              "</html>"
            ]
          },
          "metadata": {}
        }
      ],
      "source": [
        "# 3D visuals of predicted clusters\n",
        "import plotly.express as px\n",
        "plot = px.scatter_3d(df_2, x=\"X\", y='Y', z='C', color=km.labels_)\n",
        "plot.show()"
      ]
    },
    {
      "cell_type": "code",
      "execution_count": null,
      "metadata": {
        "colab": {
          "base_uri": "https://localhost:8080/",
          "height": 542
        },
        "id": "ozEswU1Wiy-x",
        "outputId": "4d451423-4507-4751-dbc4-b7454e566853"
      },
      "outputs": [
        {
          "output_type": "display_data",
          "data": {
            "text/html": [
              "<html>\n",
              "<head><meta charset=\"utf-8\" /></head>\n",
              "<body>\n",
              "    <div>            <script src=\"https://cdnjs.cloudflare.com/ajax/libs/mathjax/2.7.5/MathJax.js?config=TeX-AMS-MML_SVG\"></script><script type=\"text/javascript\">if (window.MathJax) {MathJax.Hub.Config({SVG: {font: \"STIX-Web\"}});}</script>                <script type=\"text/javascript\">window.PlotlyConfig = {MathJaxConfig: 'local'};</script>\n",
              "        <script src=\"https://cdn.plot.ly/plotly-2.8.3.min.js\"></script>                <div id=\"1559a98d-d326-420c-ac66-894658c0af0e\" class=\"plotly-graph-div\" style=\"height:525px; width:100%;\"></div>            <script type=\"text/javascript\">                                    window.PLOTLYENV=window.PLOTLYENV || {};                                    if (document.getElementById(\"1559a98d-d326-420c-ac66-894658c0af0e\")) {                    Plotly.newPlot(                        \"1559a98d-d326-420c-ac66-894658c0af0e\",                        [{\"hovertemplate\":\"X=%{x}<br>Y=%{y}<br>C=%{z}<br>Class=%{marker.color}<extra></extra>\",\"legendgroup\":\"\",\"marker\":{\"color\":[0,0,0,0,0,0,0,0,0,0,0,0,0,0,0,0,0,0,0,0,0,0,0,0,0,0,0,0,0,0,0,0,0,0,0,0,0,0,0,0,0,0,0,0,0,0,0,0,0,0,0,0,0,0,0,0,0,0,0,0,0,0,0,0,0,0,0,0,0,0,0,0,0,0,0,0,0,0,0,0,0,0,0,0,0,0,0,0,0,0,0,0,0,0,0,0,0,0,0,0,0,0,0,0,0,0,0,0,0,0,0,0,0,0,0,0,0,0,0,0,0,0,0,0,0,0,0,0,0,0,0,0,0,0,0,0,0,0,0,0,0,0,0,0,0,0,0,0,0,0,0,0,0,0,0,0,0,0,0,0,0,0,0,0,0,0,0,0,0,0,0,0,0,0,0,0,0,0,0,0,0,0,0,0,0,0,0,0,0,0,0,0,0,0,0,0,0,0,0,0,1,1,1,1,1,1,1,1,1,1,1,1,1,1,1,1,1,1,1,1,1,1,1,1,1,1,1,1,1,1,1,1,1,1,1,1,1,1,1,1,1,1,1,1,1,1,1,1,1,1,1,1,1,1,1,1,1,1,1,1,1,1,1,1,1,1,1,1,1,1,1,1,1,1,1,1,1,1,1,1,1,1,1,1,1,1,1,1,1,1,1,1,1,1,1,1,1,1,1,1,2,2,2,2,2,2,2,2,2,2,2,2,2,2,2,2,2,2,2,2,2,2,2,2,2,2,2,2,2,2,2,2,2,2,2,2,2,2,2,2,2,2,2,2,2,2,2,2,2,2,2,2,2,2,2,2,2,2,2,2,2,2,2,2,2,2,2,2,2,2,2,2,2,2,2,2,2,2,2,2,2,2,2,2,2,2,2,2,2,2,2,2,2,2,2,2,2,2,2,2,3,3,3,3],\"coloraxis\":\"coloraxis\",\"symbol\":\"circle\"},\"mode\":\"markers\",\"name\":\"\",\"scene\":\"scene\",\"showlegend\":false,\"x\":[3.277701,0.387577,0.268546,2.031145,0.188677,3.525472,2.229583,3.392074,3.589815,1.227873,1.300699,3.596968,3.106757,0.221139,1.496841,2.860498,1.45071,1.745799,1.4048,1.7696,0.464511,2.750803,1.571006,1.18166,0.661957,0.828567,3.313914,3.625645,3.611238,2.904519,3.080431,3.851167,0.944956,3.834215,2.179064,2.716449,0.02978,0.095525,3.835506,1.142732,3.747439,0.948862,0.160755,3.288779,1.35625,0.91626,1.252876,2.471178,2.364922,2.172301,0.671267,2.165402,2.661288,1.92646,1.899647,3.82986,1.133497,2.309857,1.371371,0.151858,2.096938,1.30049,3.534799,1.217877,2.726977,0.682141,0.837813,0.799211,0.042015,0.520977,0.71972,0.197504,1.724494,3.57454,1.416691,3.037057,3.644992,0.049575,1.023898,1.815563,2.312471,0.855281,0.760641,1.48494,2.725697,2.789323,3.803611,1.591552,3.102531,0.565235,0.985402,2.948159,1.323618,0.552512,0.635387,3.928676,0.780925,1.872623,2.759808,3.504794,3.683266,2.441121,0.031457,3.387011,1.982598,2.696483,1.159278,0.576024,3.538351,3.304712,0.438501,1.937908,1.434005,3.112876,0.413395,1.358768,1.731313,2.130866,0.057906,1.365225,3.101071,0.331075,1.086791,1.996396,3.845884,0.985853,1.688165,0.161953,0.287702,0.972789,1.30506,3.515395,1.736284,1.788111,0.692963,0.459059,1.421594,3.222115,3.055062,3.439667,2.742587,0.258403,1.707936,3.110911,2.199103,1.784882,1.886291,2.886793,2.7774,1.463492,2.073286,3.728174,0.0787,1.37351,0.698877,0.448893,0.735566,2.724216,1.635384,1.288393,1.18528,0.452272,1.020964,3.465723,2.532696,0.985995,2.750285,2.577899,3.036657,1.564616,1.518451,3.142274,1.483197,1.293469,3.176521,0.398666,1.717029,2.777236,2.702432,1.807774,2.882574,3.29973,0.725724,2.92698,1.434889,3.61203,1.258017,1.286561,0.689474,0.598052,3.499457,3.093691,1.431273,0.460369,0.884156,3.275009,1.164767,0.039219,2.412745,0.833625,0.725273,0.573147,1.177763,0.661644,0.652245,0.812158,0.652892,0.963136,1.328618,1.49669,1.152723,1.369882,1.49389,1.34549,0.819666,1.107822,1.283312,0.748762,0.821916,0.90795,1.060966,1.20534,1.477937,1.097946,0.938634,0.780331,0.903332,0.5591,1.173636,1.347315,1.288732,1.376571,0.892292,0.703477,1.142235,1.001787,0.777779,0.652697,0.721173,0.967501,1.334662,1.368845,0.776253,0.746947,1.411469,0.740597,1.184165,1.452709,1.341934,0.759816,1.273906,0.891859,1.011748,1.054506,1.021894,1.249096,0.596855,0.64177,1.041153,1.220983,0.850268,1.312062,0.707436,1.019011,0.783086,0.7404,0.5208,1.381679,0.658734,0.611377,1.099438,1.361092,0.876255,0.690748,0.701393,1.253097,1.057211,1.241162,0.840611,0.519795,1.23516,0.584467,1.418398,1.370529,0.966071,0.748149,0.533105,0.813012,1.380626,1.038899,1.174998,1.482927,0.795556,0.550885,0.597946,1.219187,1.422764,1.265363,1.139539,0.668471,3.841499,3.265874,2.419956,3.131922,1.919251,3.653976,3.21453,2.781111,2.402959,3.182097,3.198566,2.505896,2.983629,2.700613,2.507695,2.878039,2.568892,2.69394,3.527832,3.203677,2.777954,3.78305,3.304181,3.977555,3.263746,3.045912,2.879968,3.233598,4.229498,2.379583,3.162948,2.428762,3.541297,2.638412,2.783332,3.186008,2.027834,2.191808,2.681085,2.987601,2.783705,2.726431,3.236021,3.104434,2.393173,2.597097,2.878632,3.326832,3.196477,2.653013,2.855684,3.032148,2.70028,3.716787,2.51471,3.02421,3.157008,2.756181,2.742568,2.592192,2.626225,2.508567,3.099795,3.283033,3.23753,3.104924,2.502861,3.619561,3.154704,2.889961,2.669538,3.391711,3.041719,2.94886,2.974983,2.85135,3.041585,3.27871,3.154729,2.993547,2.452315,2.833249,2.972504,2.882325,2.810947,2.286906,2.895769,2.395709,2.873213,2.678611,2.767651,2.288566,3.37523,3.366669,2.849598,2.636088,2.9383,3.080906,2.404517,3.248655,4.1,3.9,4.0,4.1],\"y\":[0.814082,0.17678,0.582963,0.244597,0.46128,0.265579,0.682189,0.420976,0.832527,0.810909,0.146538,0.421791,0.779664,0.612603,0.495985,0.535719,0.142352,0.066373,0.32968,0.777809,0.672442,0.16552,0.091428,0.857799,0.612812,0.798048,0.216602,0.538592,0.584716,0.465036,0.24549,0.574214,0.077006,0.224878,0.784896,0.944268,0.931252,0.349743,0.889721,0.811691,0.654886,0.122011,0.702042,0.737797,0.029101,0.59616,0.500998,0.39643,0.992772,0.283717,0.055467,0.152,0.467768,0.74119,0.649203,0.726794,0.516173,0.767935,0.956664,0.284416,0.411357,0.720155,0.181775,0.460971,0.699328,0.054686,0.912877,0.501879,0.689603,0.079651,0.445045,0.36273,0.670107,0.08528,0.723741,0.548241,0.349585,0.013442,0.977225,0.32859,0.520445,0.42998,0.724534,0.793583,0.764628,0.243674,0.25148,0.431951,0.674293,0.679348,0.187597,0.311962,0.644543,0.648435,0.474052,0.204357,0.800335,0.814694,0.162941,0.648843,0.59175,0.097041,0.462131,0.07938,0.588441,0.24238,0.190088,0.996298,0.281543,0.77258,0.884463,0.82629,0.338369,0.655144,0.150636,0.479656,0.95869,0.004658,0.933944,0.699019,0.982575,0.263808,0.353972,0.528335,0.795806,0.434387,0.938172,0.829518,0.857928,0.916516,0.621873,0.462665,0.812699,0.112125,0.831389,0.283671,0.942622,0.997386,0.603635,0.514822,0.603127,0.395579,0.209115,0.81924,0.812362,0.387625,0.684541,0.942807,0.706607,0.491627,0.916573,0.954035,0.263543,0.62181,0.482423,0.098618,0.119708,0.58073,0.533324,0.847085,0.543564,0.70928,0.583399,0.52496,0.959479,0.008335,0.620354,0.245998,0.930898,0.954967,0.978359,0.434848,0.185676,0.897792,0.047388,0.166009,0.111247,0.026691,0.510408,0.762573,0.514512,0.231124,0.585824,0.244504,0.489006,0.621951,0.242269,0.568048,0.760472,0.279905,0.153595,0.158748,0.568599,0.295192,0.513333,0.432164,0.62918,0.052828,0.512431,0.325255,3.965634,2.923034,2.565923,3.973707,2.253018,3.260725,1.693079,4.958545,3.566781,5.272268,3.543348,2.380564,4.247095,5.278332,4.616232,4.153609,4.321069,1.619142,4.852253,3.163114,1.963245,4.321613,5.03948,2.953946,3.012962,5.235518,4.814365,3.571814,2.044423,5.234,2.683106,2.091436,3.81059,3.956213,4.972135,4.217102,4.493622,4.836891,2.798064,5.367249,2.597372,1.77,4.234287,4.667021,4.074821,4.389994,3.031102,4.177391,4.679407,3.996869,1.534234,5.165834,3.99935,2.504006,4.436951,3.361231,2.324431,4.391472,1.863353,4.447128,2.060747,1.586404,3.389818,4.508529,2.760037,1.656725,1.722157,1.903451,2.418634,1.720026,3.206013,4.829104,2.389184,5.011891,3.863155,4.650538,3.862135,1.7,4.937659,2.816374,3.869624,1.922548,1.71,3.740063,4.68502,4.103231,2.028217,4.871033,5.043905,5.385811,4.070992,3.678969,4.257588,1.687598,3.506649,3.456902,3.827562,1.935044,2.153101,3.331001,2.712392,3.353799,2.641744,2.59268,3.015192,2.494605,1.966662,2.277463,2.802239,2.135258,3.048673,2.598232,2.547538,2.653876,2.471939,2.268676,2.687723,3.019875,3.153919,2.218877,2.822901,2.08902,3.017798,2.505972,2.587482,3.185275,1.668478,2.545167,2.065403,1.876676,2.754962,2.33817,2.33867,2.533631,2.32586,2.274951,2.851225,2.17414,2.396655,2.69732,2.178922,2.496669,2.751028,2.561753,3.532294,1.977501,2.90941,2.811118,2.166446,2.265335,2.526266,2.495063,2.469205,1.876565,3.181043,2.312406,2.537848,2.614829,2.867741,2.704054,2.598176,1.939792,2.887828,3.137479,1.924833,1.886308,2.470116,2.532584,2.162704,2.274144,2.488717,2.002519,2.793216,2.523832,2.559658,3.138343,2.1891,3.120111,2.922001,2.433338,2.625794,3.067828,2.630939,2.690261,2.659502,2.470892,3.025914,2.891312,3.188846,2.335079,2.726053,2.79594,2.588055,3.025123,2.751661,2.056805,2.321199,2.209603,2.641618,2.297291,5.1,4.9,5.0,5.1],\"z\":[0.326573856831138,0.888045708864652,0.0809813803530142,0.64392063197717,0.496633379643104,0.138218731427085,0.478728676224991,0.987709329412309,0.306473263373742,0.544637870254412,0.367677544409753,0.036302286964087,0.385608246956509,0.340417316158185,0.780815254049801,0.57000310797545,0.650461491902006,0.558493249926034,0.789414771922745,0.4535391544335,0.323684085216971,0.260501731246459,0.543439210922078,0.372589863576832,0.324948164701079,0.176660526517658,-0.130562289784722,0.898669005428379,0.622582095407145,0.967310487142659,0.362340242009018,0.503462992885378,0.862329087827268,0.122092768027093,0.434730113159621,0.908512654405299,0.852631742392815,0.170986462985554,0.49227095447613,0.590638452650047,0.348723404234723,0.397456679877004,0.535254925361395,-0.02119407410184,0.606451370634737,0.710663120346715,0.222243803106057,0.827105247946459,0.165629768857074,0.18785326053652,0.440006629095844,0.506616126797938,0.522378828420773,0.493740365834507,0.8690719523775,0.0237586244876842,0.638239104190062,0.399550611470484,0.565697128233596,0.199881089788323,0.223823576154854,0.0151737927093698,0.227932368364728,0.499887539899614,0.706023201169494,0.298687683933767,0.953678391847532,0.860529416625253,0.515411050208853,0.507410535573502,0.367067360450928,0.251217259390388,-0.151981699975169,0.397113142580172,0.184017621857711,0.37530205246415,0.25771676928249,0.324163018242981,0.640570181712743,0.43172137597497,0.308366078088721,9.1956890344691e-05,0.473150891242773,0.642913120437378,0.599539897717609,0.539293246648888,0.487075012636802,0.70798339675433,0.301550950244327,0.593125309195897,0.504233433160889,0.452148983173417,0.339045179562076,0.400129616950149,0.0721178534135228,0.614233419969818,0.307728279591275,0.616328538187997,0.371606235882674,0.999848591696447,0.645324081590491,0.0586119413493259,0.36336729255495,0.411817854555232,-0.0249249013127754,0.592476268796776,1.04852263654705,0.302348413144577,0.390613895989224,0.541622608845517,0.598172448300209,0.404285020517701,0.385989973437623,0.743709350169904,0.481736131035696,0.573598018539028,0.354163633798571,0.510662917187943,0.416218537397013,0.73987767437096,0.436840903456866,1.17026622560056,-0.0609182242524399,0.579497942394171,0.133032228417516,0.367194633215857,0.570423301756743,-0.103526567007088,0.783592982225116,0.334862650478485,0.273150617834123,1.13333993514605,0.620958315603137,0.15921198284139,0.894905535777146,0.582792697258072,0.640237828797574,0.857977140136496,0.121684455773517,0.686799196928356,0.169101497617044,0.437819881527815,0.531356856798199,0.728598179886271,0.330839629167975,-0.0317083336285212,0.740677157590686,0.425402968630414,0.622960647521126,0.080769902013863,0.373028547262823,0.453229185120723,0.321502653008936,0.214944161832809,0.760187935864038,0.11850639572969,0.361581254428943,0.755788107523488,0.530709612856289,0.342361539983797,0.0637745177492376,0.697639947797451,0.407426703627463,1.34146607694378,0.712404974306231,0.52754268032534,0.289440129251125,0.871875411218409,0.611779803174208,0.395705989381507,0.587111929953378,0.924905383738756,0.31597964619897,0.471828292355041,0.422673843098391,0.468011257390252,0.340076970815792,0.586680266005217,0.604656988159904,0.608189518365252,0.49544847233879,0.610821876950985,0.353577382177324,0.380749168450093,0.81944438508422,0.414565769600733,0.602688539692792,0.0978465805438009,0.568097242223355,0.442048905027581,0.491653550749004,0.507083844676157,0.713993729212753,0.211164242054637,0.236558286343937,0.580602071444737,0.719444026909915,0.537565696264785,0.282587344213725,0.151764336637285,0.920444892403381,1.20969390613757,0.51996732919538,1.76283832116499,1.27036068105641,1.37518487092787,1.06880937007162,0.526752711300195,1.10585853708799,1.32111119514463,0.455291675965557,0.885571695020348,1.01294807696834,1.28815300582006,1.09313129092374,1.16440593464237,1.28457147310018,0.597545078072687,1.05321490871023,1.27830816371902,0.63370243232273,0.728975637821888,1.0458608148596,1.33591110980476,1.25637814294566,1.07031418412762,1.00066168416677,0.947084989975164,0.927739730011109,1.25117846464819,0.714366109204274,0.692026582656269,1.46176594366859,0.995045686644208,0.882506949902449,1.08737133725917,0.86173972703216,1.23717201858995,1.028197005624,0.634208664177712,0.945747883189847,0.873402844947671,1.74946388216486,1.31967937461178,1.18209051509274,1.12224033037616,1.05206265781414,1.22444941642654,1.34975407696763,0.956808684485794,0.401781389032335,0.989669085659027,0.211331529393313,1.14233234249887,0.66756900741116,1.25680059608081,1.91018450728063,1.23008327328901,1.29235513704872,0.900200242606372,1.18585289755261,1.43274486564505,0.781813934342444,1.15328638225106,0.987066005600894,0.682321483331314,0.903246549244036,0.770325431819313,1.22118699438307,1.03967885066694,1.1055229321732,0.856087283263877,0.733210138266365,1.12546211447609,1.04016796355782,0.857838246768614,1.30777151825043,0.808294279061983,0.974864453459014,1.12345734119768,1.08342052724005,1.1494963712229,0.628030314332066,0.744283068669603,1.50382682571063,1.22536068376482,1.35184215906771,0.496962868360193,0.721033799888868,0.819034982090715,0.541247035245642,1.49843929154726,0.892386644570098,0.967483186761354,0.92478240946986,1.30497977456969,1.00204551506495,1.02795696492063,0.65637453101958,1.00173420692735,2.73515133329806,2.90396394158134,2.86966580870835,2.591485696516,2.67566839763709,1.8506404388019,2.55878410502027,1.87758967376381,2.15512481076583,2.24908946663497,2.80957649087877,2.68638875148721,2.58899953276333,2.73041294939673,2.65483975938242,2.85812033394486,2.06226326035372,2.25414596793151,2.30858466778278,2.8167926173085,2.00104207299648,2.56611035783095,2.73239854861263,2.07546955030045,3.30579835716575,2.56812908333112,2.814446126693,2.55855788423813,2.70559784626231,2.58429479263904,2.56210208410916,2.89277905502401,1.7781735168161,2.16047171564164,2.12786280961472,2.27889958816524,2.32563239628999,2.0102267247569,2.8185421058768,2.80159684188739,2.30179045168981,2.30161139028421,2.91525630068023,2.74694577690068,2.12300673932991,2.54078689773787,2.87932063927678,2.15914139372182,2.7071024289409,1.91968225853256,2.31901174176739,2.29204957744754,2.74040239603577,2.93769782279646,2.72626432290878,2.05977648250643,2.85079618076915,2.1782370507449,2.4174094067478,2.59349280874005,3.17804783801783,2.73102885579561,2.70617689765559,2.92096323656429,2.46275177968143,3.25506568698736,2.31743168481571,2.36222745017828,2.43570123375126,2.85976588431126,1.94177120326539,2.41839173762678,1.95368634301252,2.83165123206303,2.58059052560393,3.07104974749341,2.78562916859269,2.01934758123433,2.56549735685614,2.96773264022249,2.07105987485315,2.86298234711201,2.57219880194094,2.743407522983,2.78048942567501,2.61386110878961,2.40371024768261,2.53730122398881,2.59827440320057,2.22626814686924,2.91033016825421,2.62122898295636,2.7135908143041,2.79834056579861,3.03138104722325,2.75292186820536,2.18934065162007,2.68439361748379,2.66755947862564,3.38813839725304,0.504557508975267,0.94163431506604,0.702122579328716,0.887645078357309],\"type\":\"scatter3d\"}],                        {\"template\":{\"data\":{\"bar\":[{\"error_x\":{\"color\":\"#2a3f5f\"},\"error_y\":{\"color\":\"#2a3f5f\"},\"marker\":{\"line\":{\"color\":\"#E5ECF6\",\"width\":0.5},\"pattern\":{\"fillmode\":\"overlay\",\"size\":10,\"solidity\":0.2}},\"type\":\"bar\"}],\"barpolar\":[{\"marker\":{\"line\":{\"color\":\"#E5ECF6\",\"width\":0.5},\"pattern\":{\"fillmode\":\"overlay\",\"size\":10,\"solidity\":0.2}},\"type\":\"barpolar\"}],\"carpet\":[{\"aaxis\":{\"endlinecolor\":\"#2a3f5f\",\"gridcolor\":\"white\",\"linecolor\":\"white\",\"minorgridcolor\":\"white\",\"startlinecolor\":\"#2a3f5f\"},\"baxis\":{\"endlinecolor\":\"#2a3f5f\",\"gridcolor\":\"white\",\"linecolor\":\"white\",\"minorgridcolor\":\"white\",\"startlinecolor\":\"#2a3f5f\"},\"type\":\"carpet\"}],\"choropleth\":[{\"colorbar\":{\"outlinewidth\":0,\"ticks\":\"\"},\"type\":\"choropleth\"}],\"contour\":[{\"colorbar\":{\"outlinewidth\":0,\"ticks\":\"\"},\"colorscale\":[[0.0,\"#0d0887\"],[0.1111111111111111,\"#46039f\"],[0.2222222222222222,\"#7201a8\"],[0.3333333333333333,\"#9c179e\"],[0.4444444444444444,\"#bd3786\"],[0.5555555555555556,\"#d8576b\"],[0.6666666666666666,\"#ed7953\"],[0.7777777777777778,\"#fb9f3a\"],[0.8888888888888888,\"#fdca26\"],[1.0,\"#f0f921\"]],\"type\":\"contour\"}],\"contourcarpet\":[{\"colorbar\":{\"outlinewidth\":0,\"ticks\":\"\"},\"type\":\"contourcarpet\"}],\"heatmap\":[{\"colorbar\":{\"outlinewidth\":0,\"ticks\":\"\"},\"colorscale\":[[0.0,\"#0d0887\"],[0.1111111111111111,\"#46039f\"],[0.2222222222222222,\"#7201a8\"],[0.3333333333333333,\"#9c179e\"],[0.4444444444444444,\"#bd3786\"],[0.5555555555555556,\"#d8576b\"],[0.6666666666666666,\"#ed7953\"],[0.7777777777777778,\"#fb9f3a\"],[0.8888888888888888,\"#fdca26\"],[1.0,\"#f0f921\"]],\"type\":\"heatmap\"}],\"heatmapgl\":[{\"colorbar\":{\"outlinewidth\":0,\"ticks\":\"\"},\"colorscale\":[[0.0,\"#0d0887\"],[0.1111111111111111,\"#46039f\"],[0.2222222222222222,\"#7201a8\"],[0.3333333333333333,\"#9c179e\"],[0.4444444444444444,\"#bd3786\"],[0.5555555555555556,\"#d8576b\"],[0.6666666666666666,\"#ed7953\"],[0.7777777777777778,\"#fb9f3a\"],[0.8888888888888888,\"#fdca26\"],[1.0,\"#f0f921\"]],\"type\":\"heatmapgl\"}],\"histogram\":[{\"marker\":{\"pattern\":{\"fillmode\":\"overlay\",\"size\":10,\"solidity\":0.2}},\"type\":\"histogram\"}],\"histogram2d\":[{\"colorbar\":{\"outlinewidth\":0,\"ticks\":\"\"},\"colorscale\":[[0.0,\"#0d0887\"],[0.1111111111111111,\"#46039f\"],[0.2222222222222222,\"#7201a8\"],[0.3333333333333333,\"#9c179e\"],[0.4444444444444444,\"#bd3786\"],[0.5555555555555556,\"#d8576b\"],[0.6666666666666666,\"#ed7953\"],[0.7777777777777778,\"#fb9f3a\"],[0.8888888888888888,\"#fdca26\"],[1.0,\"#f0f921\"]],\"type\":\"histogram2d\"}],\"histogram2dcontour\":[{\"colorbar\":{\"outlinewidth\":0,\"ticks\":\"\"},\"colorscale\":[[0.0,\"#0d0887\"],[0.1111111111111111,\"#46039f\"],[0.2222222222222222,\"#7201a8\"],[0.3333333333333333,\"#9c179e\"],[0.4444444444444444,\"#bd3786\"],[0.5555555555555556,\"#d8576b\"],[0.6666666666666666,\"#ed7953\"],[0.7777777777777778,\"#fb9f3a\"],[0.8888888888888888,\"#fdca26\"],[1.0,\"#f0f921\"]],\"type\":\"histogram2dcontour\"}],\"mesh3d\":[{\"colorbar\":{\"outlinewidth\":0,\"ticks\":\"\"},\"type\":\"mesh3d\"}],\"parcoords\":[{\"line\":{\"colorbar\":{\"outlinewidth\":0,\"ticks\":\"\"}},\"type\":\"parcoords\"}],\"pie\":[{\"automargin\":true,\"type\":\"pie\"}],\"scatter\":[{\"marker\":{\"colorbar\":{\"outlinewidth\":0,\"ticks\":\"\"}},\"type\":\"scatter\"}],\"scatter3d\":[{\"line\":{\"colorbar\":{\"outlinewidth\":0,\"ticks\":\"\"}},\"marker\":{\"colorbar\":{\"outlinewidth\":0,\"ticks\":\"\"}},\"type\":\"scatter3d\"}],\"scattercarpet\":[{\"marker\":{\"colorbar\":{\"outlinewidth\":0,\"ticks\":\"\"}},\"type\":\"scattercarpet\"}],\"scattergeo\":[{\"marker\":{\"colorbar\":{\"outlinewidth\":0,\"ticks\":\"\"}},\"type\":\"scattergeo\"}],\"scattergl\":[{\"marker\":{\"colorbar\":{\"outlinewidth\":0,\"ticks\":\"\"}},\"type\":\"scattergl\"}],\"scattermapbox\":[{\"marker\":{\"colorbar\":{\"outlinewidth\":0,\"ticks\":\"\"}},\"type\":\"scattermapbox\"}],\"scatterpolar\":[{\"marker\":{\"colorbar\":{\"outlinewidth\":0,\"ticks\":\"\"}},\"type\":\"scatterpolar\"}],\"scatterpolargl\":[{\"marker\":{\"colorbar\":{\"outlinewidth\":0,\"ticks\":\"\"}},\"type\":\"scatterpolargl\"}],\"scatterternary\":[{\"marker\":{\"colorbar\":{\"outlinewidth\":0,\"ticks\":\"\"}},\"type\":\"scatterternary\"}],\"surface\":[{\"colorbar\":{\"outlinewidth\":0,\"ticks\":\"\"},\"colorscale\":[[0.0,\"#0d0887\"],[0.1111111111111111,\"#46039f\"],[0.2222222222222222,\"#7201a8\"],[0.3333333333333333,\"#9c179e\"],[0.4444444444444444,\"#bd3786\"],[0.5555555555555556,\"#d8576b\"],[0.6666666666666666,\"#ed7953\"],[0.7777777777777778,\"#fb9f3a\"],[0.8888888888888888,\"#fdca26\"],[1.0,\"#f0f921\"]],\"type\":\"surface\"}],\"table\":[{\"cells\":{\"fill\":{\"color\":\"#EBF0F8\"},\"line\":{\"color\":\"white\"}},\"header\":{\"fill\":{\"color\":\"#C8D4E3\"},\"line\":{\"color\":\"white\"}},\"type\":\"table\"}]},\"layout\":{\"annotationdefaults\":{\"arrowcolor\":\"#2a3f5f\",\"arrowhead\":0,\"arrowwidth\":1},\"autotypenumbers\":\"strict\",\"coloraxis\":{\"colorbar\":{\"outlinewidth\":0,\"ticks\":\"\"}},\"colorscale\":{\"diverging\":[[0,\"#8e0152\"],[0.1,\"#c51b7d\"],[0.2,\"#de77ae\"],[0.3,\"#f1b6da\"],[0.4,\"#fde0ef\"],[0.5,\"#f7f7f7\"],[0.6,\"#e6f5d0\"],[0.7,\"#b8e186\"],[0.8,\"#7fbc41\"],[0.9,\"#4d9221\"],[1,\"#276419\"]],\"sequential\":[[0.0,\"#0d0887\"],[0.1111111111111111,\"#46039f\"],[0.2222222222222222,\"#7201a8\"],[0.3333333333333333,\"#9c179e\"],[0.4444444444444444,\"#bd3786\"],[0.5555555555555556,\"#d8576b\"],[0.6666666666666666,\"#ed7953\"],[0.7777777777777778,\"#fb9f3a\"],[0.8888888888888888,\"#fdca26\"],[1.0,\"#f0f921\"]],\"sequentialminus\":[[0.0,\"#0d0887\"],[0.1111111111111111,\"#46039f\"],[0.2222222222222222,\"#7201a8\"],[0.3333333333333333,\"#9c179e\"],[0.4444444444444444,\"#bd3786\"],[0.5555555555555556,\"#d8576b\"],[0.6666666666666666,\"#ed7953\"],[0.7777777777777778,\"#fb9f3a\"],[0.8888888888888888,\"#fdca26\"],[1.0,\"#f0f921\"]]},\"colorway\":[\"#636efa\",\"#EF553B\",\"#00cc96\",\"#ab63fa\",\"#FFA15A\",\"#19d3f3\",\"#FF6692\",\"#B6E880\",\"#FF97FF\",\"#FECB52\"],\"font\":{\"color\":\"#2a3f5f\"},\"geo\":{\"bgcolor\":\"white\",\"lakecolor\":\"white\",\"landcolor\":\"#E5ECF6\",\"showlakes\":true,\"showland\":true,\"subunitcolor\":\"white\"},\"hoverlabel\":{\"align\":\"left\"},\"hovermode\":\"closest\",\"mapbox\":{\"style\":\"light\"},\"paper_bgcolor\":\"white\",\"plot_bgcolor\":\"#E5ECF6\",\"polar\":{\"angularaxis\":{\"gridcolor\":\"white\",\"linecolor\":\"white\",\"ticks\":\"\"},\"bgcolor\":\"#E5ECF6\",\"radialaxis\":{\"gridcolor\":\"white\",\"linecolor\":\"white\",\"ticks\":\"\"}},\"scene\":{\"xaxis\":{\"backgroundcolor\":\"#E5ECF6\",\"gridcolor\":\"white\",\"gridwidth\":2,\"linecolor\":\"white\",\"showbackground\":true,\"ticks\":\"\",\"zerolinecolor\":\"white\"},\"yaxis\":{\"backgroundcolor\":\"#E5ECF6\",\"gridcolor\":\"white\",\"gridwidth\":2,\"linecolor\":\"white\",\"showbackground\":true,\"ticks\":\"\",\"zerolinecolor\":\"white\"},\"zaxis\":{\"backgroundcolor\":\"#E5ECF6\",\"gridcolor\":\"white\",\"gridwidth\":2,\"linecolor\":\"white\",\"showbackground\":true,\"ticks\":\"\",\"zerolinecolor\":\"white\"}},\"shapedefaults\":{\"line\":{\"color\":\"#2a3f5f\"}},\"ternary\":{\"aaxis\":{\"gridcolor\":\"white\",\"linecolor\":\"white\",\"ticks\":\"\"},\"baxis\":{\"gridcolor\":\"white\",\"linecolor\":\"white\",\"ticks\":\"\"},\"bgcolor\":\"#E5ECF6\",\"caxis\":{\"gridcolor\":\"white\",\"linecolor\":\"white\",\"ticks\":\"\"}},\"title\":{\"x\":0.05},\"xaxis\":{\"automargin\":true,\"gridcolor\":\"white\",\"linecolor\":\"white\",\"ticks\":\"\",\"title\":{\"standoff\":15},\"zerolinecolor\":\"white\",\"zerolinewidth\":2},\"yaxis\":{\"automargin\":true,\"gridcolor\":\"white\",\"linecolor\":\"white\",\"ticks\":\"\",\"title\":{\"standoff\":15},\"zerolinecolor\":\"white\",\"zerolinewidth\":2}}},\"scene\":{\"domain\":{\"x\":[0.0,1.0],\"y\":[0.0,1.0]},\"xaxis\":{\"title\":{\"text\":\"X\"}},\"yaxis\":{\"title\":{\"text\":\"Y\"}},\"zaxis\":{\"title\":{\"text\":\"C\"}}},\"coloraxis\":{\"colorbar\":{\"title\":{\"text\":\"Class\"}},\"colorscale\":[[0.0,\"#0d0887\"],[0.1111111111111111,\"#46039f\"],[0.2222222222222222,\"#7201a8\"],[0.3333333333333333,\"#9c179e\"],[0.4444444444444444,\"#bd3786\"],[0.5555555555555556,\"#d8576b\"],[0.6666666666666666,\"#ed7953\"],[0.7777777777777778,\"#fb9f3a\"],[0.8888888888888888,\"#fdca26\"],[1.0,\"#f0f921\"]]},\"legend\":{\"tracegroupgap\":0},\"margin\":{\"t\":60}},                        {\"responsive\": true}                    ).then(function(){\n",
              "                            \n",
              "var gd = document.getElementById('1559a98d-d326-420c-ac66-894658c0af0e');\n",
              "var x = new MutationObserver(function (mutations, observer) {{\n",
              "        var display = window.getComputedStyle(gd).display;\n",
              "        if (!display || display === 'none') {{\n",
              "            console.log([gd, 'removed!']);\n",
              "            Plotly.purge(gd);\n",
              "            observer.disconnect();\n",
              "        }}\n",
              "}});\n",
              "\n",
              "// Listen for the removal of the full notebook cells\n",
              "var notebookContainer = gd.closest('#notebook-container');\n",
              "if (notebookContainer) {{\n",
              "    x.observe(notebookContainer, {childList: true});\n",
              "}}\n",
              "\n",
              "// Listen for the clearing of the current output cell\n",
              "var outputEl = gd.closest('.output');\n",
              "if (outputEl) {{\n",
              "    x.observe(outputEl, {childList: true});\n",
              "}}\n",
              "\n",
              "                        })                };                            </script>        </div>\n",
              "</body>\n",
              "</html>"
            ]
          },
          "metadata": {}
        }
      ],
      "source": [
        "# 3D visuals of defined clusters\n",
        "import plotly.express as px\n",
        "plot = px.scatter_3d(df_2, x='X', y='Y', z='C', color='Class')\n",
        "plot.show()"
      ]
    },
    {
      "cell_type": "markdown",
      "metadata": {
        "id": "pDdYTKEVjkLe"
      },
      "source": [
        "## Task 1 - Data 3 K Means Clustering"
      ]
    },
    {
      "cell_type": "code",
      "execution_count": null,
      "metadata": {
        "colab": {
          "base_uri": "https://localhost:8080/",
          "height": 424
        },
        "id": "DriYQcjtjqD2",
        "outputId": "eae69e9f-5b84-4ead-deef-b3fd960a13b2"
      },
      "outputs": [
        {
          "output_type": "execute_result",
          "data": {
            "text/plain": [
              "           X1        X2        X3  Class\n",
              "0    1.295428  0.050829 -0.385217      1\n",
              "1    1.409178 -0.035191 -0.251980      1\n",
              "2    1.096803  0.246365 -0.415011      1\n",
              "3    1.463328  0.265354 -0.513488      1\n",
              "4    1.603284  0.080577 -0.470257      1\n",
              "..        ...       ...       ...    ...\n",
              "395  0.795695  0.209456  1.880609      4\n",
              "396  0.653127 -0.703156  1.549448      4\n",
              "397 -0.726249 -0.103244  0.694300      4\n",
              "398  0.808596 -0.492640  1.649370      4\n",
              "399  0.749291 -0.447840  0.863555      4\n",
              "\n",
              "[400 rows x 4 columns]"
            ],
            "text/html": [
              "\n",
              "  <div id=\"df-19e460ea-fbca-460d-ac6a-57b729ee4649\">\n",
              "    <div class=\"colab-df-container\">\n",
              "      <div>\n",
              "<style scoped>\n",
              "    .dataframe tbody tr th:only-of-type {\n",
              "        vertical-align: middle;\n",
              "    }\n",
              "\n",
              "    .dataframe tbody tr th {\n",
              "        vertical-align: top;\n",
              "    }\n",
              "\n",
              "    .dataframe thead th {\n",
              "        text-align: right;\n",
              "    }\n",
              "</style>\n",
              "<table border=\"1\" class=\"dataframe\">\n",
              "  <thead>\n",
              "    <tr style=\"text-align: right;\">\n",
              "      <th></th>\n",
              "      <th>X1</th>\n",
              "      <th>X2</th>\n",
              "      <th>X3</th>\n",
              "      <th>Class</th>\n",
              "    </tr>\n",
              "  </thead>\n",
              "  <tbody>\n",
              "    <tr>\n",
              "      <th>0</th>\n",
              "      <td>1.295428</td>\n",
              "      <td>0.050829</td>\n",
              "      <td>-0.385217</td>\n",
              "      <td>1</td>\n",
              "    </tr>\n",
              "    <tr>\n",
              "      <th>1</th>\n",
              "      <td>1.409178</td>\n",
              "      <td>-0.035191</td>\n",
              "      <td>-0.251980</td>\n",
              "      <td>1</td>\n",
              "    </tr>\n",
              "    <tr>\n",
              "      <th>2</th>\n",
              "      <td>1.096803</td>\n",
              "      <td>0.246365</td>\n",
              "      <td>-0.415011</td>\n",
              "      <td>1</td>\n",
              "    </tr>\n",
              "    <tr>\n",
              "      <th>3</th>\n",
              "      <td>1.463328</td>\n",
              "      <td>0.265354</td>\n",
              "      <td>-0.513488</td>\n",
              "      <td>1</td>\n",
              "    </tr>\n",
              "    <tr>\n",
              "      <th>4</th>\n",
              "      <td>1.603284</td>\n",
              "      <td>0.080577</td>\n",
              "      <td>-0.470257</td>\n",
              "      <td>1</td>\n",
              "    </tr>\n",
              "    <tr>\n",
              "      <th>...</th>\n",
              "      <td>...</td>\n",
              "      <td>...</td>\n",
              "      <td>...</td>\n",
              "      <td>...</td>\n",
              "    </tr>\n",
              "    <tr>\n",
              "      <th>395</th>\n",
              "      <td>0.795695</td>\n",
              "      <td>0.209456</td>\n",
              "      <td>1.880609</td>\n",
              "      <td>4</td>\n",
              "    </tr>\n",
              "    <tr>\n",
              "      <th>396</th>\n",
              "      <td>0.653127</td>\n",
              "      <td>-0.703156</td>\n",
              "      <td>1.549448</td>\n",
              "      <td>4</td>\n",
              "    </tr>\n",
              "    <tr>\n",
              "      <th>397</th>\n",
              "      <td>-0.726249</td>\n",
              "      <td>-0.103244</td>\n",
              "      <td>0.694300</td>\n",
              "      <td>4</td>\n",
              "    </tr>\n",
              "    <tr>\n",
              "      <th>398</th>\n",
              "      <td>0.808596</td>\n",
              "      <td>-0.492640</td>\n",
              "      <td>1.649370</td>\n",
              "      <td>4</td>\n",
              "    </tr>\n",
              "    <tr>\n",
              "      <th>399</th>\n",
              "      <td>0.749291</td>\n",
              "      <td>-0.447840</td>\n",
              "      <td>0.863555</td>\n",
              "      <td>4</td>\n",
              "    </tr>\n",
              "  </tbody>\n",
              "</table>\n",
              "<p>400 rows × 4 columns</p>\n",
              "</div>\n",
              "      <button class=\"colab-df-convert\" onclick=\"convertToInteractive('df-19e460ea-fbca-460d-ac6a-57b729ee4649')\"\n",
              "              title=\"Convert this dataframe to an interactive table.\"\n",
              "              style=\"display:none;\">\n",
              "        \n",
              "  <svg xmlns=\"http://www.w3.org/2000/svg\" height=\"24px\"viewBox=\"0 0 24 24\"\n",
              "       width=\"24px\">\n",
              "    <path d=\"M0 0h24v24H0V0z\" fill=\"none\"/>\n",
              "    <path d=\"M18.56 5.44l.94 2.06.94-2.06 2.06-.94-2.06-.94-.94-2.06-.94 2.06-2.06.94zm-11 1L8.5 8.5l.94-2.06 2.06-.94-2.06-.94L8.5 2.5l-.94 2.06-2.06.94zm10 10l.94 2.06.94-2.06 2.06-.94-2.06-.94-.94-2.06-.94 2.06-2.06.94z\"/><path d=\"M17.41 7.96l-1.37-1.37c-.4-.4-.92-.59-1.43-.59-.52 0-1.04.2-1.43.59L10.3 9.45l-7.72 7.72c-.78.78-.78 2.05 0 2.83L4 21.41c.39.39.9.59 1.41.59.51 0 1.02-.2 1.41-.59l7.78-7.78 2.81-2.81c.8-.78.8-2.07 0-2.86zM5.41 20L4 18.59l7.72-7.72 1.47 1.35L5.41 20z\"/>\n",
              "  </svg>\n",
              "      </button>\n",
              "      \n",
              "  <style>\n",
              "    .colab-df-container {\n",
              "      display:flex;\n",
              "      flex-wrap:wrap;\n",
              "      gap: 12px;\n",
              "    }\n",
              "\n",
              "    .colab-df-convert {\n",
              "      background-color: #E8F0FE;\n",
              "      border: none;\n",
              "      border-radius: 50%;\n",
              "      cursor: pointer;\n",
              "      display: none;\n",
              "      fill: #1967D2;\n",
              "      height: 32px;\n",
              "      padding: 0 0 0 0;\n",
              "      width: 32px;\n",
              "    }\n",
              "\n",
              "    .colab-df-convert:hover {\n",
              "      background-color: #E2EBFA;\n",
              "      box-shadow: 0px 1px 2px rgba(60, 64, 67, 0.3), 0px 1px 3px 1px rgba(60, 64, 67, 0.15);\n",
              "      fill: #174EA6;\n",
              "    }\n",
              "\n",
              "    [theme=dark] .colab-df-convert {\n",
              "      background-color: #3B4455;\n",
              "      fill: #D2E3FC;\n",
              "    }\n",
              "\n",
              "    [theme=dark] .colab-df-convert:hover {\n",
              "      background-color: #434B5C;\n",
              "      box-shadow: 0px 1px 3px 1px rgba(0, 0, 0, 0.15);\n",
              "      filter: drop-shadow(0px 1px 2px rgba(0, 0, 0, 0.3));\n",
              "      fill: #FFFFFF;\n",
              "    }\n",
              "  </style>\n",
              "\n",
              "      <script>\n",
              "        const buttonEl =\n",
              "          document.querySelector('#df-19e460ea-fbca-460d-ac6a-57b729ee4649 button.colab-df-convert');\n",
              "        buttonEl.style.display =\n",
              "          google.colab.kernel.accessAllowed ? 'block' : 'none';\n",
              "\n",
              "        async function convertToInteractive(key) {\n",
              "          const element = document.querySelector('#df-19e460ea-fbca-460d-ac6a-57b729ee4649');\n",
              "          const dataTable =\n",
              "            await google.colab.kernel.invokeFunction('convertToInteractive',\n",
              "                                                     [key], {});\n",
              "          if (!dataTable) return;\n",
              "\n",
              "          const docLinkHtml = 'Like what you see? Visit the ' +\n",
              "            '<a target=\"_blank\" href=https://colab.research.google.com/notebooks/data_table.ipynb>data table notebook</a>'\n",
              "            + ' to learn more about interactive tables.';\n",
              "          element.innerHTML = '';\n",
              "          dataTable['output_type'] = 'display_data';\n",
              "          await google.colab.output.renderOutput(dataTable, element);\n",
              "          const docLink = document.createElement('div');\n",
              "          docLink.innerHTML = docLinkHtml;\n",
              "          element.appendChild(docLink);\n",
              "        }\n",
              "      </script>\n",
              "    </div>\n",
              "  </div>\n",
              "  "
            ]
          },
          "metadata": {},
          "execution_count": 11
        }
      ],
      "source": [
        "df_3 = pd.read_csv('/content/drive/MyDrive/IE5374 Workspace/Colab Notebooks/Project_1/Data3.csv')\n",
        "df_3 = df_3.drop('Unnamed: 0', axis=1)\n",
        "df_3"
      ]
    },
    {
      "cell_type": "code",
      "execution_count": null,
      "metadata": {
        "colab": {
          "base_uri": "https://localhost:8080/",
          "height": 424
        },
        "id": "0tUW7akvjvpx",
        "outputId": "294d3727-0a3f-4bc2-a16a-50971f4f4182"
      },
      "outputs": [
        {
          "output_type": "execute_result",
          "data": {
            "text/plain": [
              "           X1        X2        X3  Class\n",
              "0    1.295428  0.050829 -0.385217      0\n",
              "1    1.409178 -0.035191 -0.251980      0\n",
              "2    1.096803  0.246365 -0.415011      0\n",
              "3    1.463328  0.265354 -0.513488      0\n",
              "4    1.603284  0.080577 -0.470257      0\n",
              "..        ...       ...       ...    ...\n",
              "395  0.795695  0.209456  1.880609      3\n",
              "396  0.653127 -0.703156  1.549448      3\n",
              "397 -0.726249 -0.103244  0.694300      3\n",
              "398  0.808596 -0.492640  1.649370      3\n",
              "399  0.749291 -0.447840  0.863555      3\n",
              "\n",
              "[400 rows x 4 columns]"
            ],
            "text/html": [
              "\n",
              "  <div id=\"df-0e62cc42-0808-401b-95d6-55be4f335c0a\">\n",
              "    <div class=\"colab-df-container\">\n",
              "      <div>\n",
              "<style scoped>\n",
              "    .dataframe tbody tr th:only-of-type {\n",
              "        vertical-align: middle;\n",
              "    }\n",
              "\n",
              "    .dataframe tbody tr th {\n",
              "        vertical-align: top;\n",
              "    }\n",
              "\n",
              "    .dataframe thead th {\n",
              "        text-align: right;\n",
              "    }\n",
              "</style>\n",
              "<table border=\"1\" class=\"dataframe\">\n",
              "  <thead>\n",
              "    <tr style=\"text-align: right;\">\n",
              "      <th></th>\n",
              "      <th>X1</th>\n",
              "      <th>X2</th>\n",
              "      <th>X3</th>\n",
              "      <th>Class</th>\n",
              "    </tr>\n",
              "  </thead>\n",
              "  <tbody>\n",
              "    <tr>\n",
              "      <th>0</th>\n",
              "      <td>1.295428</td>\n",
              "      <td>0.050829</td>\n",
              "      <td>-0.385217</td>\n",
              "      <td>0</td>\n",
              "    </tr>\n",
              "    <tr>\n",
              "      <th>1</th>\n",
              "      <td>1.409178</td>\n",
              "      <td>-0.035191</td>\n",
              "      <td>-0.251980</td>\n",
              "      <td>0</td>\n",
              "    </tr>\n",
              "    <tr>\n",
              "      <th>2</th>\n",
              "      <td>1.096803</td>\n",
              "      <td>0.246365</td>\n",
              "      <td>-0.415011</td>\n",
              "      <td>0</td>\n",
              "    </tr>\n",
              "    <tr>\n",
              "      <th>3</th>\n",
              "      <td>1.463328</td>\n",
              "      <td>0.265354</td>\n",
              "      <td>-0.513488</td>\n",
              "      <td>0</td>\n",
              "    </tr>\n",
              "    <tr>\n",
              "      <th>4</th>\n",
              "      <td>1.603284</td>\n",
              "      <td>0.080577</td>\n",
              "      <td>-0.470257</td>\n",
              "      <td>0</td>\n",
              "    </tr>\n",
              "    <tr>\n",
              "      <th>...</th>\n",
              "      <td>...</td>\n",
              "      <td>...</td>\n",
              "      <td>...</td>\n",
              "      <td>...</td>\n",
              "    </tr>\n",
              "    <tr>\n",
              "      <th>395</th>\n",
              "      <td>0.795695</td>\n",
              "      <td>0.209456</td>\n",
              "      <td>1.880609</td>\n",
              "      <td>3</td>\n",
              "    </tr>\n",
              "    <tr>\n",
              "      <th>396</th>\n",
              "      <td>0.653127</td>\n",
              "      <td>-0.703156</td>\n",
              "      <td>1.549448</td>\n",
              "      <td>3</td>\n",
              "    </tr>\n",
              "    <tr>\n",
              "      <th>397</th>\n",
              "      <td>-0.726249</td>\n",
              "      <td>-0.103244</td>\n",
              "      <td>0.694300</td>\n",
              "      <td>3</td>\n",
              "    </tr>\n",
              "    <tr>\n",
              "      <th>398</th>\n",
              "      <td>0.808596</td>\n",
              "      <td>-0.492640</td>\n",
              "      <td>1.649370</td>\n",
              "      <td>3</td>\n",
              "    </tr>\n",
              "    <tr>\n",
              "      <th>399</th>\n",
              "      <td>0.749291</td>\n",
              "      <td>-0.447840</td>\n",
              "      <td>0.863555</td>\n",
              "      <td>3</td>\n",
              "    </tr>\n",
              "  </tbody>\n",
              "</table>\n",
              "<p>400 rows × 4 columns</p>\n",
              "</div>\n",
              "      <button class=\"colab-df-convert\" onclick=\"convertToInteractive('df-0e62cc42-0808-401b-95d6-55be4f335c0a')\"\n",
              "              title=\"Convert this dataframe to an interactive table.\"\n",
              "              style=\"display:none;\">\n",
              "        \n",
              "  <svg xmlns=\"http://www.w3.org/2000/svg\" height=\"24px\"viewBox=\"0 0 24 24\"\n",
              "       width=\"24px\">\n",
              "    <path d=\"M0 0h24v24H0V0z\" fill=\"none\"/>\n",
              "    <path d=\"M18.56 5.44l.94 2.06.94-2.06 2.06-.94-2.06-.94-.94-2.06-.94 2.06-2.06.94zm-11 1L8.5 8.5l.94-2.06 2.06-.94-2.06-.94L8.5 2.5l-.94 2.06-2.06.94zm10 10l.94 2.06.94-2.06 2.06-.94-2.06-.94-.94-2.06-.94 2.06-2.06.94z\"/><path d=\"M17.41 7.96l-1.37-1.37c-.4-.4-.92-.59-1.43-.59-.52 0-1.04.2-1.43.59L10.3 9.45l-7.72 7.72c-.78.78-.78 2.05 0 2.83L4 21.41c.39.39.9.59 1.41.59.51 0 1.02-.2 1.41-.59l7.78-7.78 2.81-2.81c.8-.78.8-2.07 0-2.86zM5.41 20L4 18.59l7.72-7.72 1.47 1.35L5.41 20z\"/>\n",
              "  </svg>\n",
              "      </button>\n",
              "      \n",
              "  <style>\n",
              "    .colab-df-container {\n",
              "      display:flex;\n",
              "      flex-wrap:wrap;\n",
              "      gap: 12px;\n",
              "    }\n",
              "\n",
              "    .colab-df-convert {\n",
              "      background-color: #E8F0FE;\n",
              "      border: none;\n",
              "      border-radius: 50%;\n",
              "      cursor: pointer;\n",
              "      display: none;\n",
              "      fill: #1967D2;\n",
              "      height: 32px;\n",
              "      padding: 0 0 0 0;\n",
              "      width: 32px;\n",
              "    }\n",
              "\n",
              "    .colab-df-convert:hover {\n",
              "      background-color: #E2EBFA;\n",
              "      box-shadow: 0px 1px 2px rgba(60, 64, 67, 0.3), 0px 1px 3px 1px rgba(60, 64, 67, 0.15);\n",
              "      fill: #174EA6;\n",
              "    }\n",
              "\n",
              "    [theme=dark] .colab-df-convert {\n",
              "      background-color: #3B4455;\n",
              "      fill: #D2E3FC;\n",
              "    }\n",
              "\n",
              "    [theme=dark] .colab-df-convert:hover {\n",
              "      background-color: #434B5C;\n",
              "      box-shadow: 0px 1px 3px 1px rgba(0, 0, 0, 0.15);\n",
              "      filter: drop-shadow(0px 1px 2px rgba(0, 0, 0, 0.3));\n",
              "      fill: #FFFFFF;\n",
              "    }\n",
              "  </style>\n",
              "\n",
              "      <script>\n",
              "        const buttonEl =\n",
              "          document.querySelector('#df-0e62cc42-0808-401b-95d6-55be4f335c0a button.colab-df-convert');\n",
              "        buttonEl.style.display =\n",
              "          google.colab.kernel.accessAllowed ? 'block' : 'none';\n",
              "\n",
              "        async function convertToInteractive(key) {\n",
              "          const element = document.querySelector('#df-0e62cc42-0808-401b-95d6-55be4f335c0a');\n",
              "          const dataTable =\n",
              "            await google.colab.kernel.invokeFunction('convertToInteractive',\n",
              "                                                     [key], {});\n",
              "          if (!dataTable) return;\n",
              "\n",
              "          const docLinkHtml = 'Like what you see? Visit the ' +\n",
              "            '<a target=\"_blank\" href=https://colab.research.google.com/notebooks/data_table.ipynb>data table notebook</a>'\n",
              "            + ' to learn more about interactive tables.';\n",
              "          element.innerHTML = '';\n",
              "          dataTable['output_type'] = 'display_data';\n",
              "          await google.colab.output.renderOutput(dataTable, element);\n",
              "          const docLink = document.createElement('div');\n",
              "          docLink.innerHTML = docLinkHtml;\n",
              "          element.appendChild(docLink);\n",
              "        }\n",
              "      </script>\n",
              "    </div>\n",
              "  </div>\n",
              "  "
            ]
          },
          "metadata": {},
          "execution_count": 12
        }
      ],
      "source": [
        "# Convert the labels of the defined classes from 1-7 to 0-6 as model prediction is between 0-6\n",
        "df_3.loc[df_3['Class']==1,'Class'] = 0\n",
        "df_3.loc[df_3['Class']==2,'Class'] = 1\n",
        "df_3.loc[df_3['Class']==3,'Class'] = 2\n",
        "df_3.loc[df_3['Class']==4,'Class'] = 3\n",
        "df_3"
      ]
    },
    {
      "cell_type": "code",
      "execution_count": null,
      "metadata": {
        "colab": {
          "base_uri": "https://localhost:8080/"
        },
        "id": "Efd70UenkEXz",
        "outputId": "5ab3b896-f75f-4c4e-f36d-6bbc6c2ee33c"
      },
      "outputs": [
        {
          "output_type": "stream",
          "name": "stdout",
          "text": [
            "[2 2 2 2 2 2 2 2 2 2 2 2 2 2 2 2 2 2 2 2 2 2 2 2 2 2 2 2 2 2 2 2 2 2 2 2 2\n",
            " 2 2 2 2 2 2 2 2 2 2 2 2 2 2 2 2 2 2 2 2 2 2 2 2 2 2 2 2 2 2 2 2 2 2 2 2 2\n",
            " 2 2 2 2 2 2 2 2 2 2 2 2 2 2 2 2 2 2 2 2 2 2 2 2 2 2 1 1 1 1 1 1 1 1 1 1 1\n",
            " 1 1 1 1 1 1 1 1 1 1 1 1 1 1 1 1 1 1 1 1 1 1 1 1 1 1 1 1 1 1 1 1 1 1 1 1 1\n",
            " 1 1 1 1 1 1 1 1 1 1 1 1 1 1 1 1 1 1 1 1 1 1 1 1 1 1 1 1 1 1 1 1 1 1 1 1 1\n",
            " 1 1 1 1 1 1 1 1 1 1 1 1 1 1 1 0 0 0 0 0 0 0 0 0 0 0 0 0 0 0 0 0 0 0 0 0 0\n",
            " 0 0 0 0 0 0 0 0 0 0 0 0 0 0 0 0 0 0 0 0 0 0 0 0 0 0 0 0 0 0 0 0 0 0 0 0 0\n",
            " 0 0 0 0 0 0 0 0 0 0 0 0 0 0 0 0 0 0 0 0 0 0 0 0 0 0 0 0 0 0 0 0 0 0 0 0 0\n",
            " 0 0 0 0 3 3 3 3 3 3 3 3 3 3 3 3 3 3 3 3 3 3 3 3 3 3 3 3 3 3 3 3 3 3 3 3 3\n",
            " 3 3 3 3 3 3 3 3 3 3 3 3 3 3 3 3 3 3 3 3 3 3 3 3 3 3 3 3 3 3 3 3 3 3 3 3 3\n",
            " 3 3 3 3 3 3 3 3 3 3 3 3 3 3 3 3 3 3 3 3 3 3 3 3 3 3 3 3 3 3]\n",
            "\n",
            "\n",
            "Accuracy Score : 0.5\n",
            "F1 Score : 0.5\n"
          ]
        }
      ],
      "source": [
        "from sklearn.cluster import KMeans\n",
        "from sklearn.metrics import adjusted_rand_score, accuracy_score, f1_score\n",
        "\n",
        "# Kmeans clustering model\n",
        "\n",
        "km = KMeans(n_clusters=4,random_state=10)\n",
        "km.fit_predict(df_3)\n",
        "print(km.labels_)\n",
        "\n",
        "print(\"\\n\")\n",
        "print(\"Accuracy Score :\",accuracy_score(df_3['Class'],km.labels_))\n",
        "print(\"F1 Score :\", f1_score(df_3['Class'], km.labels_, average=\"macro\"))\n",
        "#print(\"Adjusted Random Index :\",adjusted_rand_score(df_3['Class'],km.labels_))"
      ]
    },
    {
      "cell_type": "markdown",
      "source": [
        "Hierarchical Clustering"
      ],
      "metadata": {
        "id": "UQE0cebZUCC3"
      }
    },
    {
      "cell_type": "code",
      "source": [
        "from sklearn.cluster import AgglomerativeClustering\n",
        "import scipy.cluster.hierarchy as shc\n",
        "mdlh=AgglomerativeClustering()\n",
        "mdlh.fit(df_3)\n",
        "mdlh.labels_\n",
        "\n",
        "\n",
        "dend = shc.dendrogram(shc.linkage(df_3.iloc[:,0:3], method='ward'))\n",
        "plt.axhline(y=10, color='r', linestyle='--')\n",
        "plt.gcf().set_size_inches(12,7)"
      ],
      "metadata": {
        "colab": {
          "base_uri": "https://localhost:8080/",
          "height": 428
        },
        "id": "bxWNuyqBUGvU",
        "outputId": "1df740cd-3e80-45bb-90af-3043e1214baa"
      },
      "execution_count": null,
      "outputs": [
        {
          "output_type": "display_data",
          "data": {
            "text/plain": [
              "<Figure size 864x504 with 1 Axes>"
            ],
            "image/png": "[encoded data removed]"
          },
          "metadata": {
            "needs_background": "light"
          }
        }
      ]
    },
    {
      "cell_type": "code",
      "execution_count": null,
      "metadata": {
        "colab": {
          "base_uri": "https://localhost:8080/",
          "height": 542
        },
        "id": "Nmkh9FT1kOF8",
        "outputId": "b8c9de4b-3a32-4f09-9c28-6e2e9bd3e73f"
      },
      "outputs": [
        {
          "output_type": "display_data",
          "data": {
            "text/html": [
              "<html>\n",
              "<head><meta charset=\"utf-8\" /></head>\n",
              "<body>\n",
              "    <div>            <script src=\"https://cdnjs.cloudflare.com/ajax/libs/mathjax/2.7.5/MathJax.js?config=TeX-AMS-MML_SVG\"></script><script type=\"text/javascript\">if (window.MathJax) {MathJax.Hub.Config({SVG: {font: \"STIX-Web\"}});}</script>                <script type=\"text/javascript\">window.PlotlyConfig = {MathJaxConfig: 'local'};</script>\n",
              "        <script src=\"https://cdn.plot.ly/plotly-2.8.3.min.js\"></script>                <div id=\"18375400-f0e9-4496-9d09-6e8b964207d6\" class=\"plotly-graph-div\" style=\"height:525px; width:100%;\"></div>            <script type=\"text/javascript\">                                    window.PLOTLYENV=window.PLOTLYENV || {};                                    if (document.getElementById(\"18375400-f0e9-4496-9d09-6e8b964207d6\")) {                    Plotly.newPlot(                        \"18375400-f0e9-4496-9d09-6e8b964207d6\",                        [{\"hovertemplate\":\"X1=%{x}<br>X2=%{y}<br>X3=%{z}<br>Class=%{marker.color}<extra></extra>\",\"legendgroup\":\"\",\"marker\":{\"color\":[0,0,0,0,0,0,0,0,0,0,0,0,0,0,0,0,0,0,0,0,0,0,0,0,0,0,0,0,0,0,0,0,0,0,0,0,0,0,0,0,0,0,0,0,0,0,0,0,0,0,0,0,0,0,0,0,0,0,0,0,0,0,0,0,0,0,0,0,0,0,0,0,0,0,0,0,0,0,0,0,0,0,0,0,0,0,0,0,0,0,0,0,0,0,0,0,0,0,0,0,1,1,1,1,1,1,1,1,1,1,1,1,1,1,1,1,1,1,1,1,1,1,1,1,1,1,1,1,1,1,1,1,1,1,1,1,1,1,1,1,1,1,1,1,1,1,1,1,1,1,1,1,1,1,1,1,1,1,1,1,1,1,1,1,1,1,1,1,1,1,1,1,1,1,1,1,1,1,1,1,1,1,1,1,1,1,1,1,1,1,1,1,1,1,1,1,1,1,1,1,2,2,2,2,2,2,2,2,2,2,2,2,2,2,2,2,2,2,2,2,2,2,2,2,2,2,2,2,2,2,2,2,2,2,2,2,2,2,2,2,2,2,2,2,2,2,2,2,2,2,2,2,2,2,2,2,2,2,2,2,2,2,2,2,2,2,2,2,2,2,2,2,2,2,2,2,2,2,2,2,2,2,2,2,2,2,2,2,2,2,2,2,2,2,2,2,2,2,2,2,3,3,3,3,3,3,3,3,3,3,3,3,3,3,3,3,3,3,3,3,3,3,3,3,3,3,3,3,3,3,3,3,3,3,3,3,3,3,3,3,3,3,3,3,3,3,3,3,3,3,3,3,3,3,3,3,3,3,3,3,3,3,3,3,3,3,3,3,3,3,3,3,3,3,3,3,3,3,3,3,3,3,3,3,3,3,3,3,3,3,3,3,3,3,3,3,3,3,3,3],\"coloraxis\":\"coloraxis\",\"symbol\":\"circle\"},\"mode\":\"markers\",\"name\":\"\",\"scene\":\"scene\",\"showlegend\":false,\"x\":[1.295428,1.409178,1.096803,1.463328,1.603284,1.001833,1.517445,1.617901,1.083162,1.669991,1.457644,0.914329,1.643737,1.595419,1.153698,1.524989,1.247658,0.826074,0.877268,0.809343,1.546564,1.555207,1.570894,0.9618,0.948567,1.527893,0.788416,0.90298,1.834789,1.369116,1.248246,1.554125,1.757288,1.868755,1.302702,1.924263,1.269947,1.094222,1.990546,1.755073,1.633957,0.693121,0.532497,1.214785,1.495177,1.049537,0.994137,1.258023,1.348109,1.215102,1.645533,1.896597,0.813372,1.595849,1.672338,1.138984,1.812173,1.41094,1.511001,1.573745,1.154986,2.090848,0.423861,1.563656,0.873642,1.967473,0.788993,1.496743,1.87889,0.844426,2.070226,1.050955,1.833459,1.892107,1.382171,2.087972,0.858115,1.838192,1.161382,1.903102,0.541289,0.442275,1.584697,1.496522,1.931225,1.639036,1.537661,1.964698,1.752882,0.972497,1.98307,1.376106,0.826883,0.465236,1.295867,2.065866,1.923298,0.543922,2.078767,2.019462,-0.609828,-0.496078,-0.808453,-0.441928,-0.301972,-0.903423,-0.387811,-0.287355,-0.822094,-0.235265,-0.447612,-0.990926,-0.261519,-0.309837,-0.751558,-0.380266,-0.657598,-1.079182,-1.027988,-1.095913,-0.358692,-0.350049,-0.334362,-0.943456,-0.956689,-0.377363,-1.116839,-1.002276,-0.070467,-0.53614,-0.65701,-0.351131,-0.147968,-0.036501,-0.602554,0.019007,-0.635309,-0.811034,0.08529,-0.150182,-0.271299,-1.212135,-1.372759,-0.690471,-0.410079,-0.855718,-0.911119,-0.647233,-0.557147,-0.690154,-0.259723,-0.008659,-1.091884,-0.309407,-0.232918,-0.766272,-0.093083,-0.494316,-0.394255,-0.331511,-0.75027,0.185592,-1.481394,-0.3416,-1.031614,0.062217,-1.116262,-0.408513,-0.026366,-1.06083,0.16497,-0.854301,-0.071797,-0.013149,-0.523085,0.182716,-1.047141,-0.067064,-0.743874,-0.002154,-1.363967,-1.462981,-0.320559,-0.408734,0.025969,-0.26622,-0.367594,0.059442,-0.152374,-0.932759,0.077814,-0.52915,-1.078373,-1.44002,-0.609389,0.16061,0.018042,-1.361334,0.173511,0.114206,-0.609828,-0.496078,-0.808453,-0.441928,-0.301972,-0.903423,-0.387811,-0.287355,-0.822094,-0.235265,-0.447612,-0.990926,-0.261519,-0.309837,-0.751558,-0.380266,-0.657598,-1.079182,-1.027988,-1.095913,-0.358692,-0.350049,-0.334362,-0.943456,-0.956689,-0.377363,-1.116839,-1.002276,-0.070467,-0.53614,-0.65701,-0.351131,-0.147968,-0.036501,-0.602554,0.019007,-0.635309,-0.811034,0.08529,-0.150182,-0.271299,-1.212135,-1.372759,-0.690471,-0.410079,-0.855718,-0.911119,-0.647233,-0.557147,-0.690154,-0.259723,-0.008659,-1.091884,-0.309407,-0.232918,-0.766272,-0.093083,-0.494316,-0.394255,-0.331511,-0.75027,0.185592,-1.481394,-0.3416,-1.031614,0.062217,-1.116262,-0.408513,-0.026366,-1.06083,0.16497,-0.854301,-0.071797,-0.013149,-0.523085,0.182716,-1.047141,-0.067064,-0.743874,-0.002154,-1.363967,-1.462981,-0.320559,-0.408734,0.025969,-0.26622,-0.367594,0.059442,-0.152374,-0.932759,0.077814,-0.52915,-1.078373,-1.44002,-0.609389,0.16061,0.018042,-1.361334,0.173511,0.114206,0.025258,0.139007,-0.173368,0.193157,0.333114,-0.268338,0.247275,0.347731,-0.187009,0.39982,0.187473,-0.355841,0.373566,0.325248,-0.116472,0.254819,-0.022512,-0.444097,-0.392902,-0.460828,0.276393,0.285036,0.300723,-0.30837,-0.321604,0.257722,-0.481754,-0.367191,0.564618,0.098946,-0.021924,0.283954,0.487117,0.598584,0.032531,0.654092,-0.000224,-0.175949,0.720375,0.484903,0.363787,-0.57705,-0.737673,-0.055386,0.225006,-0.220633,-0.276033,-0.012148,0.077938,-0.055068,0.375362,0.626426,-0.456799,0.325678,0.402167,-0.131187,0.542002,0.140769,0.24083,0.303574,-0.115184,0.820677,-0.846309,0.293485,-0.396529,0.697302,-0.481177,0.226572,0.608719,-0.425745,0.800055,-0.219216,0.563288,0.621936,0.112,0.817801,-0.412056,0.568022,-0.108789,0.632931,-0.728882,-0.827896,0.314526,0.226352,0.661054,0.368866,0.267491,0.694527,0.482711,-0.297673,0.712899,0.105936,-0.443288,-0.804935,0.025696,0.795695,0.653127,-0.726249,0.808596,0.749291],\"y\":[0.050829,-0.035191,0.246365,0.265354,0.080577,-0.083266,0.286702,-0.158504,-0.371103,0.0866,-0.401268,0.242193,0.153696,-0.310447,-0.25427,0.162923,-0.333062,-0.31543,0.354988,0.313444,0.055433,0.48368,-0.469775,0.345034,-0.327407,-0.082015,-0.376902,-0.180361,-0.1316,-0.0194,-0.632417,-0.002265,-0.461343,-0.024153,0.689971,-0.075534,-0.495785,-0.623419,-0.038016,0.169729,0.323377,-0.379451,-0.093011,0.741492,0.560867,-0.025452,0.078633,0.567255,-0.054338,-0.759198,0.691991,0.060015,-0.451022,0.468001,0.038413,0.795001,-0.440793,0.810588,0.181599,-0.776984,-0.031269,-0.145125,0.072789,-0.780312,-0.545259,0.323425,0.525355,-0.842129,0.040344,0.572656,-0.374627,-0.392183,0.553213,-0.557534,0.218436,0.327809,-0.631101,0.242957,-0.205692,-0.031523,-0.55812,0.192988,-0.711383,0.89135,0.600832,-0.519435,0.199144,-0.076565,-0.648626,0.18899,-0.298888,-0.751302,-0.804229,-0.175502,-0.98012,0.209456,-0.703156,-0.103244,-0.49264,-0.44784,1.150829,1.064809,1.346365,1.365354,1.180577,1.016734,1.386702,0.941496,0.728897,1.1866,0.698732,1.342193,1.253696,0.789553,0.84573,1.262923,0.766938,0.78457,1.454988,1.413444,1.155433,1.58368,0.630225,1.445034,0.772593,1.017985,0.723098,0.919639,0.9684,1.0806,0.467583,1.097735,0.638657,1.075847,1.789971,1.024466,0.604215,0.476581,1.061984,1.269729,1.423377,0.720549,1.006989,1.841492,1.660867,1.074548,1.178633,1.667255,1.045662,0.340802,1.791991,1.160015,0.648978,1.568001,1.138413,1.895001,0.659207,1.910588,1.281599,0.323016,1.068731,0.954875,1.172789,0.319688,0.554741,1.423425,1.625355,0.257871,1.140344,1.672656,0.725373,0.707817,1.653213,0.542466,1.318436,1.427809,0.468899,1.342957,0.894308,1.068477,0.54188,1.292988,0.388617,1.99135,1.700833,0.580565,1.299144,1.023435,0.451374,1.28899,0.801112,0.348698,0.295771,0.924498,0.11988,1.309457,0.396844,0.996756,0.60736,0.65216,-1.049171,-1.135191,-0.853635,-0.834646,-1.019423,-1.183266,-0.813298,-1.258504,-1.471103,-1.0134,-1.501268,-0.857807,-0.946304,-1.410447,-1.35427,-0.937077,-1.433062,-1.41543,-0.745012,-0.786556,-1.044567,-0.61632,-1.569775,-0.754966,-1.427407,-1.182015,-1.476902,-1.280361,-1.2316,-1.1194,-1.732417,-1.102265,-1.561343,-1.124153,-0.410029,-1.175534,-1.595785,-1.723419,-1.138016,-0.930271,-0.776623,-1.479451,-1.193011,-0.358508,-0.539133,-1.125452,-1.021367,-0.532745,-1.154338,-1.859198,-0.408009,-1.039985,-1.551023,-0.631999,-1.061587,-0.304999,-1.540793,-0.289412,-0.918401,-1.876984,-1.131269,-1.245125,-1.027211,-1.880313,-1.645259,-0.776575,-0.574645,-1.942129,-1.059656,-0.527344,-1.474627,-1.492183,-0.546787,-1.657534,-0.881564,-0.772191,-1.731101,-0.857043,-1.305692,-1.131523,-1.65812,-0.907012,-1.811383,-0.20865,-0.499168,-1.619435,-0.900856,-1.176565,-1.748626,-0.91101,-1.398888,-1.851302,-1.904229,-1.275502,-2.080121,-0.890544,-1.803156,-1.203244,-1.59264,-1.54784,0.050829,-0.035191,0.246365,0.265354,0.080577,-0.083266,0.286702,-0.158504,-0.371103,0.0866,-0.401268,0.242193,0.153696,-0.310447,-0.25427,0.162923,-0.333062,-0.31543,0.354988,0.313444,0.055433,0.48368,-0.469775,0.345034,-0.327407,-0.082015,-0.376902,-0.180361,-0.1316,-0.0194,-0.632417,-0.002265,-0.461343,-0.024153,0.689971,-0.075534,-0.495785,-0.623419,-0.038016,0.169729,0.323377,-0.379451,-0.093011,0.741492,0.560867,-0.025452,0.078633,0.567255,-0.054338,-0.759198,0.691991,0.060015,-0.451022,0.468001,0.038413,0.795001,-0.440793,0.810588,0.181599,-0.776984,-0.031269,-0.145125,0.072789,-0.780312,-0.545259,0.323425,0.525355,-0.842129,0.040344,0.572656,-0.374627,-0.392183,0.553213,-0.557534,0.218436,0.327809,-0.631101,0.242957,-0.205692,-0.031523,-0.55812,0.192988,-0.711383,0.89135,0.600832,-0.519435,0.199144,-0.076565,-0.648626,0.18899,-0.298888,-0.751302,-0.804229,-0.175502,-0.98012,0.209456,-0.703156,-0.103244,-0.49264,-0.44784],\"z\":[-0.385217,-0.25198,-0.415011,-0.513488,-0.470257,-0.681399,-0.547891,-0.301126,-0.358668,-0.280595,-0.407497,-0.310915,-0.241876,-0.368662,-0.87687,-0.877225,-0.037487,-0.389405,-0.618269,-0.296642,0.057049,-0.659155,-0.218926,-0.838026,-0.020961,-1.018224,-0.297599,0.045153,-0.725146,-1.095284,-0.625915,0.175737,-0.29954,-0.790365,-0.424533,-0.683471,-0.961158,-0.759255,-0.442557,0.057506,0.090103,-0.683644,-0.520972,-0.523834,-0.002043,-1.177026,-1.15429,0.081931,0.324059,-0.258057,-0.414455,-0.92773,-0.915658,-1.018286,0.250135,-0.276674,-0.894565,-0.558598,0.327558,-0.460695,-1.278567,-0.340549,-0.41346,-0.622889,-0.993664,-0.047633,-0.945737,-0.328981,0.185959,0.070963,-0.433219,0.319538,-0.026761,-0.072407,-1.332147,-0.70549,-0.978525,-1.132464,-1.341069,-1.119995,-0.350911,-0.087258,0.061698,-0.227743,-0.133303,0.252474,0.442314,0.200502,-0.958114,0.441773,0.120726,-1.041932,-0.158685,0.077741,-0.463469,0.084316,-0.246845,-1.101993,-0.146922,-0.932738,-0.385217,-0.25198,-0.415011,-0.513488,-0.470257,-0.681399,-0.547891,-0.301126,-0.358668,-0.280595,-0.407497,-0.310915,-0.241876,-0.368662,-0.87687,-0.877225,-0.037487,-0.389405,-0.618269,-0.296642,0.057049,-0.659155,-0.218926,-0.838026,-0.020961,-1.018224,-0.297599,0.045153,-0.725146,-1.095284,-0.625915,0.175737,-0.29954,-0.790365,-0.424533,-0.683471,-0.961158,-0.759255,-0.442557,0.057506,0.090103,-0.683644,-0.520972,-0.523834,-0.002043,-1.177026,-1.15429,0.081931,0.324059,-0.258057,-0.414455,-0.92773,-0.915658,-1.018286,0.250135,-0.276674,-0.894565,-0.558598,0.327558,-0.460695,-1.278567,-0.340549,-0.41346,-0.622889,-0.993664,-0.047633,-0.945737,-0.328981,0.185959,0.070963,-0.433219,0.319538,-0.026761,-0.072407,-1.332147,-0.70549,-0.978525,-1.132464,-1.341069,-1.119995,-0.350911,-0.087258,0.061698,-0.227743,-0.133303,0.252474,0.442314,0.200502,-0.958114,0.441773,0.120726,-1.041932,-0.158685,0.077741,-0.463469,0.084316,-0.246845,-1.101993,-0.146922,-0.932738,-0.385217,-0.25198,-0.415011,-0.513488,-0.470257,-0.681399,-0.547891,-0.301126,-0.358668,-0.280595,-0.407497,-0.310915,-0.241876,-0.368662,-0.87687,-0.877225,-0.037487,-0.389405,-0.618269,-0.296642,0.057049,-0.659155,-0.218926,-0.838026,-0.020961,-1.018224,-0.297599,0.045153,-0.725146,-1.095284,-0.625915,0.175737,-0.29954,-0.790365,-0.424533,-0.683471,-0.961158,-0.759255,-0.442557,0.057506,0.090103,-0.683644,-0.520972,-0.523834,-0.002043,-1.177026,-1.15429,0.081931,0.324059,-0.258057,-0.414455,-0.92773,-0.915658,-1.018286,0.250135,-0.276674,-0.894565,-0.558598,0.327558,-0.460695,-1.278567,-0.340549,-0.41346,-0.622889,-0.993664,-0.047633,-0.945737,-0.328981,0.185959,0.070963,-0.433219,0.319538,-0.026761,-0.072407,-1.332147,-0.70549,-0.978525,-1.132464,-1.341069,-1.119995,-0.350911,-0.087258,0.061698,-0.227743,-0.133303,0.252474,0.442314,0.200502,-0.958114,0.441773,0.120726,-1.041932,-0.158685,0.077741,-0.463469,0.084316,-0.246845,-1.101993,-0.146922,-0.932738,1.411075,1.544312,1.381282,1.282804,1.326035,1.114893,1.248401,1.495167,1.437625,1.515697,1.388795,1.485378,1.554416,1.42763,0.919423,0.919068,1.758806,1.406887,1.178024,1.499651,1.853342,1.137138,1.577366,0.958266,1.775331,0.778069,1.498694,1.841445,1.071147,0.701009,1.170378,1.97203,1.496752,1.005928,1.37176,1.112821,0.835135,1.037038,1.353736,1.853798,1.886396,1.112649,1.275321,1.272459,1.79425,0.619266,0.642002,1.878224,2.120351,1.538236,1.381837,0.868562,0.880635,0.778007,2.046428,1.519618,0.901727,1.237694,2.12385,1.335597,0.517725,1.455744,1.382833,1.173403,0.802629,1.748659,0.850555,1.467312,1.982252,1.867255,1.363073,2.11583,1.769531,1.723885,0.464146,1.090802,0.817767,0.663828,0.455223,0.676297,1.445382,1.709035,1.857991,1.56855,1.66299,2.048767,2.238607,1.996795,0.838179,2.238065,1.917019,0.75436,1.637608,1.874033,1.332823,1.880609,1.549448,0.6943,1.64937,0.863555],\"type\":\"scatter3d\"}],                        {\"template\":{\"data\":{\"bar\":[{\"error_x\":{\"color\":\"#2a3f5f\"},\"error_y\":{\"color\":\"#2a3f5f\"},\"marker\":{\"line\":{\"color\":\"#E5ECF6\",\"width\":0.5},\"pattern\":{\"fillmode\":\"overlay\",\"size\":10,\"solidity\":0.2}},\"type\":\"bar\"}],\"barpolar\":[{\"marker\":{\"line\":{\"color\":\"#E5ECF6\",\"width\":0.5},\"pattern\":{\"fillmode\":\"overlay\",\"size\":10,\"solidity\":0.2}},\"type\":\"barpolar\"}],\"carpet\":[{\"aaxis\":{\"endlinecolor\":\"#2a3f5f\",\"gridcolor\":\"white\",\"linecolor\":\"white\",\"minorgridcolor\":\"white\",\"startlinecolor\":\"#2a3f5f\"},\"baxis\":{\"endlinecolor\":\"#2a3f5f\",\"gridcolor\":\"white\",\"linecolor\":\"white\",\"minorgridcolor\":\"white\",\"startlinecolor\":\"#2a3f5f\"},\"type\":\"carpet\"}],\"choropleth\":[{\"colorbar\":{\"outlinewidth\":0,\"ticks\":\"\"},\"type\":\"choropleth\"}],\"contour\":[{\"colorbar\":{\"outlinewidth\":0,\"ticks\":\"\"},\"colorscale\":[[0.0,\"#0d0887\"],[0.1111111111111111,\"#46039f\"],[0.2222222222222222,\"#7201a8\"],[0.3333333333333333,\"#9c179e\"],[0.4444444444444444,\"#bd3786\"],[0.5555555555555556,\"#d8576b\"],[0.6666666666666666,\"#ed7953\"],[0.7777777777777778,\"#fb9f3a\"],[0.8888888888888888,\"#fdca26\"],[1.0,\"#f0f921\"]],\"type\":\"contour\"}],\"contourcarpet\":[{\"colorbar\":{\"outlinewidth\":0,\"ticks\":\"\"},\"type\":\"contourcarpet\"}],\"heatmap\":[{\"colorbar\":{\"outlinewidth\":0,\"ticks\":\"\"},\"colorscale\":[[0.0,\"#0d0887\"],[0.1111111111111111,\"#46039f\"],[0.2222222222222222,\"#7201a8\"],[0.3333333333333333,\"#9c179e\"],[0.4444444444444444,\"#bd3786\"],[0.5555555555555556,\"#d8576b\"],[0.6666666666666666,\"#ed7953\"],[0.7777777777777778,\"#fb9f3a\"],[0.8888888888888888,\"#fdca26\"],[1.0,\"#f0f921\"]],\"type\":\"heatmap\"}],\"heatmapgl\":[{\"colorbar\":{\"outlinewidth\":0,\"ticks\":\"\"},\"colorscale\":[[0.0,\"#0d0887\"],[0.1111111111111111,\"#46039f\"],[0.2222222222222222,\"#7201a8\"],[0.3333333333333333,\"#9c179e\"],[0.4444444444444444,\"#bd3786\"],[0.5555555555555556,\"#d8576b\"],[0.6666666666666666,\"#ed7953\"],[0.7777777777777778,\"#fb9f3a\"],[0.8888888888888888,\"#fdca26\"],[1.0,\"#f0f921\"]],\"type\":\"heatmapgl\"}],\"histogram\":[{\"marker\":{\"pattern\":{\"fillmode\":\"overlay\",\"size\":10,\"solidity\":0.2}},\"type\":\"histogram\"}],\"histogram2d\":[{\"colorbar\":{\"outlinewidth\":0,\"ticks\":\"\"},\"colorscale\":[[0.0,\"#0d0887\"],[0.1111111111111111,\"#46039f\"],[0.2222222222222222,\"#7201a8\"],[0.3333333333333333,\"#9c179e\"],[0.4444444444444444,\"#bd3786\"],[0.5555555555555556,\"#d8576b\"],[0.6666666666666666,\"#ed7953\"],[0.7777777777777778,\"#fb9f3a\"],[0.8888888888888888,\"#fdca26\"],[1.0,\"#f0f921\"]],\"type\":\"histogram2d\"}],\"histogram2dcontour\":[{\"colorbar\":{\"outlinewidth\":0,\"ticks\":\"\"},\"colorscale\":[[0.0,\"#0d0887\"],[0.1111111111111111,\"#46039f\"],[0.2222222222222222,\"#7201a8\"],[0.3333333333333333,\"#9c179e\"],[0.4444444444444444,\"#bd3786\"],[0.5555555555555556,\"#d8576b\"],[0.6666666666666666,\"#ed7953\"],[0.7777777777777778,\"#fb9f3a\"],[0.8888888888888888,\"#fdca26\"],[1.0,\"#f0f921\"]],\"type\":\"histogram2dcontour\"}],\"mesh3d\":[{\"colorbar\":{\"outlinewidth\":0,\"ticks\":\"\"},\"type\":\"mesh3d\"}],\"parcoords\":[{\"line\":{\"colorbar\":{\"outlinewidth\":0,\"ticks\":\"\"}},\"type\":\"parcoords\"}],\"pie\":[{\"automargin\":true,\"type\":\"pie\"}],\"scatter\":[{\"marker\":{\"colorbar\":{\"outlinewidth\":0,\"ticks\":\"\"}},\"type\":\"scatter\"}],\"scatter3d\":[{\"line\":{\"colorbar\":{\"outlinewidth\":0,\"ticks\":\"\"}},\"marker\":{\"colorbar\":{\"outlinewidth\":0,\"ticks\":\"\"}},\"type\":\"scatter3d\"}],\"scattercarpet\":[{\"marker\":{\"colorbar\":{\"outlinewidth\":0,\"ticks\":\"\"}},\"type\":\"scattercarpet\"}],\"scattergeo\":[{\"marker\":{\"colorbar\":{\"outlinewidth\":0,\"ticks\":\"\"}},\"type\":\"scattergeo\"}],\"scattergl\":[{\"marker\":{\"colorbar\":{\"outlinewidth\":0,\"ticks\":\"\"}},\"type\":\"scattergl\"}],\"scattermapbox\":[{\"marker\":{\"colorbar\":{\"outlinewidth\":0,\"ticks\":\"\"}},\"type\":\"scattermapbox\"}],\"scatterpolar\":[{\"marker\":{\"colorbar\":{\"outlinewidth\":0,\"ticks\":\"\"}},\"type\":\"scatterpolar\"}],\"scatterpolargl\":[{\"marker\":{\"colorbar\":{\"outlinewidth\":0,\"ticks\":\"\"}},\"type\":\"scatterpolargl\"}],\"scatterternary\":[{\"marker\":{\"colorbar\":{\"outlinewidth\":0,\"ticks\":\"\"}},\"type\":\"scatterternary\"}],\"surface\":[{\"colorbar\":{\"outlinewidth\":0,\"ticks\":\"\"},\"colorscale\":[[0.0,\"#0d0887\"],[0.1111111111111111,\"#46039f\"],[0.2222222222222222,\"#7201a8\"],[0.3333333333333333,\"#9c179e\"],[0.4444444444444444,\"#bd3786\"],[0.5555555555555556,\"#d8576b\"],[0.6666666666666666,\"#ed7953\"],[0.7777777777777778,\"#fb9f3a\"],[0.8888888888888888,\"#fdca26\"],[1.0,\"#f0f921\"]],\"type\":\"surface\"}],\"table\":[{\"cells\":{\"fill\":{\"color\":\"#EBF0F8\"},\"line\":{\"color\":\"white\"}},\"header\":{\"fill\":{\"color\":\"#C8D4E3\"},\"line\":{\"color\":\"white\"}},\"type\":\"table\"}]},\"layout\":{\"annotationdefaults\":{\"arrowcolor\":\"#2a3f5f\",\"arrowhead\":0,\"arrowwidth\":1},\"autotypenumbers\":\"strict\",\"coloraxis\":{\"colorbar\":{\"outlinewidth\":0,\"ticks\":\"\"}},\"colorscale\":{\"diverging\":[[0,\"#8e0152\"],[0.1,\"#c51b7d\"],[0.2,\"#de77ae\"],[0.3,\"#f1b6da\"],[0.4,\"#fde0ef\"],[0.5,\"#f7f7f7\"],[0.6,\"#e6f5d0\"],[0.7,\"#b8e186\"],[0.8,\"#7fbc41\"],[0.9,\"#4d9221\"],[1,\"#276419\"]],\"sequential\":[[0.0,\"#0d0887\"],[0.1111111111111111,\"#46039f\"],[0.2222222222222222,\"#7201a8\"],[0.3333333333333333,\"#9c179e\"],[0.4444444444444444,\"#bd3786\"],[0.5555555555555556,\"#d8576b\"],[0.6666666666666666,\"#ed7953\"],[0.7777777777777778,\"#fb9f3a\"],[0.8888888888888888,\"#fdca26\"],[1.0,\"#f0f921\"]],\"sequentialminus\":[[0.0,\"#0d0887\"],[0.1111111111111111,\"#46039f\"],[0.2222222222222222,\"#7201a8\"],[0.3333333333333333,\"#9c179e\"],[0.4444444444444444,\"#bd3786\"],[0.5555555555555556,\"#d8576b\"],[0.6666666666666666,\"#ed7953\"],[0.7777777777777778,\"#fb9f3a\"],[0.8888888888888888,\"#fdca26\"],[1.0,\"#f0f921\"]]},\"colorway\":[\"#636efa\",\"#EF553B\",\"#00cc96\",\"#ab63fa\",\"#FFA15A\",\"#19d3f3\",\"#FF6692\",\"#B6E880\",\"#FF97FF\",\"#FECB52\"],\"font\":{\"color\":\"#2a3f5f\"},\"geo\":{\"bgcolor\":\"white\",\"lakecolor\":\"white\",\"landcolor\":\"#E5ECF6\",\"showlakes\":true,\"showland\":true,\"subunitcolor\":\"white\"},\"hoverlabel\":{\"align\":\"left\"},\"hovermode\":\"closest\",\"mapbox\":{\"style\":\"light\"},\"paper_bgcolor\":\"white\",\"plot_bgcolor\":\"#E5ECF6\",\"polar\":{\"angularaxis\":{\"gridcolor\":\"white\",\"linecolor\":\"white\",\"ticks\":\"\"},\"bgcolor\":\"#E5ECF6\",\"radialaxis\":{\"gridcolor\":\"white\",\"linecolor\":\"white\",\"ticks\":\"\"}},\"scene\":{\"xaxis\":{\"backgroundcolor\":\"#E5ECF6\",\"gridcolor\":\"white\",\"gridwidth\":2,\"linecolor\":\"white\",\"showbackground\":true,\"ticks\":\"\",\"zerolinecolor\":\"white\"},\"yaxis\":{\"backgroundcolor\":\"#E5ECF6\",\"gridcolor\":\"white\",\"gridwidth\":2,\"linecolor\":\"white\",\"showbackground\":true,\"ticks\":\"\",\"zerolinecolor\":\"white\"},\"zaxis\":{\"backgroundcolor\":\"#E5ECF6\",\"gridcolor\":\"white\",\"gridwidth\":2,\"linecolor\":\"white\",\"showbackground\":true,\"ticks\":\"\",\"zerolinecolor\":\"white\"}},\"shapedefaults\":{\"line\":{\"color\":\"#2a3f5f\"}},\"ternary\":{\"aaxis\":{\"gridcolor\":\"white\",\"linecolor\":\"white\",\"ticks\":\"\"},\"baxis\":{\"gridcolor\":\"white\",\"linecolor\":\"white\",\"ticks\":\"\"},\"bgcolor\":\"#E5ECF6\",\"caxis\":{\"gridcolor\":\"white\",\"linecolor\":\"white\",\"ticks\":\"\"}},\"title\":{\"x\":0.05},\"xaxis\":{\"automargin\":true,\"gridcolor\":\"white\",\"linecolor\":\"white\",\"ticks\":\"\",\"title\":{\"standoff\":15},\"zerolinecolor\":\"white\",\"zerolinewidth\":2},\"yaxis\":{\"automargin\":true,\"gridcolor\":\"white\",\"linecolor\":\"white\",\"ticks\":\"\",\"title\":{\"standoff\":15},\"zerolinecolor\":\"white\",\"zerolinewidth\":2}}},\"scene\":{\"domain\":{\"x\":[0.0,1.0],\"y\":[0.0,1.0]},\"xaxis\":{\"title\":{\"text\":\"X1\"}},\"yaxis\":{\"title\":{\"text\":\"X2\"}},\"zaxis\":{\"title\":{\"text\":\"X3\"}}},\"coloraxis\":{\"colorbar\":{\"title\":{\"text\":\"Class\"}},\"colorscale\":[[0.0,\"#0d0887\"],[0.1111111111111111,\"#46039f\"],[0.2222222222222222,\"#7201a8\"],[0.3333333333333333,\"#9c179e\"],[0.4444444444444444,\"#bd3786\"],[0.5555555555555556,\"#d8576b\"],[0.6666666666666666,\"#ed7953\"],[0.7777777777777778,\"#fb9f3a\"],[0.8888888888888888,\"#fdca26\"],[1.0,\"#f0f921\"]]},\"legend\":{\"tracegroupgap\":0},\"margin\":{\"t\":60}},                        {\"responsive\": true}                    ).then(function(){\n",
              "                            \n",
              "var gd = document.getElementById('18375400-f0e9-4496-9d09-6e8b964207d6');\n",
              "var x = new MutationObserver(function (mutations, observer) {{\n",
              "        var display = window.getComputedStyle(gd).display;\n",
              "        if (!display || display === 'none') {{\n",
              "            console.log([gd, 'removed!']);\n",
              "            Plotly.purge(gd);\n",
              "            observer.disconnect();\n",
              "        }}\n",
              "}});\n",
              "\n",
              "// Listen for the removal of the full notebook cells\n",
              "var notebookContainer = gd.closest('#notebook-container');\n",
              "if (notebookContainer) {{\n",
              "    x.observe(notebookContainer, {childList: true});\n",
              "}}\n",
              "\n",
              "// Listen for the clearing of the current output cell\n",
              "var outputEl = gd.closest('.output');\n",
              "if (outputEl) {{\n",
              "    x.observe(outputEl, {childList: true});\n",
              "}}\n",
              "\n",
              "                        })                };                            </script>        </div>\n",
              "</body>\n",
              "</html>"
            ]
          },
          "metadata": {}
        }
      ],
      "source": [
        "# 3D visuals of defined clusters\n",
        "import plotly.express as px\n",
        "plot = px.scatter_3d(df_3, x='X1', y='X2', z='X3', color='Class')\n",
        "plot.show()"
      ]
    },
    {
      "cell_type": "code",
      "execution_count": null,
      "metadata": {
        "colab": {
          "base_uri": "https://localhost:8080/",
          "height": 542
        },
        "id": "5czsZt4qkgj8",
        "outputId": "4f5998d1-aad6-4884-8795-9c9133366faa"
      },
      "outputs": [
        {
          "output_type": "display_data",
          "data": {
            "text/html": [
              "<html>\n",
              "<head><meta charset=\"utf-8\" /></head>\n",
              "<body>\n",
              "    <div>            <script src=\"https://cdnjs.cloudflare.com/ajax/libs/mathjax/2.7.5/MathJax.js?config=TeX-AMS-MML_SVG\"></script><script type=\"text/javascript\">if (window.MathJax) {MathJax.Hub.Config({SVG: {font: \"STIX-Web\"}});}</script>                <script type=\"text/javascript\">window.PlotlyConfig = {MathJaxConfig: 'local'};</script>\n",
              "        <script src=\"https://cdn.plot.ly/plotly-2.8.3.min.js\"></script>                <div id=\"30d1946f-aae9-4cd0-8592-0173a3f89046\" class=\"plotly-graph-div\" style=\"height:525px; width:100%;\"></div>            <script type=\"text/javascript\">                                    window.PLOTLYENV=window.PLOTLYENV || {};                                    if (document.getElementById(\"30d1946f-aae9-4cd0-8592-0173a3f89046\")) {                    Plotly.newPlot(                        \"30d1946f-aae9-4cd0-8592-0173a3f89046\",                        [{\"hovertemplate\":\"X1=%{x}<br>X2=%{y}<br>X3=%{z}<br>color=%{marker.color}<extra></extra>\",\"legendgroup\":\"\",\"marker\":{\"color\":[2,2,2,2,2,2,2,2,2,2,2,2,2,2,2,2,2,2,2,2,2,2,2,2,2,2,2,2,2,2,2,2,2,2,2,2,2,2,2,2,2,2,2,2,2,2,2,2,2,2,2,2,2,2,2,2,2,2,2,2,2,2,2,2,2,2,2,2,2,2,2,2,2,2,2,2,2,2,2,2,2,2,2,2,2,2,2,2,2,2,2,2,2,2,2,2,2,2,2,2,1,1,1,1,1,1,1,1,1,1,1,1,1,1,1,1,1,1,1,1,1,1,1,1,1,1,1,1,1,1,1,1,1,1,1,1,1,1,1,1,1,1,1,1,1,1,1,1,1,1,1,1,1,1,1,1,1,1,1,1,1,1,1,1,1,1,1,1,1,1,1,1,1,1,1,1,1,1,1,1,1,1,1,1,1,1,1,1,1,1,1,1,1,1,1,1,1,1,1,1,0,0,0,0,0,0,0,0,0,0,0,0,0,0,0,0,0,0,0,0,0,0,0,0,0,0,0,0,0,0,0,0,0,0,0,0,0,0,0,0,0,0,0,0,0,0,0,0,0,0,0,0,0,0,0,0,0,0,0,0,0,0,0,0,0,0,0,0,0,0,0,0,0,0,0,0,0,0,0,0,0,0,0,0,0,0,0,0,0,0,0,0,0,0,0,0,0,0,0,0,3,3,3,3,3,3,3,3,3,3,3,3,3,3,3,3,3,3,3,3,3,3,3,3,3,3,3,3,3,3,3,3,3,3,3,3,3,3,3,3,3,3,3,3,3,3,3,3,3,3,3,3,3,3,3,3,3,3,3,3,3,3,3,3,3,3,3,3,3,3,3,3,3,3,3,3,3,3,3,3,3,3,3,3,3,3,3,3,3,3,3,3,3,3,3,3,3,3,3,3],\"coloraxis\":\"coloraxis\",\"symbol\":\"circle\"},\"mode\":\"markers\",\"name\":\"\",\"scene\":\"scene\",\"showlegend\":false,\"x\":[1.295428,1.409178,1.096803,1.463328,1.603284,1.001833,1.517445,1.617901,1.083162,1.669991,1.457644,0.914329,1.643737,1.595419,1.153698,1.524989,1.247658,0.826074,0.877268,0.809343,1.546564,1.555207,1.570894,0.9618,0.948567,1.527893,0.788416,0.90298,1.834789,1.369116,1.248246,1.554125,1.757288,1.868755,1.302702,1.924263,1.269947,1.094222,1.990546,1.755073,1.633957,0.693121,0.532497,1.214785,1.495177,1.049537,0.994137,1.258023,1.348109,1.215102,1.645533,1.896597,0.813372,1.595849,1.672338,1.138984,1.812173,1.41094,1.511001,1.573745,1.154986,2.090848,0.423861,1.563656,0.873642,1.967473,0.788993,1.496743,1.87889,0.844426,2.070226,1.050955,1.833459,1.892107,1.382171,2.087972,0.858115,1.838192,1.161382,1.903102,0.541289,0.442275,1.584697,1.496522,1.931225,1.639036,1.537661,1.964698,1.752882,0.972497,1.98307,1.376106,0.826883,0.465236,1.295867,2.065866,1.923298,0.543922,2.078767,2.019462,-0.609828,-0.496078,-0.808453,-0.441928,-0.301972,-0.903423,-0.387811,-0.287355,-0.822094,-0.235265,-0.447612,-0.990926,-0.261519,-0.309837,-0.751558,-0.380266,-0.657598,-1.079182,-1.027988,-1.095913,-0.358692,-0.350049,-0.334362,-0.943456,-0.956689,-0.377363,-1.116839,-1.002276,-0.070467,-0.53614,-0.65701,-0.351131,-0.147968,-0.036501,-0.602554,0.019007,-0.635309,-0.811034,0.08529,-0.150182,-0.271299,-1.212135,-1.372759,-0.690471,-0.410079,-0.855718,-0.911119,-0.647233,-0.557147,-0.690154,-0.259723,-0.008659,-1.091884,-0.309407,-0.232918,-0.766272,-0.093083,-0.494316,-0.394255,-0.331511,-0.75027,0.185592,-1.481394,-0.3416,-1.031614,0.062217,-1.116262,-0.408513,-0.026366,-1.06083,0.16497,-0.854301,-0.071797,-0.013149,-0.523085,0.182716,-1.047141,-0.067064,-0.743874,-0.002154,-1.363967,-1.462981,-0.320559,-0.408734,0.025969,-0.26622,-0.367594,0.059442,-0.152374,-0.932759,0.077814,-0.52915,-1.078373,-1.44002,-0.609389,0.16061,0.018042,-1.361334,0.173511,0.114206,-0.609828,-0.496078,-0.808453,-0.441928,-0.301972,-0.903423,-0.387811,-0.287355,-0.822094,-0.235265,-0.447612,-0.990926,-0.261519,-0.309837,-0.751558,-0.380266,-0.657598,-1.079182,-1.027988,-1.095913,-0.358692,-0.350049,-0.334362,-0.943456,-0.956689,-0.377363,-1.116839,-1.002276,-0.070467,-0.53614,-0.65701,-0.351131,-0.147968,-0.036501,-0.602554,0.019007,-0.635309,-0.811034,0.08529,-0.150182,-0.271299,-1.212135,-1.372759,-0.690471,-0.410079,-0.855718,-0.911119,-0.647233,-0.557147,-0.690154,-0.259723,-0.008659,-1.091884,-0.309407,-0.232918,-0.766272,-0.093083,-0.494316,-0.394255,-0.331511,-0.75027,0.185592,-1.481394,-0.3416,-1.031614,0.062217,-1.116262,-0.408513,-0.026366,-1.06083,0.16497,-0.854301,-0.071797,-0.013149,-0.523085,0.182716,-1.047141,-0.067064,-0.743874,-0.002154,-1.363967,-1.462981,-0.320559,-0.408734,0.025969,-0.26622,-0.367594,0.059442,-0.152374,-0.932759,0.077814,-0.52915,-1.078373,-1.44002,-0.609389,0.16061,0.018042,-1.361334,0.173511,0.114206,0.025258,0.139007,-0.173368,0.193157,0.333114,-0.268338,0.247275,0.347731,-0.187009,0.39982,0.187473,-0.355841,0.373566,0.325248,-0.116472,0.254819,-0.022512,-0.444097,-0.392902,-0.460828,0.276393,0.285036,0.300723,-0.30837,-0.321604,0.257722,-0.481754,-0.367191,0.564618,0.098946,-0.021924,0.283954,0.487117,0.598584,0.032531,0.654092,-0.000224,-0.175949,0.720375,0.484903,0.363787,-0.57705,-0.737673,-0.055386,0.225006,-0.220633,-0.276033,-0.012148,0.077938,-0.055068,0.375362,0.626426,-0.456799,0.325678,0.402167,-0.131187,0.542002,0.140769,0.24083,0.303574,-0.115184,0.820677,-0.846309,0.293485,-0.396529,0.697302,-0.481177,0.226572,0.608719,-0.425745,0.800055,-0.219216,0.563288,0.621936,0.112,0.817801,-0.412056,0.568022,-0.108789,0.632931,-0.728882,-0.827896,0.314526,0.226352,0.661054,0.368866,0.267491,0.694527,0.482711,-0.297673,0.712899,0.105936,-0.443288,-0.804935,0.025696,0.795695,0.653127,-0.726249,0.808596,0.749291],\"y\":[0.050829,-0.035191,0.246365,0.265354,0.080577,-0.083266,0.286702,-0.158504,-0.371103,0.0866,-0.401268,0.242193,0.153696,-0.310447,-0.25427,0.162923,-0.333062,-0.31543,0.354988,0.313444,0.055433,0.48368,-0.469775,0.345034,-0.327407,-0.082015,-0.376902,-0.180361,-0.1316,-0.0194,-0.632417,-0.002265,-0.461343,-0.024153,0.689971,-0.075534,-0.495785,-0.623419,-0.038016,0.169729,0.323377,-0.379451,-0.093011,0.741492,0.560867,-0.025452,0.078633,0.567255,-0.054338,-0.759198,0.691991,0.060015,-0.451022,0.468001,0.038413,0.795001,-0.440793,0.810588,0.181599,-0.776984,-0.031269,-0.145125,0.072789,-0.780312,-0.545259,0.323425,0.525355,-0.842129,0.040344,0.572656,-0.374627,-0.392183,0.553213,-0.557534,0.218436,0.327809,-0.631101,0.242957,-0.205692,-0.031523,-0.55812,0.192988,-0.711383,0.89135,0.600832,-0.519435,0.199144,-0.076565,-0.648626,0.18899,-0.298888,-0.751302,-0.804229,-0.175502,-0.98012,0.209456,-0.703156,-0.103244,-0.49264,-0.44784,1.150829,1.064809,1.346365,1.365354,1.180577,1.016734,1.386702,0.941496,0.728897,1.1866,0.698732,1.342193,1.253696,0.789553,0.84573,1.262923,0.766938,0.78457,1.454988,1.413444,1.155433,1.58368,0.630225,1.445034,0.772593,1.017985,0.723098,0.919639,0.9684,1.0806,0.467583,1.097735,0.638657,1.075847,1.789971,1.024466,0.604215,0.476581,1.061984,1.269729,1.423377,0.720549,1.006989,1.841492,1.660867,1.074548,1.178633,1.667255,1.045662,0.340802,1.791991,1.160015,0.648978,1.568001,1.138413,1.895001,0.659207,1.910588,1.281599,0.323016,1.068731,0.954875,1.172789,0.319688,0.554741,1.423425,1.625355,0.257871,1.140344,1.672656,0.725373,0.707817,1.653213,0.542466,1.318436,1.427809,0.468899,1.342957,0.894308,1.068477,0.54188,1.292988,0.388617,1.99135,1.700833,0.580565,1.299144,1.023435,0.451374,1.28899,0.801112,0.348698,0.295771,0.924498,0.11988,1.309457,0.396844,0.996756,0.60736,0.65216,-1.049171,-1.135191,-0.853635,-0.834646,-1.019423,-1.183266,-0.813298,-1.258504,-1.471103,-1.0134,-1.501268,-0.857807,-0.946304,-1.410447,-1.35427,-0.937077,-1.433062,-1.41543,-0.745012,-0.786556,-1.044567,-0.61632,-1.569775,-0.754966,-1.427407,-1.182015,-1.476902,-1.280361,-1.2316,-1.1194,-1.732417,-1.102265,-1.561343,-1.124153,-0.410029,-1.175534,-1.595785,-1.723419,-1.138016,-0.930271,-0.776623,-1.479451,-1.193011,-0.358508,-0.539133,-1.125452,-1.021367,-0.532745,-1.154338,-1.859198,-0.408009,-1.039985,-1.551023,-0.631999,-1.061587,-0.304999,-1.540793,-0.289412,-0.918401,-1.876984,-1.131269,-1.245125,-1.027211,-1.880313,-1.645259,-0.776575,-0.574645,-1.942129,-1.059656,-0.527344,-1.474627,-1.492183,-0.546787,-1.657534,-0.881564,-0.772191,-1.731101,-0.857043,-1.305692,-1.131523,-1.65812,-0.907012,-1.811383,-0.20865,-0.499168,-1.619435,-0.900856,-1.176565,-1.748626,-0.91101,-1.398888,-1.851302,-1.904229,-1.275502,-2.080121,-0.890544,-1.803156,-1.203244,-1.59264,-1.54784,0.050829,-0.035191,0.246365,0.265354,0.080577,-0.083266,0.286702,-0.158504,-0.371103,0.0866,-0.401268,0.242193,0.153696,-0.310447,-0.25427,0.162923,-0.333062,-0.31543,0.354988,0.313444,0.055433,0.48368,-0.469775,0.345034,-0.327407,-0.082015,-0.376902,-0.180361,-0.1316,-0.0194,-0.632417,-0.002265,-0.461343,-0.024153,0.689971,-0.075534,-0.495785,-0.623419,-0.038016,0.169729,0.323377,-0.379451,-0.093011,0.741492,0.560867,-0.025452,0.078633,0.567255,-0.054338,-0.759198,0.691991,0.060015,-0.451022,0.468001,0.038413,0.795001,-0.440793,0.810588,0.181599,-0.776984,-0.031269,-0.145125,0.072789,-0.780312,-0.545259,0.323425,0.525355,-0.842129,0.040344,0.572656,-0.374627,-0.392183,0.553213,-0.557534,0.218436,0.327809,-0.631101,0.242957,-0.205692,-0.031523,-0.55812,0.192988,-0.711383,0.89135,0.600832,-0.519435,0.199144,-0.076565,-0.648626,0.18899,-0.298888,-0.751302,-0.804229,-0.175502,-0.98012,0.209456,-0.703156,-0.103244,-0.49264,-0.44784],\"z\":[-0.385217,-0.25198,-0.415011,-0.513488,-0.470257,-0.681399,-0.547891,-0.301126,-0.358668,-0.280595,-0.407497,-0.310915,-0.241876,-0.368662,-0.87687,-0.877225,-0.037487,-0.389405,-0.618269,-0.296642,0.057049,-0.659155,-0.218926,-0.838026,-0.020961,-1.018224,-0.297599,0.045153,-0.725146,-1.095284,-0.625915,0.175737,-0.29954,-0.790365,-0.424533,-0.683471,-0.961158,-0.759255,-0.442557,0.057506,0.090103,-0.683644,-0.520972,-0.523834,-0.002043,-1.177026,-1.15429,0.081931,0.324059,-0.258057,-0.414455,-0.92773,-0.915658,-1.018286,0.250135,-0.276674,-0.894565,-0.558598,0.327558,-0.460695,-1.278567,-0.340549,-0.41346,-0.622889,-0.993664,-0.047633,-0.945737,-0.328981,0.185959,0.070963,-0.433219,0.319538,-0.026761,-0.072407,-1.332147,-0.70549,-0.978525,-1.132464,-1.341069,-1.119995,-0.350911,-0.087258,0.061698,-0.227743,-0.133303,0.252474,0.442314,0.200502,-0.958114,0.441773,0.120726,-1.041932,-0.158685,0.077741,-0.463469,0.084316,-0.246845,-1.101993,-0.146922,-0.932738,-0.385217,-0.25198,-0.415011,-0.513488,-0.470257,-0.681399,-0.547891,-0.301126,-0.358668,-0.280595,-0.407497,-0.310915,-0.241876,-0.368662,-0.87687,-0.877225,-0.037487,-0.389405,-0.618269,-0.296642,0.057049,-0.659155,-0.218926,-0.838026,-0.020961,-1.018224,-0.297599,0.045153,-0.725146,-1.095284,-0.625915,0.175737,-0.29954,-0.790365,-0.424533,-0.683471,-0.961158,-0.759255,-0.442557,0.057506,0.090103,-0.683644,-0.520972,-0.523834,-0.002043,-1.177026,-1.15429,0.081931,0.324059,-0.258057,-0.414455,-0.92773,-0.915658,-1.018286,0.250135,-0.276674,-0.894565,-0.558598,0.327558,-0.460695,-1.278567,-0.340549,-0.41346,-0.622889,-0.993664,-0.047633,-0.945737,-0.328981,0.185959,0.070963,-0.433219,0.319538,-0.026761,-0.072407,-1.332147,-0.70549,-0.978525,-1.132464,-1.341069,-1.119995,-0.350911,-0.087258,0.061698,-0.227743,-0.133303,0.252474,0.442314,0.200502,-0.958114,0.441773,0.120726,-1.041932,-0.158685,0.077741,-0.463469,0.084316,-0.246845,-1.101993,-0.146922,-0.932738,-0.385217,-0.25198,-0.415011,-0.513488,-0.470257,-0.681399,-0.547891,-0.301126,-0.358668,-0.280595,-0.407497,-0.310915,-0.241876,-0.368662,-0.87687,-0.877225,-0.037487,-0.389405,-0.618269,-0.296642,0.057049,-0.659155,-0.218926,-0.838026,-0.020961,-1.018224,-0.297599,0.045153,-0.725146,-1.095284,-0.625915,0.175737,-0.29954,-0.790365,-0.424533,-0.683471,-0.961158,-0.759255,-0.442557,0.057506,0.090103,-0.683644,-0.520972,-0.523834,-0.002043,-1.177026,-1.15429,0.081931,0.324059,-0.258057,-0.414455,-0.92773,-0.915658,-1.018286,0.250135,-0.276674,-0.894565,-0.558598,0.327558,-0.460695,-1.278567,-0.340549,-0.41346,-0.622889,-0.993664,-0.047633,-0.945737,-0.328981,0.185959,0.070963,-0.433219,0.319538,-0.026761,-0.072407,-1.332147,-0.70549,-0.978525,-1.132464,-1.341069,-1.119995,-0.350911,-0.087258,0.061698,-0.227743,-0.133303,0.252474,0.442314,0.200502,-0.958114,0.441773,0.120726,-1.041932,-0.158685,0.077741,-0.463469,0.084316,-0.246845,-1.101993,-0.146922,-0.932738,1.411075,1.544312,1.381282,1.282804,1.326035,1.114893,1.248401,1.495167,1.437625,1.515697,1.388795,1.485378,1.554416,1.42763,0.919423,0.919068,1.758806,1.406887,1.178024,1.499651,1.853342,1.137138,1.577366,0.958266,1.775331,0.778069,1.498694,1.841445,1.071147,0.701009,1.170378,1.97203,1.496752,1.005928,1.37176,1.112821,0.835135,1.037038,1.353736,1.853798,1.886396,1.112649,1.275321,1.272459,1.79425,0.619266,0.642002,1.878224,2.120351,1.538236,1.381837,0.868562,0.880635,0.778007,2.046428,1.519618,0.901727,1.237694,2.12385,1.335597,0.517725,1.455744,1.382833,1.173403,0.802629,1.748659,0.850555,1.467312,1.982252,1.867255,1.363073,2.11583,1.769531,1.723885,0.464146,1.090802,0.817767,0.663828,0.455223,0.676297,1.445382,1.709035,1.857991,1.56855,1.66299,2.048767,2.238607,1.996795,0.838179,2.238065,1.917019,0.75436,1.637608,1.874033,1.332823,1.880609,1.549448,0.6943,1.64937,0.863555],\"type\":\"scatter3d\"}],                        {\"template\":{\"data\":{\"bar\":[{\"error_x\":{\"color\":\"#2a3f5f\"},\"error_y\":{\"color\":\"#2a3f5f\"},\"marker\":{\"line\":{\"color\":\"#E5ECF6\",\"width\":0.5},\"pattern\":{\"fillmode\":\"overlay\",\"size\":10,\"solidity\":0.2}},\"type\":\"bar\"}],\"barpolar\":[{\"marker\":{\"line\":{\"color\":\"#E5ECF6\",\"width\":0.5},\"pattern\":{\"fillmode\":\"overlay\",\"size\":10,\"solidity\":0.2}},\"type\":\"barpolar\"}],\"carpet\":[{\"aaxis\":{\"endlinecolor\":\"#2a3f5f\",\"gridcolor\":\"white\",\"linecolor\":\"white\",\"minorgridcolor\":\"white\",\"startlinecolor\":\"#2a3f5f\"},\"baxis\":{\"endlinecolor\":\"#2a3f5f\",\"gridcolor\":\"white\",\"linecolor\":\"white\",\"minorgridcolor\":\"white\",\"startlinecolor\":\"#2a3f5f\"},\"type\":\"carpet\"}],\"choropleth\":[{\"colorbar\":{\"outlinewidth\":0,\"ticks\":\"\"},\"type\":\"choropleth\"}],\"contour\":[{\"colorbar\":{\"outlinewidth\":0,\"ticks\":\"\"},\"colorscale\":[[0.0,\"#0d0887\"],[0.1111111111111111,\"#46039f\"],[0.2222222222222222,\"#7201a8\"],[0.3333333333333333,\"#9c179e\"],[0.4444444444444444,\"#bd3786\"],[0.5555555555555556,\"#d8576b\"],[0.6666666666666666,\"#ed7953\"],[0.7777777777777778,\"#fb9f3a\"],[0.8888888888888888,\"#fdca26\"],[1.0,\"#f0f921\"]],\"type\":\"contour\"}],\"contourcarpet\":[{\"colorbar\":{\"outlinewidth\":0,\"ticks\":\"\"},\"type\":\"contourcarpet\"}],\"heatmap\":[{\"colorbar\":{\"outlinewidth\":0,\"ticks\":\"\"},\"colorscale\":[[0.0,\"#0d0887\"],[0.1111111111111111,\"#46039f\"],[0.2222222222222222,\"#7201a8\"],[0.3333333333333333,\"#9c179e\"],[0.4444444444444444,\"#bd3786\"],[0.5555555555555556,\"#d8576b\"],[0.6666666666666666,\"#ed7953\"],[0.7777777777777778,\"#fb9f3a\"],[0.8888888888888888,\"#fdca26\"],[1.0,\"#f0f921\"]],\"type\":\"heatmap\"}],\"heatmapgl\":[{\"colorbar\":{\"outlinewidth\":0,\"ticks\":\"\"},\"colorscale\":[[0.0,\"#0d0887\"],[0.1111111111111111,\"#46039f\"],[0.2222222222222222,\"#7201a8\"],[0.3333333333333333,\"#9c179e\"],[0.4444444444444444,\"#bd3786\"],[0.5555555555555556,\"#d8576b\"],[0.6666666666666666,\"#ed7953\"],[0.7777777777777778,\"#fb9f3a\"],[0.8888888888888888,\"#fdca26\"],[1.0,\"#f0f921\"]],\"type\":\"heatmapgl\"}],\"histogram\":[{\"marker\":{\"pattern\":{\"fillmode\":\"overlay\",\"size\":10,\"solidity\":0.2}},\"type\":\"histogram\"}],\"histogram2d\":[{\"colorbar\":{\"outlinewidth\":0,\"ticks\":\"\"},\"colorscale\":[[0.0,\"#0d0887\"],[0.1111111111111111,\"#46039f\"],[0.2222222222222222,\"#7201a8\"],[0.3333333333333333,\"#9c179e\"],[0.4444444444444444,\"#bd3786\"],[0.5555555555555556,\"#d8576b\"],[0.6666666666666666,\"#ed7953\"],[0.7777777777777778,\"#fb9f3a\"],[0.8888888888888888,\"#fdca26\"],[1.0,\"#f0f921\"]],\"type\":\"histogram2d\"}],\"histogram2dcontour\":[{\"colorbar\":{\"outlinewidth\":0,\"ticks\":\"\"},\"colorscale\":[[0.0,\"#0d0887\"],[0.1111111111111111,\"#46039f\"],[0.2222222222222222,\"#7201a8\"],[0.3333333333333333,\"#9c179e\"],[0.4444444444444444,\"#bd3786\"],[0.5555555555555556,\"#d8576b\"],[0.6666666666666666,\"#ed7953\"],[0.7777777777777778,\"#fb9f3a\"],[0.8888888888888888,\"#fdca26\"],[1.0,\"#f0f921\"]],\"type\":\"histogram2dcontour\"}],\"mesh3d\":[{\"colorbar\":{\"outlinewidth\":0,\"ticks\":\"\"},\"type\":\"mesh3d\"}],\"parcoords\":[{\"line\":{\"colorbar\":{\"outlinewidth\":0,\"ticks\":\"\"}},\"type\":\"parcoords\"}],\"pie\":[{\"automargin\":true,\"type\":\"pie\"}],\"scatter\":[{\"marker\":{\"colorbar\":{\"outlinewidth\":0,\"ticks\":\"\"}},\"type\":\"scatter\"}],\"scatter3d\":[{\"line\":{\"colorbar\":{\"outlinewidth\":0,\"ticks\":\"\"}},\"marker\":{\"colorbar\":{\"outlinewidth\":0,\"ticks\":\"\"}},\"type\":\"scatter3d\"}],\"scattercarpet\":[{\"marker\":{\"colorbar\":{\"outlinewidth\":0,\"ticks\":\"\"}},\"type\":\"scattercarpet\"}],\"scattergeo\":[{\"marker\":{\"colorbar\":{\"outlinewidth\":0,\"ticks\":\"\"}},\"type\":\"scattergeo\"}],\"scattergl\":[{\"marker\":{\"colorbar\":{\"outlinewidth\":0,\"ticks\":\"\"}},\"type\":\"scattergl\"}],\"scattermapbox\":[{\"marker\":{\"colorbar\":{\"outlinewidth\":0,\"ticks\":\"\"}},\"type\":\"scattermapbox\"}],\"scatterpolar\":[{\"marker\":{\"colorbar\":{\"outlinewidth\":0,\"ticks\":\"\"}},\"type\":\"scatterpolar\"}],\"scatterpolargl\":[{\"marker\":{\"colorbar\":{\"outlinewidth\":0,\"ticks\":\"\"}},\"type\":\"scatterpolargl\"}],\"scatterternary\":[{\"marker\":{\"colorbar\":{\"outlinewidth\":0,\"ticks\":\"\"}},\"type\":\"scatterternary\"}],\"surface\":[{\"colorbar\":{\"outlinewidth\":0,\"ticks\":\"\"},\"colorscale\":[[0.0,\"#0d0887\"],[0.1111111111111111,\"#46039f\"],[0.2222222222222222,\"#7201a8\"],[0.3333333333333333,\"#9c179e\"],[0.4444444444444444,\"#bd3786\"],[0.5555555555555556,\"#d8576b\"],[0.6666666666666666,\"#ed7953\"],[0.7777777777777778,\"#fb9f3a\"],[0.8888888888888888,\"#fdca26\"],[1.0,\"#f0f921\"]],\"type\":\"surface\"}],\"table\":[{\"cells\":{\"fill\":{\"color\":\"#EBF0F8\"},\"line\":{\"color\":\"white\"}},\"header\":{\"fill\":{\"color\":\"#C8D4E3\"},\"line\":{\"color\":\"white\"}},\"type\":\"table\"}]},\"layout\":{\"annotationdefaults\":{\"arrowcolor\":\"#2a3f5f\",\"arrowhead\":0,\"arrowwidth\":1},\"autotypenumbers\":\"strict\",\"coloraxis\":{\"colorbar\":{\"outlinewidth\":0,\"ticks\":\"\"}},\"colorscale\":{\"diverging\":[[0,\"#8e0152\"],[0.1,\"#c51b7d\"],[0.2,\"#de77ae\"],[0.3,\"#f1b6da\"],[0.4,\"#fde0ef\"],[0.5,\"#f7f7f7\"],[0.6,\"#e6f5d0\"],[0.7,\"#b8e186\"],[0.8,\"#7fbc41\"],[0.9,\"#4d9221\"],[1,\"#276419\"]],\"sequential\":[[0.0,\"#0d0887\"],[0.1111111111111111,\"#46039f\"],[0.2222222222222222,\"#7201a8\"],[0.3333333333333333,\"#9c179e\"],[0.4444444444444444,\"#bd3786\"],[0.5555555555555556,\"#d8576b\"],[0.6666666666666666,\"#ed7953\"],[0.7777777777777778,\"#fb9f3a\"],[0.8888888888888888,\"#fdca26\"],[1.0,\"#f0f921\"]],\"sequentialminus\":[[0.0,\"#0d0887\"],[0.1111111111111111,\"#46039f\"],[0.2222222222222222,\"#7201a8\"],[0.3333333333333333,\"#9c179e\"],[0.4444444444444444,\"#bd3786\"],[0.5555555555555556,\"#d8576b\"],[0.6666666666666666,\"#ed7953\"],[0.7777777777777778,\"#fb9f3a\"],[0.8888888888888888,\"#fdca26\"],[1.0,\"#f0f921\"]]},\"colorway\":[\"#636efa\",\"#EF553B\",\"#00cc96\",\"#ab63fa\",\"#FFA15A\",\"#19d3f3\",\"#FF6692\",\"#B6E880\",\"#FF97FF\",\"#FECB52\"],\"font\":{\"color\":\"#2a3f5f\"},\"geo\":{\"bgcolor\":\"white\",\"lakecolor\":\"white\",\"landcolor\":\"#E5ECF6\",\"showlakes\":true,\"showland\":true,\"subunitcolor\":\"white\"},\"hoverlabel\":{\"align\":\"left\"},\"hovermode\":\"closest\",\"mapbox\":{\"style\":\"light\"},\"paper_bgcolor\":\"white\",\"plot_bgcolor\":\"#E5ECF6\",\"polar\":{\"angularaxis\":{\"gridcolor\":\"white\",\"linecolor\":\"white\",\"ticks\":\"\"},\"bgcolor\":\"#E5ECF6\",\"radialaxis\":{\"gridcolor\":\"white\",\"linecolor\":\"white\",\"ticks\":\"\"}},\"scene\":{\"xaxis\":{\"backgroundcolor\":\"#E5ECF6\",\"gridcolor\":\"white\",\"gridwidth\":2,\"linecolor\":\"white\",\"showbackground\":true,\"ticks\":\"\",\"zerolinecolor\":\"white\"},\"yaxis\":{\"backgroundcolor\":\"#E5ECF6\",\"gridcolor\":\"white\",\"gridwidth\":2,\"linecolor\":\"white\",\"showbackground\":true,\"ticks\":\"\",\"zerolinecolor\":\"white\"},\"zaxis\":{\"backgroundcolor\":\"#E5ECF6\",\"gridcolor\":\"white\",\"gridwidth\":2,\"linecolor\":\"white\",\"showbackground\":true,\"ticks\":\"\",\"zerolinecolor\":\"white\"}},\"shapedefaults\":{\"line\":{\"color\":\"#2a3f5f\"}},\"ternary\":{\"aaxis\":{\"gridcolor\":\"white\",\"linecolor\":\"white\",\"ticks\":\"\"},\"baxis\":{\"gridcolor\":\"white\",\"linecolor\":\"white\",\"ticks\":\"\"},\"bgcolor\":\"#E5ECF6\",\"caxis\":{\"gridcolor\":\"white\",\"linecolor\":\"white\",\"ticks\":\"\"}},\"title\":{\"x\":0.05},\"xaxis\":{\"automargin\":true,\"gridcolor\":\"white\",\"linecolor\":\"white\",\"ticks\":\"\",\"title\":{\"standoff\":15},\"zerolinecolor\":\"white\",\"zerolinewidth\":2},\"yaxis\":{\"automargin\":true,\"gridcolor\":\"white\",\"linecolor\":\"white\",\"ticks\":\"\",\"title\":{\"standoff\":15},\"zerolinecolor\":\"white\",\"zerolinewidth\":2}}},\"scene\":{\"domain\":{\"x\":[0.0,1.0],\"y\":[0.0,1.0]},\"xaxis\":{\"title\":{\"text\":\"X1\"}},\"yaxis\":{\"title\":{\"text\":\"X2\"}},\"zaxis\":{\"title\":{\"text\":\"X3\"}}},\"coloraxis\":{\"colorbar\":{\"title\":{\"text\":\"color\"}},\"colorscale\":[[0.0,\"#0d0887\"],[0.1111111111111111,\"#46039f\"],[0.2222222222222222,\"#7201a8\"],[0.3333333333333333,\"#9c179e\"],[0.4444444444444444,\"#bd3786\"],[0.5555555555555556,\"#d8576b\"],[0.6666666666666666,\"#ed7953\"],[0.7777777777777778,\"#fb9f3a\"],[0.8888888888888888,\"#fdca26\"],[1.0,\"#f0f921\"]]},\"legend\":{\"tracegroupgap\":0},\"margin\":{\"t\":60}},                        {\"responsive\": true}                    ).then(function(){\n",
              "                            \n",
              "var gd = document.getElementById('30d1946f-aae9-4cd0-8592-0173a3f89046');\n",
              "var x = new MutationObserver(function (mutations, observer) {{\n",
              "        var display = window.getComputedStyle(gd).display;\n",
              "        if (!display || display === 'none') {{\n",
              "            console.log([gd, 'removed!']);\n",
              "            Plotly.purge(gd);\n",
              "            observer.disconnect();\n",
              "        }}\n",
              "}});\n",
              "\n",
              "// Listen for the removal of the full notebook cells\n",
              "var notebookContainer = gd.closest('#notebook-container');\n",
              "if (notebookContainer) {{\n",
              "    x.observe(notebookContainer, {childList: true});\n",
              "}}\n",
              "\n",
              "// Listen for the clearing of the current output cell\n",
              "var outputEl = gd.closest('.output');\n",
              "if (outputEl) {{\n",
              "    x.observe(outputEl, {childList: true});\n",
              "}}\n",
              "\n",
              "                        })                };                            </script>        </div>\n",
              "</body>\n",
              "</html>"
            ]
          },
          "metadata": {}
        }
      ],
      "source": [
        "# 3D visuals of predicted clusters\n",
        "import plotly.express as px\n",
        "plot = px.scatter_3d(df_3, x='X1', y='X2', z='X3', color=km.labels_)\n",
        "plot.show()"
      ]
    },
    {
      "cell_type": "markdown",
      "metadata": {
        "id": "TZKIFIWn0Wge"
      },
      "source": [
        "## Task 1 - Dataset 4 K Means Clustering"
      ]
    },
    {
      "cell_type": "code",
      "execution_count": null,
      "metadata": {
        "id": "fMwwJqRCklrB"
      },
      "outputs": [],
      "source": [
        "df_4 = pd.read_csv('/content/drive/MyDrive/IE5374 Workspace/Colab Notebooks/Project_1/Data4.csv')\n",
        "df_4 = df_4.drop('Unnamed: 0', axis=1)"
      ]
    },
    {
      "cell_type": "code",
      "execution_count": null,
      "metadata": {
        "colab": {
          "base_uri": "https://localhost:8080/",
          "height": 424
        },
        "id": "jH7A8sCi0iVp",
        "outputId": "a6dfa308-7fec-4087-bacc-ed47861c3fd8"
      },
      "outputs": [
        {
          "output_type": "execute_result",
          "data": {
            "text/plain": [
              "          X1      X2       X3  Class\n",
              "0   -0.45300 -0.8910  0.02300      0\n",
              "1    0.65300 -0.8460  0.02110      0\n",
              "2    0.39800  0.9130 -0.00139      0\n",
              "3    0.09520  1.0500  0.00628      0\n",
              "4    0.52400 -0.9410  0.03780      0\n",
              "..       ...     ...      ...    ...\n",
              "995  0.01520  0.0531 -0.36100      1\n",
              "996  0.05160  0.6910  0.87500      1\n",
              "997 -0.00511  1.3900 -0.94700      1\n",
              "998 -0.06710  0.7140  0.88100      1\n",
              "999 -0.05770  0.4280 -0.73000      1\n",
              "\n",
              "[1000 rows x 4 columns]"
            ],
            "text/html": [
              "\n",
              "  <div id=\"df-fb262902-6668-4745-848a-3f68ef12f902\">\n",
              "    <div class=\"colab-df-container\">\n",
              "      <div>\n",
              "<style scoped>\n",
              "    .dataframe tbody tr th:only-of-type {\n",
              "        vertical-align: middle;\n",
              "    }\n",
              "\n",
              "    .dataframe tbody tr th {\n",
              "        vertical-align: top;\n",
              "    }\n",
              "\n",
              "    .dataframe thead th {\n",
              "        text-align: right;\n",
              "    }\n",
              "</style>\n",
              "<table border=\"1\" class=\"dataframe\">\n",
              "  <thead>\n",
              "    <tr style=\"text-align: right;\">\n",
              "      <th></th>\n",
              "      <th>X1</th>\n",
              "      <th>X2</th>\n",
              "      <th>X3</th>\n",
              "      <th>Class</th>\n",
              "    </tr>\n",
              "  </thead>\n",
              "  <tbody>\n",
              "    <tr>\n",
              "      <th>0</th>\n",
              "      <td>-0.45300</td>\n",
              "      <td>-0.8910</td>\n",
              "      <td>0.02300</td>\n",
              "      <td>0</td>\n",
              "    </tr>\n",
              "    <tr>\n",
              "      <th>1</th>\n",
              "      <td>0.65300</td>\n",
              "      <td>-0.8460</td>\n",
              "      <td>0.02110</td>\n",
              "      <td>0</td>\n",
              "    </tr>\n",
              "    <tr>\n",
              "      <th>2</th>\n",
              "      <td>0.39800</td>\n",
              "      <td>0.9130</td>\n",
              "      <td>-0.00139</td>\n",
              "      <td>0</td>\n",
              "    </tr>\n",
              "    <tr>\n",
              "      <th>3</th>\n",
              "      <td>0.09520</td>\n",
              "      <td>1.0500</td>\n",
              "      <td>0.00628</td>\n",
              "      <td>0</td>\n",
              "    </tr>\n",
              "    <tr>\n",
              "      <th>4</th>\n",
              "      <td>0.52400</td>\n",
              "      <td>-0.9410</td>\n",
              "      <td>0.03780</td>\n",
              "      <td>0</td>\n",
              "    </tr>\n",
              "    <tr>\n",
              "      <th>...</th>\n",
              "      <td>...</td>\n",
              "      <td>...</td>\n",
              "      <td>...</td>\n",
              "      <td>...</td>\n",
              "    </tr>\n",
              "    <tr>\n",
              "      <th>995</th>\n",
              "      <td>0.01520</td>\n",
              "      <td>0.0531</td>\n",
              "      <td>-0.36100</td>\n",
              "      <td>1</td>\n",
              "    </tr>\n",
              "    <tr>\n",
              "      <th>996</th>\n",
              "      <td>0.05160</td>\n",
              "      <td>0.6910</td>\n",
              "      <td>0.87500</td>\n",
              "      <td>1</td>\n",
              "    </tr>\n",
              "    <tr>\n",
              "      <th>997</th>\n",
              "      <td>-0.00511</td>\n",
              "      <td>1.3900</td>\n",
              "      <td>-0.94700</td>\n",
              "      <td>1</td>\n",
              "    </tr>\n",
              "    <tr>\n",
              "      <th>998</th>\n",
              "      <td>-0.06710</td>\n",
              "      <td>0.7140</td>\n",
              "      <td>0.88100</td>\n",
              "      <td>1</td>\n",
              "    </tr>\n",
              "    <tr>\n",
              "      <th>999</th>\n",
              "      <td>-0.05770</td>\n",
              "      <td>0.4280</td>\n",
              "      <td>-0.73000</td>\n",
              "      <td>1</td>\n",
              "    </tr>\n",
              "  </tbody>\n",
              "</table>\n",
              "<p>1000 rows × 4 columns</p>\n",
              "</div>\n",
              "      <button class=\"colab-df-convert\" onclick=\"convertToInteractive('df-fb262902-6668-4745-848a-3f68ef12f902')\"\n",
              "              title=\"Convert this dataframe to an interactive table.\"\n",
              "              style=\"display:none;\">\n",
              "        \n",
              "  <svg xmlns=\"http://www.w3.org/2000/svg\" height=\"24px\"viewBox=\"0 0 24 24\"\n",
              "       width=\"24px\">\n",
              "    <path d=\"M0 0h24v24H0V0z\" fill=\"none\"/>\n",
              "    <path d=\"M18.56 5.44l.94 2.06.94-2.06 2.06-.94-2.06-.94-.94-2.06-.94 2.06-2.06.94zm-11 1L8.5 8.5l.94-2.06 2.06-.94-2.06-.94L8.5 2.5l-.94 2.06-2.06.94zm10 10l.94 2.06.94-2.06 2.06-.94-2.06-.94-.94-2.06-.94 2.06-2.06.94z\"/><path d=\"M17.41 7.96l-1.37-1.37c-.4-.4-.92-.59-1.43-.59-.52 0-1.04.2-1.43.59L10.3 9.45l-7.72 7.72c-.78.78-.78 2.05 0 2.83L4 21.41c.39.39.9.59 1.41.59.51 0 1.02-.2 1.41-.59l7.78-7.78 2.81-2.81c.8-.78.8-2.07 0-2.86zM5.41 20L4 18.59l7.72-7.72 1.47 1.35L5.41 20z\"/>\n",
              "  </svg>\n",
              "      </button>\n",
              "      \n",
              "  <style>\n",
              "    .colab-df-container {\n",
              "      display:flex;\n",
              "      flex-wrap:wrap;\n",
              "      gap: 12px;\n",
              "    }\n",
              "\n",
              "    .colab-df-convert {\n",
              "      background-color: #E8F0FE;\n",
              "      border: none;\n",
              "      border-radius: 50%;\n",
              "      cursor: pointer;\n",
              "      display: none;\n",
              "      fill: #1967D2;\n",
              "      height: 32px;\n",
              "      padding: 0 0 0 0;\n",
              "      width: 32px;\n",
              "    }\n",
              "\n",
              "    .colab-df-convert:hover {\n",
              "      background-color: #E2EBFA;\n",
              "      box-shadow: 0px 1px 2px rgba(60, 64, 67, 0.3), 0px 1px 3px 1px rgba(60, 64, 67, 0.15);\n",
              "      fill: #174EA6;\n",
              "    }\n",
              "\n",
              "    [theme=dark] .colab-df-convert {\n",
              "      background-color: #3B4455;\n",
              "      fill: #D2E3FC;\n",
              "    }\n",
              "\n",
              "    [theme=dark] .colab-df-convert:hover {\n",
              "      background-color: #434B5C;\n",
              "      box-shadow: 0px 1px 3px 1px rgba(0, 0, 0, 0.15);\n",
              "      filter: drop-shadow(0px 1px 2px rgba(0, 0, 0, 0.3));\n",
              "      fill: #FFFFFF;\n",
              "    }\n",
              "  </style>\n",
              "\n",
              "      <script>\n",
              "        const buttonEl =\n",
              "          document.querySelector('#df-fb262902-6668-4745-848a-3f68ef12f902 button.colab-df-convert');\n",
              "        buttonEl.style.display =\n",
              "          google.colab.kernel.accessAllowed ? 'block' : 'none';\n",
              "\n",
              "        async function convertToInteractive(key) {\n",
              "          const element = document.querySelector('#df-fb262902-6668-4745-848a-3f68ef12f902');\n",
              "          const dataTable =\n",
              "            await google.colab.kernel.invokeFunction('convertToInteractive',\n",
              "                                                     [key], {});\n",
              "          if (!dataTable) return;\n",
              "\n",
              "          const docLinkHtml = 'Like what you see? Visit the ' +\n",
              "            '<a target=\"_blank\" href=https://colab.research.google.com/notebooks/data_table.ipynb>data table notebook</a>'\n",
              "            + ' to learn more about interactive tables.';\n",
              "          element.innerHTML = '';\n",
              "          dataTable['output_type'] = 'display_data';\n",
              "          await google.colab.output.renderOutput(dataTable, element);\n",
              "          const docLink = document.createElement('div');\n",
              "          docLink.innerHTML = docLinkHtml;\n",
              "          element.appendChild(docLink);\n",
              "        }\n",
              "      </script>\n",
              "    </div>\n",
              "  </div>\n",
              "  "
            ]
          },
          "metadata": {},
          "execution_count": 18
        }
      ],
      "source": [
        "# Convert the labels of the defined classes from 1-7 to 0-6 as model prediction is between 0-6\n",
        "df_4.loc[df_4['Class']==1,'Class'] = 0\n",
        "df_4.loc[df_4['Class']==2,'Class'] = 1\n",
        "\n",
        "df_4"
      ]
    },
    {
      "cell_type": "code",
      "execution_count": null,
      "metadata": {
        "colab": {
          "base_uri": "https://localhost:8080/"
        },
        "id": "_fe8RQBO0iad",
        "outputId": "af6d5255-c21a-4dbe-802f-22b689eb0fff"
      },
      "outputs": [
        {
          "output_type": "stream",
          "name": "stdout",
          "text": [
            "[1 1 0 0 1 0 0 1 1 1 0 1 0 0 1 0 1 0 0 1 1 1 0 1 1 0 1 0 1 1 0 0 1 1 0 0 0\n",
            " 1 0 1 0 0 1 1 0 0 1 1 0 1 1 1 1 1 1 1 1 1 0 1 1 0 0 0 1 1 1 0 0 1 0 0 1 1\n",
            " 0 0 0 0 1 0 0 0 1 1 1 1 1 0 1 1 1 0 0 1 0 0 1 1 1 1 1 0 0 1 1 0 0 1 0 1 0\n",
            " 1 1 1 0 0 1 1 1 0 0 1 1 0 0 1 1 1 1 0 1 1 1 1 1 1 0 1 1 1 0 0 1 1 0 1 1 0\n",
            " 1 1 0 1 0 1 0 0 1 0 1 1 0 1 0 1 1 1 0 1 1 0 1 1 1 0 0 1 1 1 1 1 1 1 1 1 0\n",
            " 1 1 0 1 1 1 1 0 1 0 1 1 1 0 1 1 1 0 0 1 0 0 0 1 1 1 1 1 1 0 1 1 1 0 0 1 1\n",
            " 0 0 1 1 1 1 1 1 0 1 1 1 1 1 0 1 0 1 1 0 1 0 1 1 0 0 0 1 1 0 0 0 0 1 0 1 1\n",
            " 0 1 1 1 1 1 1 1 0 0 1 1 0 0 1 1 0 1 0 0 1 1 0 0 0 0 1 0 1 0 1 1 1 1 0 1 1\n",
            " 1 0 1 0 1 1 0 1 0 1 1 1 1 1 0 1 1 1 0 0 1 1 1 0 1 1 1 1 0 0 0 0 1 1 0 0 1\n",
            " 0 0 1 1 0 0 1 0 1 1 1 1 1 0 0 0 1 0 0 1 1 0 1 1 0 0 0 1 1 0 0 0 1 1 1 1 1\n",
            " 1 1 1 1 1 1 1 1 0 1 0 1 0 0 0 0 1 1 1 1 0 1 1 1 1 1 0 1 0 1 1 0 0 0 1 1 0\n",
            " 1 1 1 1 0 0 1 0 1 1 1 1 1 0 0 1 1 0 1 0 1 1 0 0 1 1 0 1 1 1 1 1 1 1 1 1 0\n",
            " 1 0 1 0 1 1 1 1 0 1 1 1 1 1 0 1 1 1 0 1 1 1 1 0 1 0 1 1 1 1 1 1 1 0 0 1 1\n",
            " 0 0 0 1 1 0 1 1 0 1 1 1 1 1 1 1 0 1 1 0 0 0 0 0 0 0 0 0 0 0 0 0 0 0 0 0 0\n",
            " 0 0 0 0 0 0 0 0 0 0 0 0 0 0 0 0 0 0 0 0 0 0 0 0 0 0 0 0 0 0 0 0 0 0 0 0 0\n",
            " 0 0 0 0 0 0 0 0 0 0 0 0 0 0 0 0 0 0 0 0 0 0 0 0 0 0 0 0 0 0 0 0 0 0 0 0 0\n",
            " 0 0 0 0 0 0 0 0 0 0 0 0 0 0 0 0 0 0 0 0 0 0 0 0 0 0 0 0 0 0 0 0 0 0 0 0 0\n",
            " 0 0 0 0 0 0 0 0 0 0 0 0 0 0 0 0 0 0 0 0 0 0 0 0 0 0 0 0 0 0 0 0 0 0 0 0 0\n",
            " 0 0 0 0 0 0 0 0 0 0 0 0 0 0 0 0 0 0 0 0 0 0 0 0 0 0 0 0 0 0 0 0 0 0 0 0 0\n",
            " 0 0 0 0 0 0 0 0 0 0 0 0 0 0 0 0 0 0 0 0 0 0 0 0 0 0 0 0 0 0 0 0 0 0 0 0 0\n",
            " 0 0 0 0 0 0 0 0 0 0 0 0 0 0 0 0 0 0 0 0 0 0 0 0 0 0 0 0 0 0 0 0 0 0 0 0 0\n",
            " 0 0 0 0 0 0 0 0 0 0 0 0 0 0 0 0 0 0 0 0 0 0 0 0 0 0 0 0 0 0 0 0 0 0 0 0 0\n",
            " 0 0 0 0 0 0 0 0 0 0 0 0 0 0 0 0 0 0 0 0 0 0 0 0 0 0 0 0 0 0 0 0 0 0 0 0 0\n",
            " 0 0 0 0 0 0 0 0 0 0 0 0 0 0 0 0 0 0 0 0 0 0 0 0 0 0 0 0 0 0 0 0 0 0 0 0 0\n",
            " 0 0 0 0 0 0 0 0 0 0 0 0 0 0 0 0 0 0 0 0 0 0 0 0 0 0 0 0 0 0 0 0 0 0 0 0 0\n",
            " 0 0 0 0 0 0 0 0 0 0 0 0 0 0 0 0 0 0 0 0 0 0 0 0 0 0 0 0 0 0 0 0 0 0 0 0 0\n",
            " 0 0 0 0 0 0 0 0 0 0 0 0 0 0 0 0 0 0 0 0 0 0 0 0 0 0 0 0 0 0 0 0 0 0 0 0 0\n",
            " 0]\n",
            "\n",
            "\n",
            "Accuracy Score : 0.186\n",
            "F1 Score : 0.15682967959527824\n"
          ]
        }
      ],
      "source": [
        "from sklearn.cluster import KMeans\n",
        "from sklearn.metrics import adjusted_rand_score, accuracy_score, f1_score\n",
        "from sklearn.preprocessing import MinMaxScaler\n",
        "\n",
        "# Kmeans clustering model\n",
        "\n",
        "km = KMeans(n_clusters=2,random_state=200)\n",
        "km.fit_predict(df_4)\n",
        "print(km.labels_)\n",
        "\n",
        "print(\"\\n\")\n",
        "print(\"Accuracy Score :\",accuracy_score(df_4['Class'],km.labels_))\n",
        "print(\"F1 Score :\", f1_score(df_4['Class'], km.labels_, average=\"macro\"))\n",
        "#print(\"Adjusted Random Index :\",adjusted_rand_score(df_4['Class'],km.labels_))"
      ]
    },
    {
      "cell_type": "markdown",
      "source": [
        "Hierarchical Clustering"
      ],
      "metadata": {
        "id": "AN7TnmWEVfZq"
      }
    },
    {
      "cell_type": "code",
      "source": [
        "from sklearn.cluster import AgglomerativeClustering\n",
        "import scipy.cluster.hierarchy as shc\n",
        "mdlh=AgglomerativeClustering()\n",
        "mdlh.fit(df_4)\n",
        "mdlh.labels_\n",
        "\n",
        "\n",
        "dend = shc.dendrogram(shc.linkage(df_4.iloc[:,0:3], method='ward'))\n",
        "plt.axhline(y=20, color='r', linestyle='--')\n",
        "plt.gcf().set_size_inches(12,7)"
      ],
      "metadata": {
        "colab": {
          "base_uri": "https://localhost:8080/",
          "height": 428
        },
        "id": "MgxjartIVezl",
        "outputId": "0e85f444-c123-463c-b0a9-fd8a5759f344"
      },
      "execution_count": null,
      "outputs": [
        {
          "output_type": "display_data",
          "data": {
            "text/plain": [
              "<Figure size 864x504 with 1 Axes>"
            ],
            "image/png": "[encoded data removed]"
          },
          "metadata": {
            "needs_background": "light"
          }
        }
      ]
    },
    {
      "cell_type": "code",
      "execution_count": null,
      "metadata": {
        "colab": {
          "base_uri": "https://localhost:8080/",
          "height": 542
        },
        "id": "FTtNG7Yv0ic_",
        "outputId": "401ccf98-92dc-4d7e-de2f-dadea6f110b3"
      },
      "outputs": [
        {
          "output_type": "display_data",
          "data": {
            "text/html": [
              "<html>\n",
              "<head><meta charset=\"utf-8\" /></head>\n",
              "<body>\n",
              "    <div>            <script src=\"https://cdnjs.cloudflare.com/ajax/libs/mathjax/2.7.5/MathJax.js?config=TeX-AMS-MML_SVG\"></script><script type=\"text/javascript\">if (window.MathJax) {MathJax.Hub.Config({SVG: {font: \"STIX-Web\"}});}</script>                <script type=\"text/javascript\">window.PlotlyConfig = {MathJaxConfig: 'local'};</script>\n",
              "        <script src=\"https://cdn.plot.ly/plotly-2.8.3.min.js\"></script>                <div id=\"2631ecce-098c-4e84-b4f4-52e185af85a2\" class=\"plotly-graph-div\" style=\"height:525px; width:100%;\"></div>            <script type=\"text/javascript\">                                    window.PLOTLYENV=window.PLOTLYENV || {};                                    if (document.getElementById(\"2631ecce-098c-4e84-b4f4-52e185af85a2\")) {                    Plotly.newPlot(                        \"2631ecce-098c-4e84-b4f4-52e185af85a2\",                        [{\"hovertemplate\":\"X1=%{x}<br>X2=%{y}<br>X3=%{z}<br>color=%{marker.color}<extra></extra>\",\"legendgroup\":\"\",\"marker\":{\"color\":[1,1,0,0,1,0,0,1,1,1,0,1,0,0,1,0,1,0,0,1,1,1,0,1,1,0,1,0,1,1,0,0,1,1,0,0,0,1,0,1,0,0,1,1,0,0,1,1,0,1,1,1,1,1,1,1,1,1,0,1,1,0,0,0,1,1,1,0,0,1,0,0,1,1,0,0,0,0,1,0,0,0,1,1,1,1,1,0,1,1,1,0,0,1,0,0,1,1,1,1,1,0,0,1,1,0,0,1,0,1,0,1,1,1,0,0,1,1,1,0,0,1,1,0,0,1,1,1,1,0,1,1,1,1,1,1,0,1,1,1,0,0,1,1,0,1,1,0,1,1,0,1,0,1,0,0,1,0,1,1,0,1,0,1,1,1,0,1,1,0,1,1,1,0,0,1,1,1,1,1,1,1,1,1,0,1,1,0,1,1,1,1,0,1,0,1,1,1,0,1,1,1,0,0,1,0,0,0,1,1,1,1,1,1,0,1,1,1,0,0,1,1,0,0,1,1,1,1,1,1,0,1,1,1,1,1,0,1,0,1,1,0,1,0,1,1,0,0,0,1,1,0,0,0,0,1,0,1,1,0,1,1,1,1,1,1,1,0,0,1,1,0,0,1,1,0,1,0,0,1,1,0,0,0,0,1,0,1,0,1,1,1,1,0,1,1,1,0,1,0,1,1,0,1,0,1,1,1,1,1,0,1,1,1,0,0,1,1,1,0,1,1,1,1,0,0,0,0,1,1,0,0,1,0,0,1,1,0,0,1,0,1,1,1,1,1,0,0,0,1,0,0,1,1,0,1,1,0,0,0,1,1,0,0,0,1,1,1,1,1,1,1,1,1,1,1,1,1,0,1,0,1,0,0,0,0,1,1,1,1,0,1,1,1,1,1,0,1,0,1,1,0,0,0,1,1,0,1,1,1,1,0,0,1,0,1,1,1,1,1,0,0,1,1,0,1,0,1,1,0,0,1,1,0,1,1,1,1,1,1,1,1,1,0,1,0,1,0,1,1,1,1,0,1,1,1,1,1,0,1,1,1,0,1,1,1,1,0,1,0,1,1,1,1,1,1,1,0,0,1,1,0,0,0,1,1,0,1,1,0,1,1,1,1,1,1,1,0,1,1,0,0,0,0,0,0,0,0,0,0,0,0,0,0,0,0,0,0,0,0,0,0,0,0,0,0,0,0,0,0,0,0,0,0,0,0,0,0,0,0,0,0,0,0,0,0,0,0,0,0,0,0,0,0,0,0,0,0,0,0,0,0,0,0,0,0,0,0,0,0,0,0,0,0,0,0,0,0,0,0,0,0,0,0,0,0,0,0,0,0,0,0,0,0,0,0,0,0,0,0,0,0,0,0,0,0,0,0,0,0,0,0,0,0,0,0,0,0,0,0,0,0,0,0,0,0,0,0,0,0,0,0,0,0,0,0,0,0,0,0,0,0,0,0,0,0,0,0,0,0,0,0,0,0,0,0,0,0,0,0,0,0,0,0,0,0,0,0,0,0,0,0,0,0,0,0,0,0,0,0,0,0,0,0,0,0,0,0,0,0,0,0,0,0,0,0,0,0,0,0,0,0,0,0,0,0,0,0,0,0,0,0,0,0,0,0,0,0,0,0,0,0,0,0,0,0,0,0,0,0,0,0,0,0,0,0,0,0,0,0,0,0,0,0,0,0,0,0,0,0,0,0,0,0,0,0,0,0,0,0,0,0,0,0,0,0,0,0,0,0,0,0,0,0,0,0,0,0,0,0,0,0,0,0,0,0,0,0,0,0,0,0,0,0,0,0,0,0,0,0,0,0,0,0,0,0,0,0,0,0,0,0,0,0,0,0,0,0,0,0,0,0,0,0,0,0,0,0,0,0,0,0,0,0,0,0,0,0,0,0,0,0,0,0,0,0,0,0,0,0,0,0,0,0,0,0,0,0,0,0,0,0,0,0,0,0,0,0,0,0,0,0,0,0,0,0,0,0,0,0,0,0,0,0,0,0,0,0,0,0,0,0,0,0,0,0,0,0,0,0,0,0,0,0,0,0,0,0,0,0,0,0,0,0,0,0,0,0,0,0,0,0,0,0,0,0,0,0,0,0,0,0,0,0,0,0,0,0,0,0,0,0,0,0,0,0,0,0,0,0,0,0,0,0,0,0,0,0,0,0,0,0,0,0,0,0,0,0,0,0,0,0,0,0,0,0,0,0,0,0,0,0,0,0,0,0,0,0,0,0,0,0,0,0,0,0,0,0,0,0],\"coloraxis\":\"coloraxis\",\"symbol\":\"circle\"},\"mode\":\"markers\",\"name\":\"\",\"scene\":\"scene\",\"showlegend\":false,\"x\":[-0.453,0.653,0.398,0.0952,0.524,-0.0263,0.425,-0.991,-1.01,-0.73,0.879,-0.845,-0.385,0.24,1.03,0.871,-1.02,0.592,0.297,-0.832,0.607,-0.712,-0.537,-0.893,0.0724,0.579,0.866,-0.36,-0.778,-0.0979,0.887,0.754,1.05,-0.205,0.797,0.807,-0.0722,-0.415,-0.0832,0.508,-0.238,-0.634,-0.852,-0.573,-0.723,-0.677,-0.464,-0.711,0.612,-0.58,0.17,0.769,-0.293,-0.209,0.3,-0.0317,0.223,0.91,0.391,-0.995,-1.03,-0.0574,0.779,0.515,-0.968,-0.891,-1.05,-0.117,-0.652,0.776,0.394,0.491,-1.03,0.224,-0.897,-0.738,0.0433,0.633,-0.988,-0.626,0.928,0.929,0.549,0.312,0.379,-0.615,0.914,-0.73,-1.07,0.949,-0.171,-0.059,0.499,0.355,0.471,-0.701,-0.987,0.761,-0.574,0.927,0.579,-0.654,0.427,1.04,-0.979,0.398,0.89,0.869,-0.245,0.936,-0.815,-0.971,-0.283,0.907,0.728,-0.0941,0.428,-0.796,0.214,-0.664,-0.306,1.03,0.897,0.857,-0.887,0.117,-0.943,-0.896,0.345,-0.687,0.293,-1.01,-0.184,1.04,0.642,-0.0802,-0.315,0.968,-0.892,0.436,-0.202,-0.886,-0.607,0.898,0.637,0.854,0.895,-0.777,0.886,-0.508,0.393,0.811,0.927,0.569,0.872,0.204,0.915,-0.45,-0.917,0.408,0.817,0.924,-0.111,-0.964,0.605,-0.818,0.837,-0.806,0.355,0.289,-0.729,0.931,0.99,-0.419,-0.64,-1.0,-0.717,0.886,-0.037,-0.789,0.0872,-0.839,0.753,0.031,-0.736,0.381,-0.904,0.89,-0.921,0.602,-0.272,-0.988,-0.478,-0.995,0.472,1.02,-0.197,-0.947,0.902,-0.776,0.477,-1.02,0.693,-0.459,0.119,0.837,-0.811,0.883,1.07,-0.652,-0.991,-0.315,-0.445,0.783,0.086,-0.162,-1.0,-0.915,0.536,0.769,-0.0207,0.892,0.326,0.0703,-0.953,-1.06,0.659,0.626,-0.938,-0.67,-0.633,0.345,-0.459,0.827,-0.404,-0.978,-0.702,0.52,0.764,0.688,0.564,0.534,-0.991,0.524,0.991,-0.474,-0.871,-0.532,0.0484,0.444,0.121,-0.0483,0.84,-0.69,-0.752,-0.131,0.791,0.975,-1.02,-0.643,-0.985,0.137,-0.967,-0.0104,0.863,-0.621,-0.993,0.137,-0.728,-0.258,1.03,0.669,-0.707,0.977,-0.813,-0.475,-0.806,-0.285,0.847,-0.891,-0.179,-0.868,-0.914,0.627,-0.414,-0.964,0.391,-0.938,0.872,0.507,0.587,0.605,-0.98,0.6,1.05,0.987,-0.971,-0.7,0.975,0.378,-1.03,-1.02,-0.0628,-0.049,0.775,1.03,-0.203,-0.622,0.531,-0.685,0.885,-0.0216,0.37,-0.504,-0.464,-0.782,-0.202,0.314,0.585,0.449,0.381,0.283,0.447,0.974,0.594,0.327,-0.654,0.765,0.903,-0.595,-0.639,0.19,-0.43,-0.939,0.181,0.905,0.419,0.128,-0.41,-0.775,-0.928,-0.827,-0.0654,0.836,-0.854,-0.907,0.867,0.856,0.162,0.0192,-0.188,0.735,-0.96,-1.0,0.654,-0.635,0.883,-0.698,0.593,0.984,-0.359,0.781,0.17,-0.721,-0.583,-0.488,0.177,0.134,0.172,-0.849,0.875,0.967,0.427,0.429,0.271,0.934,-0.993,0.328,-0.781,0.836,0.657,0.0858,-0.183,-0.0836,-0.569,-0.414,0.675,0.516,-0.654,-0.45,-0.15,0.835,-0.995,0.0474,0.855,-0.406,-0.102,-0.661,-0.713,-0.431,-0.494,-0.759,0.539,-0.19,0.0569,0.862,0.374,0.959,1.01,-0.925,-0.961,-0.653,-0.758,-0.179,-0.464,0.875,-0.331,-0.921,-1.0,-0.429,0.425,-0.186,-0.81,-0.827,0.0186,-0.998,0.878,-0.609,-0.776,0.845,-0.773,0.688,-0.895,0.961,1.01,0.94,0.979,-0.442,0.603,-0.86,-0.573,-0.705,-1.01,0.851,0.905,-0.633,0.519,0.877,0.448,-0.394,0.767,-0.924,-0.542,0.742,0.801,-0.767,-0.478,0.386,0.579,-0.407,0.771,-0.954,-0.661,-0.821,0.412,0.5,0.45,0.572,-0.604,-0.579,0.804,0.497,0.131,-0.434,-0.968,-0.871,1.01,-0.0175,-0.0881,-0.12,-0.937,-0.636,0.923,0.0416,0.748,-0.93,0.249,0.422,-0.899,-0.669,0.264,-0.879,-0.901,0.572,0.91,-0.361,0.875,-0.947,0.881,-0.73,0.023,0.0211,-0.00139,0.00628,0.0378,0.0218,-0.0285,0.0511,0.038,-0.0312,0.0439,0.0849,0.00558,0.048,0.0727,-0.0403,0.0278,0.0361,0.00662,0.0542,-0.0182,0.0125,0.00197,-0.0108,0.0486,-0.000759,0.00596,-0.0163,-0.0865,0.0224,0.0486,-0.0179,0.0238,-0.0306,0.0313,-0.0022,-0.0157,0.0199,0.036,0.0221,-0.0305,-0.0258,0.00465,0.0685,0.0318,-0.00521,-0.0345,-0.0682,-0.0168,-0.0398,0.0132,-0.0136,0.0172,0.0158,0.00309,0.0108,0.0138,-0.0155,-0.0276,0.0362,0.0937,0.00857,-0.0371,-0.0268,-0.0816,-0.034,-0.0103,-0.043,0.0177,-0.000988,-0.0246,0.00246,0.00174,-0.032,0.023,-0.0471,0.00162,0.00724,-0.00411,0.0882,0.0664,0.047,0.0105,-0.0209,0.0297,-0.0178,0.0108,0.0105,-0.043,-0.000192,0.0115,-0.0718,0.0589,-0.0848,-0.0613,-0.0347,-0.000942,-0.0158,-0.0214,0.0365,0.00343,0.0445,-0.0379,0.0813,-0.00902,-0.0108,0.0658,0.027,-0.0189,0.00446,-0.0574,-0.00957,-0.0375,-0.000365,-0.00337,-0.011,-0.0345,0.0249,-0.0105,0.0739,0.00343,0.0593,0.0528,0.0508,-0.063,0.00448,-0.00359,0.00037,0.0366,-0.0821,0.00899,-0.0289,-0.0111,0.0814,-0.0767,-0.00217,0.0554,0.0813,0.0199,-0.0228,0.0549,-0.00618,-0.0096,-0.0155,0.0147,0.0669,-0.0395,0.034,0.0233,0.000597,0.0551,-0.0442,0.0358,-0.073,-0.0539,0.0308,-0.0892,0.0207,-0.0724,0.0152,0.0493,0.00251,0.00817,0.0471,-0.0337,-0.0356,0.00956,0.0265,-0.00756,-0.000797,0.0923,0.0357,0.0273,0.0109,0.0239,0.0947,0.0596,-0.0727,0.0446,0.00378,0.0691,0.00118,0.0034,0.0603,-0.0985,-0.0489,-0.0608,0.0918,-0.0392,0.0637,0.0527,0.0373,-0.00584,-0.0183,-0.0743,0.0562,0.023,-0.0368,0.00415,-0.0402,-0.0262,0.075,0.0583,0.0306,0.0385,0.068,0.00052,0.000414,-0.0218,0.042,-0.0954,-0.0183,0.065,0.00831,-0.0705,0.000729,0.0901,-0.0561,0.0245,0.0608,0.0229,0.00766,0.0109,-0.0169,-0.0318,0.0484,0.0562,-0.0224,-0.0386,0.0158,0.0213,-0.0679,0.0692,-0.00386,0.0615,-0.00225,0.0282,-0.0123,-0.00815,0.00145,0.0801,-0.016,0.00802,0.0107,0.0434,0.035,0.00698,-0.00885,0.0476,-0.003,-0.0715,0.0242,0.0122,-0.0466,0.00394,0.00985,0.0284,0.0303,0.026,-0.0604,0.00622,-0.0654,0.000749,-0.019,-0.0401,0.0561,-0.00384,-0.0266,-0.0144,0.015,-0.0874,-0.00736,-0.0552,-0.000199,0.0242,-0.0385,-0.0765,0.0257,-0.0577,0.0352,0.0251,0.000919,0.0622,-0.0141,-0.0844,-0.0118,-0.0693,0.0199,0.0505,0.0194,0.0673,-0.0154,-0.0369,0.0757,-0.0106,0.0235,0.0215,0.0471,-0.0287,-0.0461,0.0459,-8.77e-05,-0.00454,-0.000586,-0.0416,0.0341,0.00453,0.0525,-0.0423,-0.00358,0.037,0.00931,0.0192,-0.0378,0.014,0.0137,-0.00423,-0.00373,-0.0171,0.055,0.0647,0.0389,0.0838,0.0351,-0.0111,0.000201,0.0619,-0.0698,-0.0188,-0.00427,-0.0349,0.0565,-0.0638,0.048,-0.061,0.0626,-0.0267,-0.0204,-0.0163,0.0923,0.035,0.0498,0.0189,0.036,0.0671,0.0253,-0.00343,-0.0832,0.00244,0.049,0.0188,0.0325,0.00743,0.0249,0.0544,-0.0847,0.053,-0.0331,-0.00198,0.0343,0.00506,0.0769,0.00998,-0.0169,0.0477,0.0478,0.00297,-0.023,0.0109,0.0287,-0.0254,0.0181,-0.000431,-0.071,-0.0225,0.044,-0.0464,0.0279,0.00272,0.0153,0.0767,-0.0397,-0.00152,-0.00573,-0.00293,-0.0289,-0.0395,-0.0296,0.0254,0.0583,-0.0399,-0.00578,-0.00442,0.0146,-0.0766,0.0846,-0.0343,-0.0249,0.0838,0.0575,0.014,0.0386,-0.0491,-0.0118,-0.00828,-0.0237,-0.0445,0.0516,0.0693,0.0172,-0.00323,0.00663,-0.0836,-0.0128,0.0625,-0.0428,-0.00794,0.0101,-0.0253,-0.0561,0.0283,-0.0342,-0.00101,0.000969,0.0128,0.00632,-0.0228,0.0223,-0.0487,-0.0196,0.00587,0.0082,-0.0627,0.0465,0.0213,0.000526,0.00361,0.0292,0.00673,0.0466,0.0262,-0.0204,-0.0039,0.0561,0.00935,0.0319,0.0108,0.00904,0.0945,0.0131,-0.0175,0.0173,-0.0327,0.0416,-0.00591,0.0454,0.0241,-0.000667,-0.0496,0.0264,0.0267,-0.0457,-0.0116,0.073,0.042,0.00687,0.0543,-0.0763,0.00165,-0.000644,-0.0022,-0.000554,-0.022,0.014,-0.0967,-0.0261,-0.0514,-0.0283,-0.0696,-0.0805,0.0431,0.00803,-0.0255,-0.00861,-0.00929,-0.0793,0.0195,0.0564,0.084,-0.00884,-0.048,-0.0289,-0.0731,0.00323,-0.0561,0.0152,0.0516,-0.00511,-0.0671,-0.0577],\"y\":[-0.891,-0.846,0.913,1.05,-0.941,1.0,0.908,-0.275,-0.0353,-0.631,0.346,-0.459,0.921,0.884,-0.26,0.502,-0.00556,0.787,0.946,-0.403,-0.782,-0.739,0.859,-0.42,-0.913,0.819,-0.496,1.03,-0.603,-0.988,0.401,0.742,-0.0772,-0.956,0.551,0.629,1.01,-0.972,1.09,-0.794,0.906,0.689,-0.596,-0.891,0.712,0.804,-0.969,-0.761,0.845,-0.746,-0.975,-0.622,-0.98,-1.0,-0.965,-1.04,-0.975,-0.484,0.884,-0.0568,0.0244,1.01,0.691,0.836,0.117,-0.502,-0.177,1.06,0.724,-0.681,0.939,0.868,-0.31,-0.939,0.474,0.646,1.02,0.783,-0.335,0.746,0.521,0.323,-0.87,-0.902,-0.936,-0.906,-0.575,0.703,-0.0547,-0.245,-0.974,0.93,0.824,-0.895,0.851,0.724,-0.171,-0.535,-0.77,0.101,-0.772,0.763,0.837,0.0493,-0.0505,0.886,0.572,-0.419,0.925,0.121,0.586,0.293,-0.998,-0.417,0.683,0.989,-0.945,-0.592,-0.975,0.771,0.857,0.224,-0.281,0.392,0.485,-0.99,-0.335,-0.453,-0.954,0.703,-0.973,-0.00601,-0.929,-0.0431,-0.848,-0.95,0.977,0.292,-0.376,-0.92,1.02,0.576,-0.796,-0.349,0.757,-0.467,0.204,0.647,-0.504,-0.86,0.934,-0.483,0.342,-0.746,0.315,0.977,-0.471,0.89,-0.462,-0.919,0.513,-0.478,0.991,0.141,-0.889,-0.553,0.535,-0.609,-0.944,0.959,-0.733,0.0353,-0.00617,0.863,0.838,-0.0656,-0.708,-0.472,-1.0,-0.613,-1.0,-0.552,-0.53,-1.02,0.654,-0.927,-0.31,0.402,-0.281,-0.878,-0.976,-0.0399,0.867,-0.149,0.829,-0.0731,-0.941,0.115,0.557,-0.719,-0.874,-0.179,0.632,0.929,-1.08,0.503,0.672,0.47,-0.0124,-0.792,-0.0248,-0.882,-0.926,-0.573,1.06,-0.987,0.241,-0.134,0.876,0.692,-1.08,-0.464,1.0,1.0,-0.0362,0.104,-0.682,-0.811,-0.176,-0.652,0.816,-0.877,-0.829,-0.671,-0.907,-0.24,0.69,-0.946,0.651,-0.724,-0.779,0.804,-0.154,0.923,0.0649,-0.95,0.475,0.852,0.993,-0.829,-1.02,1.09,0.374,0.606,0.717,-1.01,0.602,-0.465,-0.156,0.697,0.221,-0.954,-0.254,-0.98,-0.531,-0.869,0.126,1.05,0.647,-0.973,-0.0982,0.696,0.709,0.213,-0.614,0.803,-0.501,0.925,0.593,-0.305,-1.0,0.495,0.46,0.651,0.876,-0.28,0.884,-0.232,0.646,-0.877,-0.795,-0.77,-0.138,0.791,0.029,-0.121,-0.297,0.614,0.0887,0.932,-0.0892,-0.32,1.0,-0.987,0.718,-0.114,-1.0,-0.784,-0.899,-0.725,0.601,-0.998,-0.914,-0.952,0.87,0.557,-0.987,-0.871,-0.819,0.853,-0.864,-1.0,-0.901,0.239,0.778,0.927,0.713,0.696,-0.275,-0.807,0.764,0.907,-0.899,0.484,1.04,-0.286,-0.873,0.947,0.9,-0.576,0.422,-0.503,-0.924,-0.379,-0.632,0.318,0.523,0.555,1.03,-1.01,0.953,0.756,-0.275,0.134,0.688,-0.788,-0.377,0.671,0.804,0.312,-0.938,-0.681,0.968,0.671,0.897,-0.903,-0.906,-0.98,-0.959,-0.616,-0.588,-0.23,-0.905,-0.869,-0.906,-0.0368,-0.264,-0.921,0.638,-0.623,0.809,-1.06,0.983,0.989,0.819,0.907,-0.82,-0.866,-0.793,-0.925,0.992,-0.542,-0.049,-1.0,-0.487,-0.945,0.916,-0.629,0.763,-0.88,-0.86,0.611,0.862,0.969,-0.966,-0.609,0.892,-0.19,0.156,0.354,-0.26,0.745,0.727,-0.912,0.83,-0.43,-0.937,-0.304,-0.09,-0.905,0.838,0.908,-0.611,-0.387,1.01,-0.327,0.485,-0.809,-0.503,0.569,0.652,-0.803,-0.484,0.303,0.174,-0.338,-0.011,-0.897,-0.689,-0.496,-0.917,-0.666,-0.106,0.416,0.0292,0.792,-0.756,0.448,-0.924,-0.932,-0.574,-0.391,0.745,-0.555,-0.521,-0.665,-0.767,-0.931,0.802,-0.903,-0.631,-0.237,0.7,-0.549,-0.935,-0.866,-0.933,0.818,-0.765,0.815,-0.542,-0.786,-0.993,-0.917,0.325,-0.532,0.0,0.995,1.05,-1.04,-0.327,0.774,0.445,1.05,-0.748,-0.427,0.939,-0.968,-0.361,0.77,-1.01,0.357,-0.351,-0.816,0.176,-0.947,-0.309,0.392,-0.286,-0.572,0.109,0.154,1.91,2.05,0.0589,2.0,1.91,0.725,0.965,0.369,1.35,0.541,1.92,1.88,0.74,1.5,0.994,1.79,1.95,0.597,0.218,0.261,1.86,0.58,0.0868,1.82,0.504,2.03,0.397,0.0122,1.4,1.74,0.923,0.0438,1.55,1.63,2.01,0.0279,2.09,0.206,1.91,1.69,0.404,0.109,1.71,1.8,0.0306,0.239,1.85,0.254,0.0246,0.378,0.0204,-0.00147,0.0353,-0.045,0.0249,0.516,1.88,0.943,1.02,2.01,1.69,1.84,1.12,0.498,0.823,2.06,1.72,0.319,1.94,1.87,0.69,0.0605,1.47,1.65,2.02,1.78,0.665,1.75,1.52,1.32,0.13,0.0978,0.0639,0.0937,0.425,1.7,0.945,0.755,0.0255,1.93,1.82,0.105,1.85,1.72,0.829,0.465,0.23,1.1,0.228,1.76,1.84,1.05,0.949,1.89,1.57,0.581,1.93,1.12,1.59,1.29,0.00191,0.583,1.68,1.99,0.0554,0.408,0.0252,1.77,1.86,1.22,0.719,1.39,1.49,0.00957,0.665,0.547,0.0461,1.7,0.0273,0.994,0.0705,0.957,0.152,0.0498,1.98,1.29,0.624,0.0803,2.02,1.58,0.204,0.651,1.76,0.533,1.2,1.65,0.496,0.14,1.93,0.517,1.34,0.254,1.31,1.98,0.529,1.89,0.538,0.0814,1.51,0.522,1.99,1.14,0.111,0.447,1.54,0.391,0.0562,1.96,0.267,1.04,0.994,1.86,1.84,0.934,0.292,0.528,-0.000509,0.387,-0.00493,0.448,0.47,-0.0203,1.65,0.0735,0.69,1.4,0.719,0.122,0.0237,0.96,1.87,0.851,1.83,0.927,0.0592,1.11,1.56,0.281,0.126,0.821,1.63,1.93,-0.0813,1.5,1.67,1.47,0.988,0.208,0.975,0.118,0.0736,0.427,2.06,0.0132,1.24,0.866,1.88,1.69,-0.0792,0.536,2.0,2.0,0.964,1.1,0.318,0.189,0.824,0.348,1.82,0.123,0.171,0.329,0.0925,0.76,1.69,0.0536,1.65,0.276,0.221,1.8,0.846,1.92,1.06,0.0503,1.48,1.85,1.99,0.171,-0.015,2.09,1.37,1.61,1.72,-0.00888,1.6,0.535,0.844,1.7,1.22,0.0461,0.746,0.02,0.469,0.131,1.13,2.05,1.65,0.0274,0.902,1.7,1.71,1.21,0.386,1.8,0.499,1.93,1.59,0.695,0.000448,1.49,1.46,1.65,1.88,0.72,1.88,0.768,1.65,0.123,0.205,0.23,0.862,1.79,1.03,0.879,0.703,1.61,1.09,1.93,0.911,0.68,2.0,0.0126,1.72,0.886,5.57e-05,0.216,0.101,0.275,1.6,0.00193,0.0862,0.0479,1.87,1.56,0.0126,0.129,0.181,1.85,0.136,0.000359,0.0987,1.24,1.78,1.93,1.71,1.7,0.725,0.193,1.76,1.91,0.101,1.48,2.04,0.714,0.127,1.95,1.9,0.424,1.42,0.497,0.0762,0.621,0.368,1.32,1.52,1.55,2.03,-0.00645,1.95,1.76,0.725,1.13,1.69,0.212,0.623,1.67,1.8,1.31,0.0616,0.319,1.97,1.67,1.9,0.0974,0.0944,0.0197,0.0411,0.384,0.412,0.77,0.0951,0.131,0.0945,0.963,0.736,0.0787,1.64,0.377,1.81,-0.0579,1.98,1.99,1.82,1.91,0.18,0.134,0.207,0.0745,1.99,0.458,0.951,-0.00193,0.513,0.0547,1.92,0.371,1.76,0.12,0.14,1.61,1.86,1.97,0.0341,0.391,1.89,0.81,1.16,1.35,0.74,1.75,1.73,0.0876,1.83,0.57,0.0626,0.696,0.91,0.095,1.84,1.91,0.389,0.613,2.01,0.673,1.49,0.191,0.497,1.57,1.65,0.197,0.516,1.3,1.17,0.662,0.989,0.103,0.311,0.504,0.0829,0.334,0.894,1.42,1.03,1.79,0.244,1.45,0.0764,0.0679,0.426,0.609,1.75,0.445,0.479,0.335,0.233,0.0688,1.8,0.0973,0.369,0.763,1.7,0.451,0.0655,0.134,0.0672,1.82,0.235,1.82,0.458,0.214,0.00744,0.083,1.33,0.468,1.0,2.0,2.05,-0.0374,0.673,1.77,1.45,2.05,0.252,0.573,1.94,0.0324,0.639,1.77,-0.0126,1.36,0.649,0.184,1.18,0.0531,0.691,1.39,0.714,0.428],\"z\":[0.023,0.0211,-0.00139,0.00628,0.0378,0.0218,-0.0285,0.0511,0.038,-0.0312,0.0439,0.0849,0.00558,0.048,0.0727,-0.0403,0.0278,0.0361,0.00662,0.0542,-0.0182,0.0125,0.00197,-0.0108,0.0486,-0.000759,0.00596,-0.0163,-0.0865,0.0224,0.0486,-0.0179,0.0238,-0.0306,0.0313,-0.0022,-0.0157,0.0199,0.036,0.0221,-0.0305,-0.0258,0.00465,0.0685,0.0318,-0.00521,-0.0345,-0.0682,-0.0168,-0.0398,0.0132,-0.0136,0.0172,0.0158,0.00309,0.0108,0.0138,-0.0155,-0.0276,0.0362,0.0937,0.00857,-0.0371,-0.0268,-0.0816,-0.034,-0.0103,-0.043,0.0177,-0.000988,-0.0246,0.00246,0.00174,-0.032,0.023,-0.0471,0.00162,0.00724,-0.00411,0.0882,0.0664,0.047,0.0105,-0.0209,0.0297,-0.0178,0.0108,0.0105,-0.043,-0.000192,0.0115,-0.0718,0.0589,-0.0848,-0.0613,-0.0347,-0.000942,-0.0158,-0.0214,0.0365,0.00343,0.0445,-0.0379,0.0813,-0.00902,-0.0108,0.0658,0.027,-0.0189,0.00446,-0.0574,-0.00957,-0.0375,-0.000365,-0.00337,-0.011,-0.0345,0.0249,-0.0105,0.0739,0.00343,0.0593,0.0528,0.0508,-0.063,0.00448,-0.00359,0.00037,0.0366,-0.0821,0.00899,-0.0289,-0.0111,0.0814,-0.0767,-0.00217,0.0554,0.0813,0.0199,-0.0228,0.0549,-0.00618,-0.0096,-0.0155,0.0147,0.0669,-0.0395,0.034,0.0233,0.000597,0.0551,-0.0442,0.0358,-0.073,-0.0539,0.0308,-0.0892,0.0207,-0.0724,0.0152,0.0493,0.00251,0.00817,0.0471,-0.0337,-0.0356,0.00956,0.0265,-0.00756,-0.000797,0.0923,0.0357,0.0273,0.0109,0.0239,0.0947,0.0596,-0.0727,0.0446,0.00378,0.0691,0.00118,0.0034,0.0603,-0.0985,-0.0489,-0.0608,0.0918,-0.0392,0.0637,0.0527,0.0373,-0.00584,-0.0183,-0.0743,0.0562,0.023,-0.0368,0.00415,-0.0402,-0.0262,0.075,0.0583,0.0306,0.0385,0.068,0.00052,0.000414,-0.0218,0.042,-0.0954,-0.0183,0.065,0.00831,-0.0705,0.000729,0.0901,-0.0561,0.0245,0.0608,0.0229,0.00766,0.0109,-0.0169,-0.0318,0.0484,0.0562,-0.0224,-0.0386,0.0158,0.0213,-0.0679,0.0692,-0.00386,0.0615,-0.00225,0.0282,-0.0123,-0.00815,0.00145,0.0801,-0.016,0.00802,0.0107,0.0434,0.035,0.00698,-0.00885,0.0476,-0.003,-0.0715,0.0242,0.0122,-0.0466,0.00394,0.00985,0.0284,0.0303,0.026,-0.0604,0.00622,-0.0654,0.000749,-0.019,-0.0401,0.0561,-0.00384,-0.0266,-0.0144,0.015,-0.0874,-0.00736,-0.0552,-0.000199,0.0242,-0.0385,-0.0765,0.0257,-0.0577,0.0352,0.0251,0.000919,0.0622,-0.0141,-0.0844,-0.0118,-0.0693,0.0199,0.0505,0.0194,0.0673,-0.0154,-0.0369,0.0757,-0.0106,0.0235,0.0215,0.0471,-0.0287,-0.0461,0.0459,-8.77e-05,-0.00454,-0.000586,-0.0416,0.0341,0.00453,0.0525,-0.0423,-0.00358,0.037,0.00931,0.0192,-0.0378,0.014,0.0137,-0.00423,-0.00373,-0.0171,0.055,0.0647,0.0389,0.0838,0.0351,-0.0111,0.000201,0.0619,-0.0698,-0.0188,-0.00427,-0.0349,0.0565,-0.0638,0.048,-0.061,0.0626,-0.0267,-0.0204,-0.0163,0.0923,0.035,0.0498,0.0189,0.036,0.0671,0.0253,-0.00343,-0.0832,0.00244,0.049,0.0188,0.0325,0.00743,0.0249,0.0544,-0.0847,0.053,-0.0331,-0.00198,0.0343,0.00506,0.0769,0.00998,-0.0169,0.0477,0.0478,0.00297,-0.023,0.0109,0.0287,-0.0254,0.0181,-0.000431,-0.071,-0.0225,0.044,-0.0464,0.0279,0.00272,0.0153,0.0767,-0.0397,-0.00152,-0.00573,-0.00293,-0.0289,-0.0395,-0.0296,0.0254,0.0583,-0.0399,-0.00578,-0.00442,0.0146,-0.0766,0.0846,-0.0343,-0.0249,0.0838,0.0575,0.014,0.0386,-0.0491,-0.0118,-0.00828,-0.0237,-0.0445,0.0516,0.0693,0.0172,-0.00323,0.00663,-0.0836,-0.0128,0.0625,-0.0428,-0.00794,0.0101,-0.0253,-0.0561,0.0283,-0.0342,-0.00101,0.000969,0.0128,0.00632,-0.0228,0.0223,-0.0487,-0.0196,0.00587,0.0082,-0.0627,0.0465,0.0213,0.000526,0.00361,0.0292,0.00673,0.0466,0.0262,-0.0204,-0.0039,0.0561,0.00935,0.0319,0.0108,0.00904,0.0945,0.0131,-0.0175,0.0173,-0.0327,0.0416,-0.00591,0.0454,0.0241,-0.000667,-0.0496,0.0264,0.0267,-0.0457,-0.0116,0.073,0.042,0.00687,0.0543,-0.0763,0.00165,-0.000644,-0.0022,-0.000554,-0.022,0.014,-0.0967,-0.0261,-0.0514,-0.0283,-0.0696,-0.0805,0.0431,0.00803,-0.0255,-0.00861,-0.00929,-0.0793,0.0195,0.0564,0.084,-0.00884,-0.048,-0.0289,-0.0731,0.00323,-0.0561,0.0152,0.0516,-0.00511,-0.0671,-0.0577,-0.453,0.653,0.398,0.0952,0.524,-0.0263,0.425,-0.991,-1.01,-0.73,0.879,-0.845,-0.385,0.24,1.03,0.871,-1.02,0.592,0.297,-0.832,0.607,-0.712,-0.537,-0.893,0.0724,0.579,0.866,-0.36,-0.778,-0.0979,0.887,0.754,1.05,-0.205,0.797,0.807,-0.0722,-0.415,-0.0832,0.508,-0.238,-0.634,-0.852,-0.573,-0.723,-0.677,-0.464,-0.711,0.612,-0.58,0.17,0.769,-0.293,-0.209,0.3,-0.0317,0.223,0.91,0.391,-0.995,-1.03,-0.0574,0.779,0.515,-0.968,-0.891,-1.05,-0.117,-0.652,0.776,0.394,0.491,-1.03,0.224,-0.897,-0.738,0.0433,0.633,-0.988,-0.626,0.928,0.929,0.549,0.312,0.379,-0.615,0.914,-0.73,-1.07,0.949,-0.171,-0.059,0.499,0.355,0.471,-0.701,-0.987,0.761,-0.574,0.927,0.579,-0.654,0.427,1.04,-0.979,0.398,0.89,0.869,-0.245,0.936,-0.815,-0.971,-0.283,0.907,0.728,-0.0941,0.428,-0.796,0.214,-0.664,-0.306,1.03,0.897,0.857,-0.887,0.117,-0.943,-0.896,0.345,-0.687,0.293,-1.01,-0.184,1.04,0.642,-0.0802,-0.315,0.968,-0.892,0.436,-0.202,-0.886,-0.607,0.898,0.637,0.854,0.895,-0.777,0.886,-0.508,0.393,0.811,0.927,0.569,0.872,0.204,0.915,-0.45,-0.917,0.408,0.817,0.924,-0.111,-0.964,0.605,-0.818,0.837,-0.806,0.355,0.289,-0.729,0.931,0.99,-0.419,-0.64,-1.0,-0.717,0.886,-0.037,-0.789,0.0872,-0.839,0.753,0.031,-0.736,0.381,-0.904,0.89,-0.921,0.602,-0.272,-0.988,-0.478,-0.995,0.472,1.02,-0.197,-0.947,0.902,-0.776,0.477,-1.02,0.693,-0.459,0.119,0.837,-0.811,0.883,1.07,-0.652,-0.991,-0.315,-0.445,0.783,0.086,-0.162,-1.0,-0.915,0.536,0.769,-0.0207,0.892,0.326,0.0703,-0.953,-1.06,0.659,0.626,-0.938,-0.67,-0.633,0.345,-0.459,0.827,-0.404,-0.978,-0.702,0.52,0.764,0.688,0.564,0.534,-0.991,0.524,0.991,-0.474,-0.871,-0.532,0.0484,0.444,0.121,-0.0483,0.84,-0.69,-0.752,-0.131,0.791,0.975,-1.02,-0.643,-0.985,0.137,-0.967,-0.0104,0.863,-0.621,-0.993,0.137,-0.728,-0.258,1.03,0.669,-0.707,0.977,-0.813,-0.475,-0.806,-0.285,0.847,-0.891,-0.179,-0.868,-0.914,0.627,-0.414,-0.964,0.391,-0.938,0.872,0.507,0.587,0.605,-0.98,0.6,1.05,0.987,-0.971,-0.7,0.975,0.378,-1.03,-1.02,-0.0628,-0.049,0.775,1.03,-0.203,-0.622,0.531,-0.685,0.885,-0.0216,0.37,-0.504,-0.464,-0.782,-0.202,0.314,0.585,0.449,0.381,0.283,0.447,0.974,0.594,0.327,-0.654,0.765,0.903,-0.595,-0.639,0.19,-0.43,-0.939,0.181,0.905,0.419,0.128,-0.41,-0.775,-0.928,-0.827,-0.0654,0.836,-0.854,-0.907,0.867,0.856,0.162,0.0192,-0.188,0.735,-0.96,-1.0,0.654,-0.635,0.883,-0.698,0.593,0.984,-0.359,0.781,0.17,-0.721,-0.583,-0.488,0.177,0.134,0.172,-0.849,0.875,0.967,0.427,0.429,0.271,0.934,-0.993,0.328,-0.781,0.836,0.657,0.0858,-0.183,-0.0836,-0.569,-0.414,0.675,0.516,-0.654,-0.45,-0.15,0.835,-0.995,0.0474,0.855,-0.406,-0.102,-0.661,-0.713,-0.431,-0.494,-0.759,0.539,-0.19,0.0569,0.862,0.374,0.959,1.01,-0.925,-0.961,-0.653,-0.758,-0.179,-0.464,0.875,-0.331,-0.921,-1.0,-0.429,0.425,-0.186,-0.81,-0.827,0.0186,-0.998,0.878,-0.609,-0.776,0.845,-0.773,0.688,-0.895,0.961,1.01,0.94,0.979,-0.442,0.603,-0.86,-0.573,-0.705,-1.01,0.851,0.905,-0.633,0.519,0.877,0.448,-0.394,0.767,-0.924,-0.542,0.742,0.801,-0.767,-0.478,0.386,0.579,-0.407,0.771,-0.954,-0.661,-0.821,0.412,0.5,0.45,0.572,-0.604,-0.579,0.804,0.497,0.131,-0.434,-0.968,-0.871,1.01,-0.0175,-0.0881,-0.12,-0.937,-0.636,0.923,0.0416,0.748,-0.93,0.249,0.422,-0.899,-0.669,0.264,-0.879,-0.901,0.572,0.91,-0.361,0.875,-0.947,0.881,-0.73],\"type\":\"scatter3d\"}],                        {\"template\":{\"data\":{\"bar\":[{\"error_x\":{\"color\":\"#2a3f5f\"},\"error_y\":{\"color\":\"#2a3f5f\"},\"marker\":{\"line\":{\"color\":\"#E5ECF6\",\"width\":0.5},\"pattern\":{\"fillmode\":\"overlay\",\"size\":10,\"solidity\":0.2}},\"type\":\"bar\"}],\"barpolar\":[{\"marker\":{\"line\":{\"color\":\"#E5ECF6\",\"width\":0.5},\"pattern\":{\"fillmode\":\"overlay\",\"size\":10,\"solidity\":0.2}},\"type\":\"barpolar\"}],\"carpet\":[{\"aaxis\":{\"endlinecolor\":\"#2a3f5f\",\"gridcolor\":\"white\",\"linecolor\":\"white\",\"minorgridcolor\":\"white\",\"startlinecolor\":\"#2a3f5f\"},\"baxis\":{\"endlinecolor\":\"#2a3f5f\",\"gridcolor\":\"white\",\"linecolor\":\"white\",\"minorgridcolor\":\"white\",\"startlinecolor\":\"#2a3f5f\"},\"type\":\"carpet\"}],\"choropleth\":[{\"colorbar\":{\"outlinewidth\":0,\"ticks\":\"\"},\"type\":\"choropleth\"}],\"contour\":[{\"colorbar\":{\"outlinewidth\":0,\"ticks\":\"\"},\"colorscale\":[[0.0,\"#0d0887\"],[0.1111111111111111,\"#46039f\"],[0.2222222222222222,\"#7201a8\"],[0.3333333333333333,\"#9c179e\"],[0.4444444444444444,\"#bd3786\"],[0.5555555555555556,\"#d8576b\"],[0.6666666666666666,\"#ed7953\"],[0.7777777777777778,\"#fb9f3a\"],[0.8888888888888888,\"#fdca26\"],[1.0,\"#f0f921\"]],\"type\":\"contour\"}],\"contourcarpet\":[{\"colorbar\":{\"outlinewidth\":0,\"ticks\":\"\"},\"type\":\"contourcarpet\"}],\"heatmap\":[{\"colorbar\":{\"outlinewidth\":0,\"ticks\":\"\"},\"colorscale\":[[0.0,\"#0d0887\"],[0.1111111111111111,\"#46039f\"],[0.2222222222222222,\"#7201a8\"],[0.3333333333333333,\"#9c179e\"],[0.4444444444444444,\"#bd3786\"],[0.5555555555555556,\"#d8576b\"],[0.6666666666666666,\"#ed7953\"],[0.7777777777777778,\"#fb9f3a\"],[0.8888888888888888,\"#fdca26\"],[1.0,\"#f0f921\"]],\"type\":\"heatmap\"}],\"heatmapgl\":[{\"colorbar\":{\"outlinewidth\":0,\"ticks\":\"\"},\"colorscale\":[[0.0,\"#0d0887\"],[0.1111111111111111,\"#46039f\"],[0.2222222222222222,\"#7201a8\"],[0.3333333333333333,\"#9c179e\"],[0.4444444444444444,\"#bd3786\"],[0.5555555555555556,\"#d8576b\"],[0.6666666666666666,\"#ed7953\"],[0.7777777777777778,\"#fb9f3a\"],[0.8888888888888888,\"#fdca26\"],[1.0,\"#f0f921\"]],\"type\":\"heatmapgl\"}],\"histogram\":[{\"marker\":{\"pattern\":{\"fillmode\":\"overlay\",\"size\":10,\"solidity\":0.2}},\"type\":\"histogram\"}],\"histogram2d\":[{\"colorbar\":{\"outlinewidth\":0,\"ticks\":\"\"},\"colorscale\":[[0.0,\"#0d0887\"],[0.1111111111111111,\"#46039f\"],[0.2222222222222222,\"#7201a8\"],[0.3333333333333333,\"#9c179e\"],[0.4444444444444444,\"#bd3786\"],[0.5555555555555556,\"#d8576b\"],[0.6666666666666666,\"#ed7953\"],[0.7777777777777778,\"#fb9f3a\"],[0.8888888888888888,\"#fdca26\"],[1.0,\"#f0f921\"]],\"type\":\"histogram2d\"}],\"histogram2dcontour\":[{\"colorbar\":{\"outlinewidth\":0,\"ticks\":\"\"},\"colorscale\":[[0.0,\"#0d0887\"],[0.1111111111111111,\"#46039f\"],[0.2222222222222222,\"#7201a8\"],[0.3333333333333333,\"#9c179e\"],[0.4444444444444444,\"#bd3786\"],[0.5555555555555556,\"#d8576b\"],[0.6666666666666666,\"#ed7953\"],[0.7777777777777778,\"#fb9f3a\"],[0.8888888888888888,\"#fdca26\"],[1.0,\"#f0f921\"]],\"type\":\"histogram2dcontour\"}],\"mesh3d\":[{\"colorbar\":{\"outlinewidth\":0,\"ticks\":\"\"},\"type\":\"mesh3d\"}],\"parcoords\":[{\"line\":{\"colorbar\":{\"outlinewidth\":0,\"ticks\":\"\"}},\"type\":\"parcoords\"}],\"pie\":[{\"automargin\":true,\"type\":\"pie\"}],\"scatter\":[{\"marker\":{\"colorbar\":{\"outlinewidth\":0,\"ticks\":\"\"}},\"type\":\"scatter\"}],\"scatter3d\":[{\"line\":{\"colorbar\":{\"outlinewidth\":0,\"ticks\":\"\"}},\"marker\":{\"colorbar\":{\"outlinewidth\":0,\"ticks\":\"\"}},\"type\":\"scatter3d\"}],\"scattercarpet\":[{\"marker\":{\"colorbar\":{\"outlinewidth\":0,\"ticks\":\"\"}},\"type\":\"scattercarpet\"}],\"scattergeo\":[{\"marker\":{\"colorbar\":{\"outlinewidth\":0,\"ticks\":\"\"}},\"type\":\"scattergeo\"}],\"scattergl\":[{\"marker\":{\"colorbar\":{\"outlinewidth\":0,\"ticks\":\"\"}},\"type\":\"scattergl\"}],\"scattermapbox\":[{\"marker\":{\"colorbar\":{\"outlinewidth\":0,\"ticks\":\"\"}},\"type\":\"scattermapbox\"}],\"scatterpolar\":[{\"marker\":{\"colorbar\":{\"outlinewidth\":0,\"ticks\":\"\"}},\"type\":\"scatterpolar\"}],\"scatterpolargl\":[{\"marker\":{\"colorbar\":{\"outlinewidth\":0,\"ticks\":\"\"}},\"type\":\"scatterpolargl\"}],\"scatterternary\":[{\"marker\":{\"colorbar\":{\"outlinewidth\":0,\"ticks\":\"\"}},\"type\":\"scatterternary\"}],\"surface\":[{\"colorbar\":{\"outlinewidth\":0,\"ticks\":\"\"},\"colorscale\":[[0.0,\"#0d0887\"],[0.1111111111111111,\"#46039f\"],[0.2222222222222222,\"#7201a8\"],[0.3333333333333333,\"#9c179e\"],[0.4444444444444444,\"#bd3786\"],[0.5555555555555556,\"#d8576b\"],[0.6666666666666666,\"#ed7953\"],[0.7777777777777778,\"#fb9f3a\"],[0.8888888888888888,\"#fdca26\"],[1.0,\"#f0f921\"]],\"type\":\"surface\"}],\"table\":[{\"cells\":{\"fill\":{\"color\":\"#EBF0F8\"},\"line\":{\"color\":\"white\"}},\"header\":{\"fill\":{\"color\":\"#C8D4E3\"},\"line\":{\"color\":\"white\"}},\"type\":\"table\"}]},\"layout\":{\"annotationdefaults\":{\"arrowcolor\":\"#2a3f5f\",\"arrowhead\":0,\"arrowwidth\":1},\"autotypenumbers\":\"strict\",\"coloraxis\":{\"colorbar\":{\"outlinewidth\":0,\"ticks\":\"\"}},\"colorscale\":{\"diverging\":[[0,\"#8e0152\"],[0.1,\"#c51b7d\"],[0.2,\"#de77ae\"],[0.3,\"#f1b6da\"],[0.4,\"#fde0ef\"],[0.5,\"#f7f7f7\"],[0.6,\"#e6f5d0\"],[0.7,\"#b8e186\"],[0.8,\"#7fbc41\"],[0.9,\"#4d9221\"],[1,\"#276419\"]],\"sequential\":[[0.0,\"#0d0887\"],[0.1111111111111111,\"#46039f\"],[0.2222222222222222,\"#7201a8\"],[0.3333333333333333,\"#9c179e\"],[0.4444444444444444,\"#bd3786\"],[0.5555555555555556,\"#d8576b\"],[0.6666666666666666,\"#ed7953\"],[0.7777777777777778,\"#fb9f3a\"],[0.8888888888888888,\"#fdca26\"],[1.0,\"#f0f921\"]],\"sequentialminus\":[[0.0,\"#0d0887\"],[0.1111111111111111,\"#46039f\"],[0.2222222222222222,\"#7201a8\"],[0.3333333333333333,\"#9c179e\"],[0.4444444444444444,\"#bd3786\"],[0.5555555555555556,\"#d8576b\"],[0.6666666666666666,\"#ed7953\"],[0.7777777777777778,\"#fb9f3a\"],[0.8888888888888888,\"#fdca26\"],[1.0,\"#f0f921\"]]},\"colorway\":[\"#636efa\",\"#EF553B\",\"#00cc96\",\"#ab63fa\",\"#FFA15A\",\"#19d3f3\",\"#FF6692\",\"#B6E880\",\"#FF97FF\",\"#FECB52\"],\"font\":{\"color\":\"#2a3f5f\"},\"geo\":{\"bgcolor\":\"white\",\"lakecolor\":\"white\",\"landcolor\":\"#E5ECF6\",\"showlakes\":true,\"showland\":true,\"subunitcolor\":\"white\"},\"hoverlabel\":{\"align\":\"left\"},\"hovermode\":\"closest\",\"mapbox\":{\"style\":\"light\"},\"paper_bgcolor\":\"white\",\"plot_bgcolor\":\"#E5ECF6\",\"polar\":{\"angularaxis\":{\"gridcolor\":\"white\",\"linecolor\":\"white\",\"ticks\":\"\"},\"bgcolor\":\"#E5ECF6\",\"radialaxis\":{\"gridcolor\":\"white\",\"linecolor\":\"white\",\"ticks\":\"\"}},\"scene\":{\"xaxis\":{\"backgroundcolor\":\"#E5ECF6\",\"gridcolor\":\"white\",\"gridwidth\":2,\"linecolor\":\"white\",\"showbackground\":true,\"ticks\":\"\",\"zerolinecolor\":\"white\"},\"yaxis\":{\"backgroundcolor\":\"#E5ECF6\",\"gridcolor\":\"white\",\"gridwidth\":2,\"linecolor\":\"white\",\"showbackground\":true,\"ticks\":\"\",\"zerolinecolor\":\"white\"},\"zaxis\":{\"backgroundcolor\":\"#E5ECF6\",\"gridcolor\":\"white\",\"gridwidth\":2,\"linecolor\":\"white\",\"showbackground\":true,\"ticks\":\"\",\"zerolinecolor\":\"white\"}},\"shapedefaults\":{\"line\":{\"color\":\"#2a3f5f\"}},\"ternary\":{\"aaxis\":{\"gridcolor\":\"white\",\"linecolor\":\"white\",\"ticks\":\"\"},\"baxis\":{\"gridcolor\":\"white\",\"linecolor\":\"white\",\"ticks\":\"\"},\"bgcolor\":\"#E5ECF6\",\"caxis\":{\"gridcolor\":\"white\",\"linecolor\":\"white\",\"ticks\":\"\"}},\"title\":{\"x\":0.05},\"xaxis\":{\"automargin\":true,\"gridcolor\":\"white\",\"linecolor\":\"white\",\"ticks\":\"\",\"title\":{\"standoff\":15},\"zerolinecolor\":\"white\",\"zerolinewidth\":2},\"yaxis\":{\"automargin\":true,\"gridcolor\":\"white\",\"linecolor\":\"white\",\"ticks\":\"\",\"title\":{\"standoff\":15},\"zerolinecolor\":\"white\",\"zerolinewidth\":2}}},\"scene\":{\"domain\":{\"x\":[0.0,1.0],\"y\":[0.0,1.0]},\"xaxis\":{\"title\":{\"text\":\"X1\"}},\"yaxis\":{\"title\":{\"text\":\"X2\"}},\"zaxis\":{\"title\":{\"text\":\"X3\"}}},\"coloraxis\":{\"colorbar\":{\"title\":{\"text\":\"color\"}},\"colorscale\":[[0.0,\"#0d0887\"],[0.1111111111111111,\"#46039f\"],[0.2222222222222222,\"#7201a8\"],[0.3333333333333333,\"#9c179e\"],[0.4444444444444444,\"#bd3786\"],[0.5555555555555556,\"#d8576b\"],[0.6666666666666666,\"#ed7953\"],[0.7777777777777778,\"#fb9f3a\"],[0.8888888888888888,\"#fdca26\"],[1.0,\"#f0f921\"]]},\"legend\":{\"tracegroupgap\":0},\"margin\":{\"t\":60}},                        {\"responsive\": true}                    ).then(function(){\n",
              "                            \n",
              "var gd = document.getElementById('2631ecce-098c-4e84-b4f4-52e185af85a2');\n",
              "var x = new MutationObserver(function (mutations, observer) {{\n",
              "        var display = window.getComputedStyle(gd).display;\n",
              "        if (!display || display === 'none') {{\n",
              "            console.log([gd, 'removed!']);\n",
              "            Plotly.purge(gd);\n",
              "            observer.disconnect();\n",
              "        }}\n",
              "}});\n",
              "\n",
              "// Listen for the removal of the full notebook cells\n",
              "var notebookContainer = gd.closest('#notebook-container');\n",
              "if (notebookContainer) {{\n",
              "    x.observe(notebookContainer, {childList: true});\n",
              "}}\n",
              "\n",
              "// Listen for the clearing of the current output cell\n",
              "var outputEl = gd.closest('.output');\n",
              "if (outputEl) {{\n",
              "    x.observe(outputEl, {childList: true});\n",
              "}}\n",
              "\n",
              "                        })                };                            </script>        </div>\n",
              "</body>\n",
              "</html>"
            ]
          },
          "metadata": {}
        }
      ],
      "source": [
        " # 3D visuals of predicted clusters\n",
        "import plotly.express as px\n",
        "plot = px.scatter_3d(df_4, x='X1', y='X2', z='X3', color=km.labels_)\n",
        "plot.show()"
      ]
    },
    {
      "cell_type": "code",
      "execution_count": null,
      "metadata": {
        "colab": {
          "base_uri": "https://localhost:8080/",
          "height": 542
        },
        "id": "TLd1KUFB0ifU",
        "outputId": "10b7f57c-5192-4db4-ac53-0a2edc58c2a1"
      },
      "outputs": [
        {
          "output_type": "display_data",
          "data": {
            "text/html": [
              "<html>\n",
              "<head><meta charset=\"utf-8\" /></head>\n",
              "<body>\n",
              "    <div>            <script src=\"https://cdnjs.cloudflare.com/ajax/libs/mathjax/2.7.5/MathJax.js?config=TeX-AMS-MML_SVG\"></script><script type=\"text/javascript\">if (window.MathJax) {MathJax.Hub.Config({SVG: {font: \"STIX-Web\"}});}</script>                <script type=\"text/javascript\">window.PlotlyConfig = {MathJaxConfig: 'local'};</script>\n",
              "        <script src=\"https://cdn.plot.ly/plotly-2.8.3.min.js\"></script>                <div id=\"7b3b613d-4c52-4d6c-a984-c5253582ea7c\" class=\"plotly-graph-div\" style=\"height:525px; width:100%;\"></div>            <script type=\"text/javascript\">                                    window.PLOTLYENV=window.PLOTLYENV || {};                                    if (document.getElementById(\"7b3b613d-4c52-4d6c-a984-c5253582ea7c\")) {                    Plotly.newPlot(                        \"7b3b613d-4c52-4d6c-a984-c5253582ea7c\",                        [{\"hovertemplate\":\"X1=%{x}<br>X2=%{y}<br>X3=%{z}<br>Class=%{marker.color}<extra></extra>\",\"legendgroup\":\"\",\"marker\":{\"color\":[0,0,0,0,0,0,0,0,0,0,0,0,0,0,0,0,0,0,0,0,0,0,0,0,0,0,0,0,0,0,0,0,0,0,0,0,0,0,0,0,0,0,0,0,0,0,0,0,0,0,0,0,0,0,0,0,0,0,0,0,0,0,0,0,0,0,0,0,0,0,0,0,0,0,0,0,0,0,0,0,0,0,0,0,0,0,0,0,0,0,0,0,0,0,0,0,0,0,0,0,0,0,0,0,0,0,0,0,0,0,0,0,0,0,0,0,0,0,0,0,0,0,0,0,0,0,0,0,0,0,0,0,0,0,0,0,0,0,0,0,0,0,0,0,0,0,0,0,0,0,0,0,0,0,0,0,0,0,0,0,0,0,0,0,0,0,0,0,0,0,0,0,0,0,0,0,0,0,0,0,0,0,0,0,0,0,0,0,0,0,0,0,0,0,0,0,0,0,0,0,0,0,0,0,0,0,0,0,0,0,0,0,0,0,0,0,0,0,0,0,0,0,0,0,0,0,0,0,0,0,0,0,0,0,0,0,0,0,0,0,0,0,0,0,0,0,0,0,0,0,0,0,0,0,0,0,0,0,0,0,0,0,0,0,0,0,0,0,0,0,0,0,0,0,0,0,0,0,0,0,0,0,0,0,0,0,0,0,0,0,0,0,0,0,0,0,0,0,0,0,0,0,0,0,0,0,0,0,0,0,0,0,0,0,0,0,0,0,0,0,0,0,0,0,0,0,0,0,0,0,0,0,0,0,0,0,0,0,0,0,0,0,0,0,0,0,0,0,0,0,0,0,0,0,0,0,0,0,0,0,0,0,0,0,0,0,0,0,0,0,0,0,0,0,0,0,0,0,0,0,0,0,0,0,0,0,0,0,0,0,0,0,0,0,0,0,0,0,0,0,0,0,0,0,0,0,0,0,0,0,0,0,0,0,0,0,0,0,0,0,0,0,0,0,0,0,0,0,0,0,0,0,0,0,0,0,0,0,0,0,0,0,0,0,0,0,0,0,0,0,0,0,0,0,0,0,0,0,0,0,0,0,0,0,0,0,0,0,0,0,0,0,0,0,0,0,0,0,0,0,0,0,0,0,0,0,0,0,0,0,0,0,0,0,0,0,0,0,0,0,1,1,1,1,1,1,1,1,1,1,1,1,1,1,1,1,1,1,1,1,1,1,1,1,1,1,1,1,1,1,1,1,1,1,1,1,1,1,1,1,1,1,1,1,1,1,1,1,1,1,1,1,1,1,1,1,1,1,1,1,1,1,1,1,1,1,1,1,1,1,1,1,1,1,1,1,1,1,1,1,1,1,1,1,1,1,1,1,1,1,1,1,1,1,1,1,1,1,1,1,1,1,1,1,1,1,1,1,1,1,1,1,1,1,1,1,1,1,1,1,1,1,1,1,1,1,1,1,1,1,1,1,1,1,1,1,1,1,1,1,1,1,1,1,1,1,1,1,1,1,1,1,1,1,1,1,1,1,1,1,1,1,1,1,1,1,1,1,1,1,1,1,1,1,1,1,1,1,1,1,1,1,1,1,1,1,1,1,1,1,1,1,1,1,1,1,1,1,1,1,1,1,1,1,1,1,1,1,1,1,1,1,1,1,1,1,1,1,1,1,1,1,1,1,1,1,1,1,1,1,1,1,1,1,1,1,1,1,1,1,1,1,1,1,1,1,1,1,1,1,1,1,1,1,1,1,1,1,1,1,1,1,1,1,1,1,1,1,1,1,1,1,1,1,1,1,1,1,1,1,1,1,1,1,1,1,1,1,1,1,1,1,1,1,1,1,1,1,1,1,1,1,1,1,1,1,1,1,1,1,1,1,1,1,1,1,1,1,1,1,1,1,1,1,1,1,1,1,1,1,1,1,1,1,1,1,1,1,1,1,1,1,1,1,1,1,1,1,1,1,1,1,1,1,1,1,1,1,1,1,1,1,1,1,1,1,1,1,1,1,1,1,1,1,1,1,1,1,1,1,1,1,1,1,1,1,1,1,1,1,1,1,1,1,1,1,1,1,1,1,1,1,1,1,1,1,1,1,1,1,1,1,1,1,1,1,1,1,1,1,1,1,1,1,1,1,1,1,1,1,1,1,1,1,1,1,1,1,1,1,1,1,1,1,1,1,1,1,1,1,1,1,1,1,1,1,1,1,1,1,1,1,1,1,1,1,1,1,1,1,1,1,1,1,1,1,1,1,1,1,1,1,1,1,1,1,1,1,1,1,1,1,1,1,1,1,1,1,1,1],\"coloraxis\":\"coloraxis\",\"symbol\":\"circle\"},\"mode\":\"markers\",\"name\":\"\",\"scene\":\"scene\",\"showlegend\":false,\"x\":[-0.453,0.653,0.398,0.0952,0.524,-0.0263,0.425,-0.991,-1.01,-0.73,0.879,-0.845,-0.385,0.24,1.03,0.871,-1.02,0.592,0.297,-0.832,0.607,-0.712,-0.537,-0.893,0.0724,0.579,0.866,-0.36,-0.778,-0.0979,0.887,0.754,1.05,-0.205,0.797,0.807,-0.0722,-0.415,-0.0832,0.508,-0.238,-0.634,-0.852,-0.573,-0.723,-0.677,-0.464,-0.711,0.612,-0.58,0.17,0.769,-0.293,-0.209,0.3,-0.0317,0.223,0.91,0.391,-0.995,-1.03,-0.0574,0.779,0.515,-0.968,-0.891,-1.05,-0.117,-0.652,0.776,0.394,0.491,-1.03,0.224,-0.897,-0.738,0.0433,0.633,-0.988,-0.626,0.928,0.929,0.549,0.312,0.379,-0.615,0.914,-0.73,-1.07,0.949,-0.171,-0.059,0.499,0.355,0.471,-0.701,-0.987,0.761,-0.574,0.927,0.579,-0.654,0.427,1.04,-0.979,0.398,0.89,0.869,-0.245,0.936,-0.815,-0.971,-0.283,0.907,0.728,-0.0941,0.428,-0.796,0.214,-0.664,-0.306,1.03,0.897,0.857,-0.887,0.117,-0.943,-0.896,0.345,-0.687,0.293,-1.01,-0.184,1.04,0.642,-0.0802,-0.315,0.968,-0.892,0.436,-0.202,-0.886,-0.607,0.898,0.637,0.854,0.895,-0.777,0.886,-0.508,0.393,0.811,0.927,0.569,0.872,0.204,0.915,-0.45,-0.917,0.408,0.817,0.924,-0.111,-0.964,0.605,-0.818,0.837,-0.806,0.355,0.289,-0.729,0.931,0.99,-0.419,-0.64,-1.0,-0.717,0.886,-0.037,-0.789,0.0872,-0.839,0.753,0.031,-0.736,0.381,-0.904,0.89,-0.921,0.602,-0.272,-0.988,-0.478,-0.995,0.472,1.02,-0.197,-0.947,0.902,-0.776,0.477,-1.02,0.693,-0.459,0.119,0.837,-0.811,0.883,1.07,-0.652,-0.991,-0.315,-0.445,0.783,0.086,-0.162,-1.0,-0.915,0.536,0.769,-0.0207,0.892,0.326,0.0703,-0.953,-1.06,0.659,0.626,-0.938,-0.67,-0.633,0.345,-0.459,0.827,-0.404,-0.978,-0.702,0.52,0.764,0.688,0.564,0.534,-0.991,0.524,0.991,-0.474,-0.871,-0.532,0.0484,0.444,0.121,-0.0483,0.84,-0.69,-0.752,-0.131,0.791,0.975,-1.02,-0.643,-0.985,0.137,-0.967,-0.0104,0.863,-0.621,-0.993,0.137,-0.728,-0.258,1.03,0.669,-0.707,0.977,-0.813,-0.475,-0.806,-0.285,0.847,-0.891,-0.179,-0.868,-0.914,0.627,-0.414,-0.964,0.391,-0.938,0.872,0.507,0.587,0.605,-0.98,0.6,1.05,0.987,-0.971,-0.7,0.975,0.378,-1.03,-1.02,-0.0628,-0.049,0.775,1.03,-0.203,-0.622,0.531,-0.685,0.885,-0.0216,0.37,-0.504,-0.464,-0.782,-0.202,0.314,0.585,0.449,0.381,0.283,0.447,0.974,0.594,0.327,-0.654,0.765,0.903,-0.595,-0.639,0.19,-0.43,-0.939,0.181,0.905,0.419,0.128,-0.41,-0.775,-0.928,-0.827,-0.0654,0.836,-0.854,-0.907,0.867,0.856,0.162,0.0192,-0.188,0.735,-0.96,-1.0,0.654,-0.635,0.883,-0.698,0.593,0.984,-0.359,0.781,0.17,-0.721,-0.583,-0.488,0.177,0.134,0.172,-0.849,0.875,0.967,0.427,0.429,0.271,0.934,-0.993,0.328,-0.781,0.836,0.657,0.0858,-0.183,-0.0836,-0.569,-0.414,0.675,0.516,-0.654,-0.45,-0.15,0.835,-0.995,0.0474,0.855,-0.406,-0.102,-0.661,-0.713,-0.431,-0.494,-0.759,0.539,-0.19,0.0569,0.862,0.374,0.959,1.01,-0.925,-0.961,-0.653,-0.758,-0.179,-0.464,0.875,-0.331,-0.921,-1.0,-0.429,0.425,-0.186,-0.81,-0.827,0.0186,-0.998,0.878,-0.609,-0.776,0.845,-0.773,0.688,-0.895,0.961,1.01,0.94,0.979,-0.442,0.603,-0.86,-0.573,-0.705,-1.01,0.851,0.905,-0.633,0.519,0.877,0.448,-0.394,0.767,-0.924,-0.542,0.742,0.801,-0.767,-0.478,0.386,0.579,-0.407,0.771,-0.954,-0.661,-0.821,0.412,0.5,0.45,0.572,-0.604,-0.579,0.804,0.497,0.131,-0.434,-0.968,-0.871,1.01,-0.0175,-0.0881,-0.12,-0.937,-0.636,0.923,0.0416,0.748,-0.93,0.249,0.422,-0.899,-0.669,0.264,-0.879,-0.901,0.572,0.91,-0.361,0.875,-0.947,0.881,-0.73,0.023,0.0211,-0.00139,0.00628,0.0378,0.0218,-0.0285,0.0511,0.038,-0.0312,0.0439,0.0849,0.00558,0.048,0.0727,-0.0403,0.0278,0.0361,0.00662,0.0542,-0.0182,0.0125,0.00197,-0.0108,0.0486,-0.000759,0.00596,-0.0163,-0.0865,0.0224,0.0486,-0.0179,0.0238,-0.0306,0.0313,-0.0022,-0.0157,0.0199,0.036,0.0221,-0.0305,-0.0258,0.00465,0.0685,0.0318,-0.00521,-0.0345,-0.0682,-0.0168,-0.0398,0.0132,-0.0136,0.0172,0.0158,0.00309,0.0108,0.0138,-0.0155,-0.0276,0.0362,0.0937,0.00857,-0.0371,-0.0268,-0.0816,-0.034,-0.0103,-0.043,0.0177,-0.000988,-0.0246,0.00246,0.00174,-0.032,0.023,-0.0471,0.00162,0.00724,-0.00411,0.0882,0.0664,0.047,0.0105,-0.0209,0.0297,-0.0178,0.0108,0.0105,-0.043,-0.000192,0.0115,-0.0718,0.0589,-0.0848,-0.0613,-0.0347,-0.000942,-0.0158,-0.0214,0.0365,0.00343,0.0445,-0.0379,0.0813,-0.00902,-0.0108,0.0658,0.027,-0.0189,0.00446,-0.0574,-0.00957,-0.0375,-0.000365,-0.00337,-0.011,-0.0345,0.0249,-0.0105,0.0739,0.00343,0.0593,0.0528,0.0508,-0.063,0.00448,-0.00359,0.00037,0.0366,-0.0821,0.00899,-0.0289,-0.0111,0.0814,-0.0767,-0.00217,0.0554,0.0813,0.0199,-0.0228,0.0549,-0.00618,-0.0096,-0.0155,0.0147,0.0669,-0.0395,0.034,0.0233,0.000597,0.0551,-0.0442,0.0358,-0.073,-0.0539,0.0308,-0.0892,0.0207,-0.0724,0.0152,0.0493,0.00251,0.00817,0.0471,-0.0337,-0.0356,0.00956,0.0265,-0.00756,-0.000797,0.0923,0.0357,0.0273,0.0109,0.0239,0.0947,0.0596,-0.0727,0.0446,0.00378,0.0691,0.00118,0.0034,0.0603,-0.0985,-0.0489,-0.0608,0.0918,-0.0392,0.0637,0.0527,0.0373,-0.00584,-0.0183,-0.0743,0.0562,0.023,-0.0368,0.00415,-0.0402,-0.0262,0.075,0.0583,0.0306,0.0385,0.068,0.00052,0.000414,-0.0218,0.042,-0.0954,-0.0183,0.065,0.00831,-0.0705,0.000729,0.0901,-0.0561,0.0245,0.0608,0.0229,0.00766,0.0109,-0.0169,-0.0318,0.0484,0.0562,-0.0224,-0.0386,0.0158,0.0213,-0.0679,0.0692,-0.00386,0.0615,-0.00225,0.0282,-0.0123,-0.00815,0.00145,0.0801,-0.016,0.00802,0.0107,0.0434,0.035,0.00698,-0.00885,0.0476,-0.003,-0.0715,0.0242,0.0122,-0.0466,0.00394,0.00985,0.0284,0.0303,0.026,-0.0604,0.00622,-0.0654,0.000749,-0.019,-0.0401,0.0561,-0.00384,-0.0266,-0.0144,0.015,-0.0874,-0.00736,-0.0552,-0.000199,0.0242,-0.0385,-0.0765,0.0257,-0.0577,0.0352,0.0251,0.000919,0.0622,-0.0141,-0.0844,-0.0118,-0.0693,0.0199,0.0505,0.0194,0.0673,-0.0154,-0.0369,0.0757,-0.0106,0.0235,0.0215,0.0471,-0.0287,-0.0461,0.0459,-8.77e-05,-0.00454,-0.000586,-0.0416,0.0341,0.00453,0.0525,-0.0423,-0.00358,0.037,0.00931,0.0192,-0.0378,0.014,0.0137,-0.00423,-0.00373,-0.0171,0.055,0.0647,0.0389,0.0838,0.0351,-0.0111,0.000201,0.0619,-0.0698,-0.0188,-0.00427,-0.0349,0.0565,-0.0638,0.048,-0.061,0.0626,-0.0267,-0.0204,-0.0163,0.0923,0.035,0.0498,0.0189,0.036,0.0671,0.0253,-0.00343,-0.0832,0.00244,0.049,0.0188,0.0325,0.00743,0.0249,0.0544,-0.0847,0.053,-0.0331,-0.00198,0.0343,0.00506,0.0769,0.00998,-0.0169,0.0477,0.0478,0.00297,-0.023,0.0109,0.0287,-0.0254,0.0181,-0.000431,-0.071,-0.0225,0.044,-0.0464,0.0279,0.00272,0.0153,0.0767,-0.0397,-0.00152,-0.00573,-0.00293,-0.0289,-0.0395,-0.0296,0.0254,0.0583,-0.0399,-0.00578,-0.00442,0.0146,-0.0766,0.0846,-0.0343,-0.0249,0.0838,0.0575,0.014,0.0386,-0.0491,-0.0118,-0.00828,-0.0237,-0.0445,0.0516,0.0693,0.0172,-0.00323,0.00663,-0.0836,-0.0128,0.0625,-0.0428,-0.00794,0.0101,-0.0253,-0.0561,0.0283,-0.0342,-0.00101,0.000969,0.0128,0.00632,-0.0228,0.0223,-0.0487,-0.0196,0.00587,0.0082,-0.0627,0.0465,0.0213,0.000526,0.00361,0.0292,0.00673,0.0466,0.0262,-0.0204,-0.0039,0.0561,0.00935,0.0319,0.0108,0.00904,0.0945,0.0131,-0.0175,0.0173,-0.0327,0.0416,-0.00591,0.0454,0.0241,-0.000667,-0.0496,0.0264,0.0267,-0.0457,-0.0116,0.073,0.042,0.00687,0.0543,-0.0763,0.00165,-0.000644,-0.0022,-0.000554,-0.022,0.014,-0.0967,-0.0261,-0.0514,-0.0283,-0.0696,-0.0805,0.0431,0.00803,-0.0255,-0.00861,-0.00929,-0.0793,0.0195,0.0564,0.084,-0.00884,-0.048,-0.0289,-0.0731,0.00323,-0.0561,0.0152,0.0516,-0.00511,-0.0671,-0.0577],\"y\":[-0.891,-0.846,0.913,1.05,-0.941,1.0,0.908,-0.275,-0.0353,-0.631,0.346,-0.459,0.921,0.884,-0.26,0.502,-0.00556,0.787,0.946,-0.403,-0.782,-0.739,0.859,-0.42,-0.913,0.819,-0.496,1.03,-0.603,-0.988,0.401,0.742,-0.0772,-0.956,0.551,0.629,1.01,-0.972,1.09,-0.794,0.906,0.689,-0.596,-0.891,0.712,0.804,-0.969,-0.761,0.845,-0.746,-0.975,-0.622,-0.98,-1.0,-0.965,-1.04,-0.975,-0.484,0.884,-0.0568,0.0244,1.01,0.691,0.836,0.117,-0.502,-0.177,1.06,0.724,-0.681,0.939,0.868,-0.31,-0.939,0.474,0.646,1.02,0.783,-0.335,0.746,0.521,0.323,-0.87,-0.902,-0.936,-0.906,-0.575,0.703,-0.0547,-0.245,-0.974,0.93,0.824,-0.895,0.851,0.724,-0.171,-0.535,-0.77,0.101,-0.772,0.763,0.837,0.0493,-0.0505,0.886,0.572,-0.419,0.925,0.121,0.586,0.293,-0.998,-0.417,0.683,0.989,-0.945,-0.592,-0.975,0.771,0.857,0.224,-0.281,0.392,0.485,-0.99,-0.335,-0.453,-0.954,0.703,-0.973,-0.00601,-0.929,-0.0431,-0.848,-0.95,0.977,0.292,-0.376,-0.92,1.02,0.576,-0.796,-0.349,0.757,-0.467,0.204,0.647,-0.504,-0.86,0.934,-0.483,0.342,-0.746,0.315,0.977,-0.471,0.89,-0.462,-0.919,0.513,-0.478,0.991,0.141,-0.889,-0.553,0.535,-0.609,-0.944,0.959,-0.733,0.0353,-0.00617,0.863,0.838,-0.0656,-0.708,-0.472,-1.0,-0.613,-1.0,-0.552,-0.53,-1.02,0.654,-0.927,-0.31,0.402,-0.281,-0.878,-0.976,-0.0399,0.867,-0.149,0.829,-0.0731,-0.941,0.115,0.557,-0.719,-0.874,-0.179,0.632,0.929,-1.08,0.503,0.672,0.47,-0.0124,-0.792,-0.0248,-0.882,-0.926,-0.573,1.06,-0.987,0.241,-0.134,0.876,0.692,-1.08,-0.464,1.0,1.0,-0.0362,0.104,-0.682,-0.811,-0.176,-0.652,0.816,-0.877,-0.829,-0.671,-0.907,-0.24,0.69,-0.946,0.651,-0.724,-0.779,0.804,-0.154,0.923,0.0649,-0.95,0.475,0.852,0.993,-0.829,-1.02,1.09,0.374,0.606,0.717,-1.01,0.602,-0.465,-0.156,0.697,0.221,-0.954,-0.254,-0.98,-0.531,-0.869,0.126,1.05,0.647,-0.973,-0.0982,0.696,0.709,0.213,-0.614,0.803,-0.501,0.925,0.593,-0.305,-1.0,0.495,0.46,0.651,0.876,-0.28,0.884,-0.232,0.646,-0.877,-0.795,-0.77,-0.138,0.791,0.029,-0.121,-0.297,0.614,0.0887,0.932,-0.0892,-0.32,1.0,-0.987,0.718,-0.114,-1.0,-0.784,-0.899,-0.725,0.601,-0.998,-0.914,-0.952,0.87,0.557,-0.987,-0.871,-0.819,0.853,-0.864,-1.0,-0.901,0.239,0.778,0.927,0.713,0.696,-0.275,-0.807,0.764,0.907,-0.899,0.484,1.04,-0.286,-0.873,0.947,0.9,-0.576,0.422,-0.503,-0.924,-0.379,-0.632,0.318,0.523,0.555,1.03,-1.01,0.953,0.756,-0.275,0.134,0.688,-0.788,-0.377,0.671,0.804,0.312,-0.938,-0.681,0.968,0.671,0.897,-0.903,-0.906,-0.98,-0.959,-0.616,-0.588,-0.23,-0.905,-0.869,-0.906,-0.0368,-0.264,-0.921,0.638,-0.623,0.809,-1.06,0.983,0.989,0.819,0.907,-0.82,-0.866,-0.793,-0.925,0.992,-0.542,-0.049,-1.0,-0.487,-0.945,0.916,-0.629,0.763,-0.88,-0.86,0.611,0.862,0.969,-0.966,-0.609,0.892,-0.19,0.156,0.354,-0.26,0.745,0.727,-0.912,0.83,-0.43,-0.937,-0.304,-0.09,-0.905,0.838,0.908,-0.611,-0.387,1.01,-0.327,0.485,-0.809,-0.503,0.569,0.652,-0.803,-0.484,0.303,0.174,-0.338,-0.011,-0.897,-0.689,-0.496,-0.917,-0.666,-0.106,0.416,0.0292,0.792,-0.756,0.448,-0.924,-0.932,-0.574,-0.391,0.745,-0.555,-0.521,-0.665,-0.767,-0.931,0.802,-0.903,-0.631,-0.237,0.7,-0.549,-0.935,-0.866,-0.933,0.818,-0.765,0.815,-0.542,-0.786,-0.993,-0.917,0.325,-0.532,0.0,0.995,1.05,-1.04,-0.327,0.774,0.445,1.05,-0.748,-0.427,0.939,-0.968,-0.361,0.77,-1.01,0.357,-0.351,-0.816,0.176,-0.947,-0.309,0.392,-0.286,-0.572,0.109,0.154,1.91,2.05,0.0589,2.0,1.91,0.725,0.965,0.369,1.35,0.541,1.92,1.88,0.74,1.5,0.994,1.79,1.95,0.597,0.218,0.261,1.86,0.58,0.0868,1.82,0.504,2.03,0.397,0.0122,1.4,1.74,0.923,0.0438,1.55,1.63,2.01,0.0279,2.09,0.206,1.91,1.69,0.404,0.109,1.71,1.8,0.0306,0.239,1.85,0.254,0.0246,0.378,0.0204,-0.00147,0.0353,-0.045,0.0249,0.516,1.88,0.943,1.02,2.01,1.69,1.84,1.12,0.498,0.823,2.06,1.72,0.319,1.94,1.87,0.69,0.0605,1.47,1.65,2.02,1.78,0.665,1.75,1.52,1.32,0.13,0.0978,0.0639,0.0937,0.425,1.7,0.945,0.755,0.0255,1.93,1.82,0.105,1.85,1.72,0.829,0.465,0.23,1.1,0.228,1.76,1.84,1.05,0.949,1.89,1.57,0.581,1.93,1.12,1.59,1.29,0.00191,0.583,1.68,1.99,0.0554,0.408,0.0252,1.77,1.86,1.22,0.719,1.39,1.49,0.00957,0.665,0.547,0.0461,1.7,0.0273,0.994,0.0705,0.957,0.152,0.0498,1.98,1.29,0.624,0.0803,2.02,1.58,0.204,0.651,1.76,0.533,1.2,1.65,0.496,0.14,1.93,0.517,1.34,0.254,1.31,1.98,0.529,1.89,0.538,0.0814,1.51,0.522,1.99,1.14,0.111,0.447,1.54,0.391,0.0562,1.96,0.267,1.04,0.994,1.86,1.84,0.934,0.292,0.528,-0.000509,0.387,-0.00493,0.448,0.47,-0.0203,1.65,0.0735,0.69,1.4,0.719,0.122,0.0237,0.96,1.87,0.851,1.83,0.927,0.0592,1.11,1.56,0.281,0.126,0.821,1.63,1.93,-0.0813,1.5,1.67,1.47,0.988,0.208,0.975,0.118,0.0736,0.427,2.06,0.0132,1.24,0.866,1.88,1.69,-0.0792,0.536,2.0,2.0,0.964,1.1,0.318,0.189,0.824,0.348,1.82,0.123,0.171,0.329,0.0925,0.76,1.69,0.0536,1.65,0.276,0.221,1.8,0.846,1.92,1.06,0.0503,1.48,1.85,1.99,0.171,-0.015,2.09,1.37,1.61,1.72,-0.00888,1.6,0.535,0.844,1.7,1.22,0.0461,0.746,0.02,0.469,0.131,1.13,2.05,1.65,0.0274,0.902,1.7,1.71,1.21,0.386,1.8,0.499,1.93,1.59,0.695,0.000448,1.49,1.46,1.65,1.88,0.72,1.88,0.768,1.65,0.123,0.205,0.23,0.862,1.79,1.03,0.879,0.703,1.61,1.09,1.93,0.911,0.68,2.0,0.0126,1.72,0.886,5.57e-05,0.216,0.101,0.275,1.6,0.00193,0.0862,0.0479,1.87,1.56,0.0126,0.129,0.181,1.85,0.136,0.000359,0.0987,1.24,1.78,1.93,1.71,1.7,0.725,0.193,1.76,1.91,0.101,1.48,2.04,0.714,0.127,1.95,1.9,0.424,1.42,0.497,0.0762,0.621,0.368,1.32,1.52,1.55,2.03,-0.00645,1.95,1.76,0.725,1.13,1.69,0.212,0.623,1.67,1.8,1.31,0.0616,0.319,1.97,1.67,1.9,0.0974,0.0944,0.0197,0.0411,0.384,0.412,0.77,0.0951,0.131,0.0945,0.963,0.736,0.0787,1.64,0.377,1.81,-0.0579,1.98,1.99,1.82,1.91,0.18,0.134,0.207,0.0745,1.99,0.458,0.951,-0.00193,0.513,0.0547,1.92,0.371,1.76,0.12,0.14,1.61,1.86,1.97,0.0341,0.391,1.89,0.81,1.16,1.35,0.74,1.75,1.73,0.0876,1.83,0.57,0.0626,0.696,0.91,0.095,1.84,1.91,0.389,0.613,2.01,0.673,1.49,0.191,0.497,1.57,1.65,0.197,0.516,1.3,1.17,0.662,0.989,0.103,0.311,0.504,0.0829,0.334,0.894,1.42,1.03,1.79,0.244,1.45,0.0764,0.0679,0.426,0.609,1.75,0.445,0.479,0.335,0.233,0.0688,1.8,0.0973,0.369,0.763,1.7,0.451,0.0655,0.134,0.0672,1.82,0.235,1.82,0.458,0.214,0.00744,0.083,1.33,0.468,1.0,2.0,2.05,-0.0374,0.673,1.77,1.45,2.05,0.252,0.573,1.94,0.0324,0.639,1.77,-0.0126,1.36,0.649,0.184,1.18,0.0531,0.691,1.39,0.714,0.428],\"z\":[0.023,0.0211,-0.00139,0.00628,0.0378,0.0218,-0.0285,0.0511,0.038,-0.0312,0.0439,0.0849,0.00558,0.048,0.0727,-0.0403,0.0278,0.0361,0.00662,0.0542,-0.0182,0.0125,0.00197,-0.0108,0.0486,-0.000759,0.00596,-0.0163,-0.0865,0.0224,0.0486,-0.0179,0.0238,-0.0306,0.0313,-0.0022,-0.0157,0.0199,0.036,0.0221,-0.0305,-0.0258,0.00465,0.0685,0.0318,-0.00521,-0.0345,-0.0682,-0.0168,-0.0398,0.0132,-0.0136,0.0172,0.0158,0.00309,0.0108,0.0138,-0.0155,-0.0276,0.0362,0.0937,0.00857,-0.0371,-0.0268,-0.0816,-0.034,-0.0103,-0.043,0.0177,-0.000988,-0.0246,0.00246,0.00174,-0.032,0.023,-0.0471,0.00162,0.00724,-0.00411,0.0882,0.0664,0.047,0.0105,-0.0209,0.0297,-0.0178,0.0108,0.0105,-0.043,-0.000192,0.0115,-0.0718,0.0589,-0.0848,-0.0613,-0.0347,-0.000942,-0.0158,-0.0214,0.0365,0.00343,0.0445,-0.0379,0.0813,-0.00902,-0.0108,0.0658,0.027,-0.0189,0.00446,-0.0574,-0.00957,-0.0375,-0.000365,-0.00337,-0.011,-0.0345,0.0249,-0.0105,0.0739,0.00343,0.0593,0.0528,0.0508,-0.063,0.00448,-0.00359,0.00037,0.0366,-0.0821,0.00899,-0.0289,-0.0111,0.0814,-0.0767,-0.00217,0.0554,0.0813,0.0199,-0.0228,0.0549,-0.00618,-0.0096,-0.0155,0.0147,0.0669,-0.0395,0.034,0.0233,0.000597,0.0551,-0.0442,0.0358,-0.073,-0.0539,0.0308,-0.0892,0.0207,-0.0724,0.0152,0.0493,0.00251,0.00817,0.0471,-0.0337,-0.0356,0.00956,0.0265,-0.00756,-0.000797,0.0923,0.0357,0.0273,0.0109,0.0239,0.0947,0.0596,-0.0727,0.0446,0.00378,0.0691,0.00118,0.0034,0.0603,-0.0985,-0.0489,-0.0608,0.0918,-0.0392,0.0637,0.0527,0.0373,-0.00584,-0.0183,-0.0743,0.0562,0.023,-0.0368,0.00415,-0.0402,-0.0262,0.075,0.0583,0.0306,0.0385,0.068,0.00052,0.000414,-0.0218,0.042,-0.0954,-0.0183,0.065,0.00831,-0.0705,0.000729,0.0901,-0.0561,0.0245,0.0608,0.0229,0.00766,0.0109,-0.0169,-0.0318,0.0484,0.0562,-0.0224,-0.0386,0.0158,0.0213,-0.0679,0.0692,-0.00386,0.0615,-0.00225,0.0282,-0.0123,-0.00815,0.00145,0.0801,-0.016,0.00802,0.0107,0.0434,0.035,0.00698,-0.00885,0.0476,-0.003,-0.0715,0.0242,0.0122,-0.0466,0.00394,0.00985,0.0284,0.0303,0.026,-0.0604,0.00622,-0.0654,0.000749,-0.019,-0.0401,0.0561,-0.00384,-0.0266,-0.0144,0.015,-0.0874,-0.00736,-0.0552,-0.000199,0.0242,-0.0385,-0.0765,0.0257,-0.0577,0.0352,0.0251,0.000919,0.0622,-0.0141,-0.0844,-0.0118,-0.0693,0.0199,0.0505,0.0194,0.0673,-0.0154,-0.0369,0.0757,-0.0106,0.0235,0.0215,0.0471,-0.0287,-0.0461,0.0459,-8.77e-05,-0.00454,-0.000586,-0.0416,0.0341,0.00453,0.0525,-0.0423,-0.00358,0.037,0.00931,0.0192,-0.0378,0.014,0.0137,-0.00423,-0.00373,-0.0171,0.055,0.0647,0.0389,0.0838,0.0351,-0.0111,0.000201,0.0619,-0.0698,-0.0188,-0.00427,-0.0349,0.0565,-0.0638,0.048,-0.061,0.0626,-0.0267,-0.0204,-0.0163,0.0923,0.035,0.0498,0.0189,0.036,0.0671,0.0253,-0.00343,-0.0832,0.00244,0.049,0.0188,0.0325,0.00743,0.0249,0.0544,-0.0847,0.053,-0.0331,-0.00198,0.0343,0.00506,0.0769,0.00998,-0.0169,0.0477,0.0478,0.00297,-0.023,0.0109,0.0287,-0.0254,0.0181,-0.000431,-0.071,-0.0225,0.044,-0.0464,0.0279,0.00272,0.0153,0.0767,-0.0397,-0.00152,-0.00573,-0.00293,-0.0289,-0.0395,-0.0296,0.0254,0.0583,-0.0399,-0.00578,-0.00442,0.0146,-0.0766,0.0846,-0.0343,-0.0249,0.0838,0.0575,0.014,0.0386,-0.0491,-0.0118,-0.00828,-0.0237,-0.0445,0.0516,0.0693,0.0172,-0.00323,0.00663,-0.0836,-0.0128,0.0625,-0.0428,-0.00794,0.0101,-0.0253,-0.0561,0.0283,-0.0342,-0.00101,0.000969,0.0128,0.00632,-0.0228,0.0223,-0.0487,-0.0196,0.00587,0.0082,-0.0627,0.0465,0.0213,0.000526,0.00361,0.0292,0.00673,0.0466,0.0262,-0.0204,-0.0039,0.0561,0.00935,0.0319,0.0108,0.00904,0.0945,0.0131,-0.0175,0.0173,-0.0327,0.0416,-0.00591,0.0454,0.0241,-0.000667,-0.0496,0.0264,0.0267,-0.0457,-0.0116,0.073,0.042,0.00687,0.0543,-0.0763,0.00165,-0.000644,-0.0022,-0.000554,-0.022,0.014,-0.0967,-0.0261,-0.0514,-0.0283,-0.0696,-0.0805,0.0431,0.00803,-0.0255,-0.00861,-0.00929,-0.0793,0.0195,0.0564,0.084,-0.00884,-0.048,-0.0289,-0.0731,0.00323,-0.0561,0.0152,0.0516,-0.00511,-0.0671,-0.0577,-0.453,0.653,0.398,0.0952,0.524,-0.0263,0.425,-0.991,-1.01,-0.73,0.879,-0.845,-0.385,0.24,1.03,0.871,-1.02,0.592,0.297,-0.832,0.607,-0.712,-0.537,-0.893,0.0724,0.579,0.866,-0.36,-0.778,-0.0979,0.887,0.754,1.05,-0.205,0.797,0.807,-0.0722,-0.415,-0.0832,0.508,-0.238,-0.634,-0.852,-0.573,-0.723,-0.677,-0.464,-0.711,0.612,-0.58,0.17,0.769,-0.293,-0.209,0.3,-0.0317,0.223,0.91,0.391,-0.995,-1.03,-0.0574,0.779,0.515,-0.968,-0.891,-1.05,-0.117,-0.652,0.776,0.394,0.491,-1.03,0.224,-0.897,-0.738,0.0433,0.633,-0.988,-0.626,0.928,0.929,0.549,0.312,0.379,-0.615,0.914,-0.73,-1.07,0.949,-0.171,-0.059,0.499,0.355,0.471,-0.701,-0.987,0.761,-0.574,0.927,0.579,-0.654,0.427,1.04,-0.979,0.398,0.89,0.869,-0.245,0.936,-0.815,-0.971,-0.283,0.907,0.728,-0.0941,0.428,-0.796,0.214,-0.664,-0.306,1.03,0.897,0.857,-0.887,0.117,-0.943,-0.896,0.345,-0.687,0.293,-1.01,-0.184,1.04,0.642,-0.0802,-0.315,0.968,-0.892,0.436,-0.202,-0.886,-0.607,0.898,0.637,0.854,0.895,-0.777,0.886,-0.508,0.393,0.811,0.927,0.569,0.872,0.204,0.915,-0.45,-0.917,0.408,0.817,0.924,-0.111,-0.964,0.605,-0.818,0.837,-0.806,0.355,0.289,-0.729,0.931,0.99,-0.419,-0.64,-1.0,-0.717,0.886,-0.037,-0.789,0.0872,-0.839,0.753,0.031,-0.736,0.381,-0.904,0.89,-0.921,0.602,-0.272,-0.988,-0.478,-0.995,0.472,1.02,-0.197,-0.947,0.902,-0.776,0.477,-1.02,0.693,-0.459,0.119,0.837,-0.811,0.883,1.07,-0.652,-0.991,-0.315,-0.445,0.783,0.086,-0.162,-1.0,-0.915,0.536,0.769,-0.0207,0.892,0.326,0.0703,-0.953,-1.06,0.659,0.626,-0.938,-0.67,-0.633,0.345,-0.459,0.827,-0.404,-0.978,-0.702,0.52,0.764,0.688,0.564,0.534,-0.991,0.524,0.991,-0.474,-0.871,-0.532,0.0484,0.444,0.121,-0.0483,0.84,-0.69,-0.752,-0.131,0.791,0.975,-1.02,-0.643,-0.985,0.137,-0.967,-0.0104,0.863,-0.621,-0.993,0.137,-0.728,-0.258,1.03,0.669,-0.707,0.977,-0.813,-0.475,-0.806,-0.285,0.847,-0.891,-0.179,-0.868,-0.914,0.627,-0.414,-0.964,0.391,-0.938,0.872,0.507,0.587,0.605,-0.98,0.6,1.05,0.987,-0.971,-0.7,0.975,0.378,-1.03,-1.02,-0.0628,-0.049,0.775,1.03,-0.203,-0.622,0.531,-0.685,0.885,-0.0216,0.37,-0.504,-0.464,-0.782,-0.202,0.314,0.585,0.449,0.381,0.283,0.447,0.974,0.594,0.327,-0.654,0.765,0.903,-0.595,-0.639,0.19,-0.43,-0.939,0.181,0.905,0.419,0.128,-0.41,-0.775,-0.928,-0.827,-0.0654,0.836,-0.854,-0.907,0.867,0.856,0.162,0.0192,-0.188,0.735,-0.96,-1.0,0.654,-0.635,0.883,-0.698,0.593,0.984,-0.359,0.781,0.17,-0.721,-0.583,-0.488,0.177,0.134,0.172,-0.849,0.875,0.967,0.427,0.429,0.271,0.934,-0.993,0.328,-0.781,0.836,0.657,0.0858,-0.183,-0.0836,-0.569,-0.414,0.675,0.516,-0.654,-0.45,-0.15,0.835,-0.995,0.0474,0.855,-0.406,-0.102,-0.661,-0.713,-0.431,-0.494,-0.759,0.539,-0.19,0.0569,0.862,0.374,0.959,1.01,-0.925,-0.961,-0.653,-0.758,-0.179,-0.464,0.875,-0.331,-0.921,-1.0,-0.429,0.425,-0.186,-0.81,-0.827,0.0186,-0.998,0.878,-0.609,-0.776,0.845,-0.773,0.688,-0.895,0.961,1.01,0.94,0.979,-0.442,0.603,-0.86,-0.573,-0.705,-1.01,0.851,0.905,-0.633,0.519,0.877,0.448,-0.394,0.767,-0.924,-0.542,0.742,0.801,-0.767,-0.478,0.386,0.579,-0.407,0.771,-0.954,-0.661,-0.821,0.412,0.5,0.45,0.572,-0.604,-0.579,0.804,0.497,0.131,-0.434,-0.968,-0.871,1.01,-0.0175,-0.0881,-0.12,-0.937,-0.636,0.923,0.0416,0.748,-0.93,0.249,0.422,-0.899,-0.669,0.264,-0.879,-0.901,0.572,0.91,-0.361,0.875,-0.947,0.881,-0.73],\"type\":\"scatter3d\"}],                        {\"template\":{\"data\":{\"bar\":[{\"error_x\":{\"color\":\"#2a3f5f\"},\"error_y\":{\"color\":\"#2a3f5f\"},\"marker\":{\"line\":{\"color\":\"#E5ECF6\",\"width\":0.5},\"pattern\":{\"fillmode\":\"overlay\",\"size\":10,\"solidity\":0.2}},\"type\":\"bar\"}],\"barpolar\":[{\"marker\":{\"line\":{\"color\":\"#E5ECF6\",\"width\":0.5},\"pattern\":{\"fillmode\":\"overlay\",\"size\":10,\"solidity\":0.2}},\"type\":\"barpolar\"}],\"carpet\":[{\"aaxis\":{\"endlinecolor\":\"#2a3f5f\",\"gridcolor\":\"white\",\"linecolor\":\"white\",\"minorgridcolor\":\"white\",\"startlinecolor\":\"#2a3f5f\"},\"baxis\":{\"endlinecolor\":\"#2a3f5f\",\"gridcolor\":\"white\",\"linecolor\":\"white\",\"minorgridcolor\":\"white\",\"startlinecolor\":\"#2a3f5f\"},\"type\":\"carpet\"}],\"choropleth\":[{\"colorbar\":{\"outlinewidth\":0,\"ticks\":\"\"},\"type\":\"choropleth\"}],\"contour\":[{\"colorbar\":{\"outlinewidth\":0,\"ticks\":\"\"},\"colorscale\":[[0.0,\"#0d0887\"],[0.1111111111111111,\"#46039f\"],[0.2222222222222222,\"#7201a8\"],[0.3333333333333333,\"#9c179e\"],[0.4444444444444444,\"#bd3786\"],[0.5555555555555556,\"#d8576b\"],[0.6666666666666666,\"#ed7953\"],[0.7777777777777778,\"#fb9f3a\"],[0.8888888888888888,\"#fdca26\"],[1.0,\"#f0f921\"]],\"type\":\"contour\"}],\"contourcarpet\":[{\"colorbar\":{\"outlinewidth\":0,\"ticks\":\"\"},\"type\":\"contourcarpet\"}],\"heatmap\":[{\"colorbar\":{\"outlinewidth\":0,\"ticks\":\"\"},\"colorscale\":[[0.0,\"#0d0887\"],[0.1111111111111111,\"#46039f\"],[0.2222222222222222,\"#7201a8\"],[0.3333333333333333,\"#9c179e\"],[0.4444444444444444,\"#bd3786\"],[0.5555555555555556,\"#d8576b\"],[0.6666666666666666,\"#ed7953\"],[0.7777777777777778,\"#fb9f3a\"],[0.8888888888888888,\"#fdca26\"],[1.0,\"#f0f921\"]],\"type\":\"heatmap\"}],\"heatmapgl\":[{\"colorbar\":{\"outlinewidth\":0,\"ticks\":\"\"},\"colorscale\":[[0.0,\"#0d0887\"],[0.1111111111111111,\"#46039f\"],[0.2222222222222222,\"#7201a8\"],[0.3333333333333333,\"#9c179e\"],[0.4444444444444444,\"#bd3786\"],[0.5555555555555556,\"#d8576b\"],[0.6666666666666666,\"#ed7953\"],[0.7777777777777778,\"#fb9f3a\"],[0.8888888888888888,\"#fdca26\"],[1.0,\"#f0f921\"]],\"type\":\"heatmapgl\"}],\"histogram\":[{\"marker\":{\"pattern\":{\"fillmode\":\"overlay\",\"size\":10,\"solidity\":0.2}},\"type\":\"histogram\"}],\"histogram2d\":[{\"colorbar\":{\"outlinewidth\":0,\"ticks\":\"\"},\"colorscale\":[[0.0,\"#0d0887\"],[0.1111111111111111,\"#46039f\"],[0.2222222222222222,\"#7201a8\"],[0.3333333333333333,\"#9c179e\"],[0.4444444444444444,\"#bd3786\"],[0.5555555555555556,\"#d8576b\"],[0.6666666666666666,\"#ed7953\"],[0.7777777777777778,\"#fb9f3a\"],[0.8888888888888888,\"#fdca26\"],[1.0,\"#f0f921\"]],\"type\":\"histogram2d\"}],\"histogram2dcontour\":[{\"colorbar\":{\"outlinewidth\":0,\"ticks\":\"\"},\"colorscale\":[[0.0,\"#0d0887\"],[0.1111111111111111,\"#46039f\"],[0.2222222222222222,\"#7201a8\"],[0.3333333333333333,\"#9c179e\"],[0.4444444444444444,\"#bd3786\"],[0.5555555555555556,\"#d8576b\"],[0.6666666666666666,\"#ed7953\"],[0.7777777777777778,\"#fb9f3a\"],[0.8888888888888888,\"#fdca26\"],[1.0,\"#f0f921\"]],\"type\":\"histogram2dcontour\"}],\"mesh3d\":[{\"colorbar\":{\"outlinewidth\":0,\"ticks\":\"\"},\"type\":\"mesh3d\"}],\"parcoords\":[{\"line\":{\"colorbar\":{\"outlinewidth\":0,\"ticks\":\"\"}},\"type\":\"parcoords\"}],\"pie\":[{\"automargin\":true,\"type\":\"pie\"}],\"scatter\":[{\"marker\":{\"colorbar\":{\"outlinewidth\":0,\"ticks\":\"\"}},\"type\":\"scatter\"}],\"scatter3d\":[{\"line\":{\"colorbar\":{\"outlinewidth\":0,\"ticks\":\"\"}},\"marker\":{\"colorbar\":{\"outlinewidth\":0,\"ticks\":\"\"}},\"type\":\"scatter3d\"}],\"scattercarpet\":[{\"marker\":{\"colorbar\":{\"outlinewidth\":0,\"ticks\":\"\"}},\"type\":\"scattercarpet\"}],\"scattergeo\":[{\"marker\":{\"colorbar\":{\"outlinewidth\":0,\"ticks\":\"\"}},\"type\":\"scattergeo\"}],\"scattergl\":[{\"marker\":{\"colorbar\":{\"outlinewidth\":0,\"ticks\":\"\"}},\"type\":\"scattergl\"}],\"scattermapbox\":[{\"marker\":{\"colorbar\":{\"outlinewidth\":0,\"ticks\":\"\"}},\"type\":\"scattermapbox\"}],\"scatterpolar\":[{\"marker\":{\"colorbar\":{\"outlinewidth\":0,\"ticks\":\"\"}},\"type\":\"scatterpolar\"}],\"scatterpolargl\":[{\"marker\":{\"colorbar\":{\"outlinewidth\":0,\"ticks\":\"\"}},\"type\":\"scatterpolargl\"}],\"scatterternary\":[{\"marker\":{\"colorbar\":{\"outlinewidth\":0,\"ticks\":\"\"}},\"type\":\"scatterternary\"}],\"surface\":[{\"colorbar\":{\"outlinewidth\":0,\"ticks\":\"\"},\"colorscale\":[[0.0,\"#0d0887\"],[0.1111111111111111,\"#46039f\"],[0.2222222222222222,\"#7201a8\"],[0.3333333333333333,\"#9c179e\"],[0.4444444444444444,\"#bd3786\"],[0.5555555555555556,\"#d8576b\"],[0.6666666666666666,\"#ed7953\"],[0.7777777777777778,\"#fb9f3a\"],[0.8888888888888888,\"#fdca26\"],[1.0,\"#f0f921\"]],\"type\":\"surface\"}],\"table\":[{\"cells\":{\"fill\":{\"color\":\"#EBF0F8\"},\"line\":{\"color\":\"white\"}},\"header\":{\"fill\":{\"color\":\"#C8D4E3\"},\"line\":{\"color\":\"white\"}},\"type\":\"table\"}]},\"layout\":{\"annotationdefaults\":{\"arrowcolor\":\"#2a3f5f\",\"arrowhead\":0,\"arrowwidth\":1},\"autotypenumbers\":\"strict\",\"coloraxis\":{\"colorbar\":{\"outlinewidth\":0,\"ticks\":\"\"}},\"colorscale\":{\"diverging\":[[0,\"#8e0152\"],[0.1,\"#c51b7d\"],[0.2,\"#de77ae\"],[0.3,\"#f1b6da\"],[0.4,\"#fde0ef\"],[0.5,\"#f7f7f7\"],[0.6,\"#e6f5d0\"],[0.7,\"#b8e186\"],[0.8,\"#7fbc41\"],[0.9,\"#4d9221\"],[1,\"#276419\"]],\"sequential\":[[0.0,\"#0d0887\"],[0.1111111111111111,\"#46039f\"],[0.2222222222222222,\"#7201a8\"],[0.3333333333333333,\"#9c179e\"],[0.4444444444444444,\"#bd3786\"],[0.5555555555555556,\"#d8576b\"],[0.6666666666666666,\"#ed7953\"],[0.7777777777777778,\"#fb9f3a\"],[0.8888888888888888,\"#fdca26\"],[1.0,\"#f0f921\"]],\"sequentialminus\":[[0.0,\"#0d0887\"],[0.1111111111111111,\"#46039f\"],[0.2222222222222222,\"#7201a8\"],[0.3333333333333333,\"#9c179e\"],[0.4444444444444444,\"#bd3786\"],[0.5555555555555556,\"#d8576b\"],[0.6666666666666666,\"#ed7953\"],[0.7777777777777778,\"#fb9f3a\"],[0.8888888888888888,\"#fdca26\"],[1.0,\"#f0f921\"]]},\"colorway\":[\"#636efa\",\"#EF553B\",\"#00cc96\",\"#ab63fa\",\"#FFA15A\",\"#19d3f3\",\"#FF6692\",\"#B6E880\",\"#FF97FF\",\"#FECB52\"],\"font\":{\"color\":\"#2a3f5f\"},\"geo\":{\"bgcolor\":\"white\",\"lakecolor\":\"white\",\"landcolor\":\"#E5ECF6\",\"showlakes\":true,\"showland\":true,\"subunitcolor\":\"white\"},\"hoverlabel\":{\"align\":\"left\"},\"hovermode\":\"closest\",\"mapbox\":{\"style\":\"light\"},\"paper_bgcolor\":\"white\",\"plot_bgcolor\":\"#E5ECF6\",\"polar\":{\"angularaxis\":{\"gridcolor\":\"white\",\"linecolor\":\"white\",\"ticks\":\"\"},\"bgcolor\":\"#E5ECF6\",\"radialaxis\":{\"gridcolor\":\"white\",\"linecolor\":\"white\",\"ticks\":\"\"}},\"scene\":{\"xaxis\":{\"backgroundcolor\":\"#E5ECF6\",\"gridcolor\":\"white\",\"gridwidth\":2,\"linecolor\":\"white\",\"showbackground\":true,\"ticks\":\"\",\"zerolinecolor\":\"white\"},\"yaxis\":{\"backgroundcolor\":\"#E5ECF6\",\"gridcolor\":\"white\",\"gridwidth\":2,\"linecolor\":\"white\",\"showbackground\":true,\"ticks\":\"\",\"zerolinecolor\":\"white\"},\"zaxis\":{\"backgroundcolor\":\"#E5ECF6\",\"gridcolor\":\"white\",\"gridwidth\":2,\"linecolor\":\"white\",\"showbackground\":true,\"ticks\":\"\",\"zerolinecolor\":\"white\"}},\"shapedefaults\":{\"line\":{\"color\":\"#2a3f5f\"}},\"ternary\":{\"aaxis\":{\"gridcolor\":\"white\",\"linecolor\":\"white\",\"ticks\":\"\"},\"baxis\":{\"gridcolor\":\"white\",\"linecolor\":\"white\",\"ticks\":\"\"},\"bgcolor\":\"#E5ECF6\",\"caxis\":{\"gridcolor\":\"white\",\"linecolor\":\"white\",\"ticks\":\"\"}},\"title\":{\"x\":0.05},\"xaxis\":{\"automargin\":true,\"gridcolor\":\"white\",\"linecolor\":\"white\",\"ticks\":\"\",\"title\":{\"standoff\":15},\"zerolinecolor\":\"white\",\"zerolinewidth\":2},\"yaxis\":{\"automargin\":true,\"gridcolor\":\"white\",\"linecolor\":\"white\",\"ticks\":\"\",\"title\":{\"standoff\":15},\"zerolinecolor\":\"white\",\"zerolinewidth\":2}}},\"scene\":{\"domain\":{\"x\":[0.0,1.0],\"y\":[0.0,1.0]},\"xaxis\":{\"title\":{\"text\":\"X1\"}},\"yaxis\":{\"title\":{\"text\":\"X2\"}},\"zaxis\":{\"title\":{\"text\":\"X3\"}}},\"coloraxis\":{\"colorbar\":{\"title\":{\"text\":\"Class\"}},\"colorscale\":[[0.0,\"#0d0887\"],[0.1111111111111111,\"#46039f\"],[0.2222222222222222,\"#7201a8\"],[0.3333333333333333,\"#9c179e\"],[0.4444444444444444,\"#bd3786\"],[0.5555555555555556,\"#d8576b\"],[0.6666666666666666,\"#ed7953\"],[0.7777777777777778,\"#fb9f3a\"],[0.8888888888888888,\"#fdca26\"],[1.0,\"#f0f921\"]]},\"legend\":{\"tracegroupgap\":0},\"margin\":{\"t\":60}},                        {\"responsive\": true}                    ).then(function(){\n",
              "                            \n",
              "var gd = document.getElementById('7b3b613d-4c52-4d6c-a984-c5253582ea7c');\n",
              "var x = new MutationObserver(function (mutations, observer) {{\n",
              "        var display = window.getComputedStyle(gd).display;\n",
              "        if (!display || display === 'none') {{\n",
              "            console.log([gd, 'removed!']);\n",
              "            Plotly.purge(gd);\n",
              "            observer.disconnect();\n",
              "        }}\n",
              "}});\n",
              "\n",
              "// Listen for the removal of the full notebook cells\n",
              "var notebookContainer = gd.closest('#notebook-container');\n",
              "if (notebookContainer) {{\n",
              "    x.observe(notebookContainer, {childList: true});\n",
              "}}\n",
              "\n",
              "// Listen for the clearing of the current output cell\n",
              "var outputEl = gd.closest('.output');\n",
              "if (outputEl) {{\n",
              "    x.observe(outputEl, {childList: true});\n",
              "}}\n",
              "\n",
              "                        })                };                            </script>        </div>\n",
              "</body>\n",
              "</html>"
            ]
          },
          "metadata": {}
        }
      ],
      "source": [
        "# 3D visuals of Original Data\n",
        "import plotly.express as px\n",
        "plot = px.scatter_3d(df_4, x='X1', y='X2', z='X3', color='Class')\n",
        "plot.show()"
      ]
    },
    {
      "cell_type": "markdown",
      "metadata": {
        "id": "0TiSCrHK2VT0"
      },
      "source": [
        "## Task 1 - Data 5 K Means clustering"
      ]
    },
    {
      "cell_type": "code",
      "execution_count": null,
      "metadata": {
        "id": "NjlePw_D1LyJ"
      },
      "outputs": [],
      "source": [
        "df_5 = pd.read_csv('/content/drive/MyDrive/IE5374 Workspace/Colab Notebooks/Project_1/Data5.csv')\n",
        "df_5"
      ]
    },
    {
      "cell_type": "code",
      "execution_count": null,
      "metadata": {
        "id": "QXv_BtNO2hYa"
      },
      "outputs": [],
      "source": [
        "# Convert the labels of the defined classes from 1-7 to 0-6 as model prediction is between 0-6\n",
        "df_5.loc[df_5['Class']==1,'Class'] = 0\n",
        "df_5.loc[df_5['Class']==2,'Class'] = 1\n",
        "\n",
        "df_5"
      ]
    },
    {
      "cell_type": "code",
      "execution_count": null,
      "metadata": {
        "id": "x_NoBZr_25vc"
      },
      "outputs": [],
      "source": [
        "# Elbow Method\n",
        "from sklearn.cluster import KMeans\n",
        "import seaborn as sns\n",
        "result = []\n",
        "for i in range(1,10):\n",
        "  elbowdata = KMeans(n_clusters=i)\n",
        "\n",
        "  elbowdata.fit(df_5.iloc[:,1:4])\n",
        "  result.append(elbowdata.inertia_)\n",
        "\n",
        "sns.lineplot(y = result, x= range(1,10))"
      ]
    },
    {
      "cell_type": "code",
      "execution_count": null,
      "metadata": {
        "id": "Q4l7CSsz3ABb"
      },
      "outputs": [],
      "source": [
        "# Highest value if SHS is at k = 4\n",
        "\n",
        "from sklearn.cluster import KMeans\n",
        "from sklearn import metrics\n",
        "import seaborn as sns\n",
        "\n",
        "result = []\n",
        "for i in range(2,10):\n",
        "  kmeans = KMeans(n_clusters=i)\n",
        "\n",
        "  kmeans.fit(df_5.iloc[:,1:4])\n",
        "  \n",
        "  print('Cluster : {}'.format(i))\n",
        "  \n",
        "  print('SHScore: {}'.format(str(metrics.silhouette_score(df_5.iloc[:,1:4], kmeans.labels_))))\n",
        "  \n",
        "\n"
      ]
    },
    {
      "cell_type": "code",
      "execution_count": null,
      "metadata": {
        "id": "ao-0nXFk3DlQ"
      },
      "outputs": [],
      "source": [
        "from sklearn.cluster import KMeans\n",
        "from sklearn.metrics import adjusted_rand_score\n",
        "from sklearn.metrics import precision_score\n",
        "km = KMeans(n_clusters=2)\n",
        "km.fit_predict(df_5.iloc[:,1:4])\n",
        "\n",
        "print(\"Adjusted Random Index Score :\")\n",
        "print(adjusted_rand_score(df_5['Class'],km.labels_))\n",
        "#print(\"Precision_score :\")\n",
        "#print(precision_score(df_5['Class'], km.labels_))"
      ]
    },
    {
      "cell_type": "code",
      "execution_count": null,
      "metadata": {
        "id": "AYoGlf3Y3Dne"
      },
      "outputs": [],
      "source": [
        "# 3D visuals of predicted clusters\n",
        "import plotly.express as px\n",
        "plot = px.scatter_3d(df_5, x='X1', y='X2', z='X3', color='Class')\n",
        "plot.show()"
      ]
    },
    {
      "cell_type": "code",
      "execution_count": null,
      "metadata": {
        "id": "Q02juPqc3Dpv"
      },
      "outputs": [],
      "source": [
        "# 3D visuals of predicted clusters\n",
        "import plotly.express as px\n",
        "plot = px.scatter_3d(df_5, x='X1', y='X2', z='X3', color=km.labels_)\n",
        "plot.show()"
      ]
    },
    {
      "cell_type": "markdown",
      "metadata": {
        "id": "SkJkN5DK4UcA"
      },
      "source": [
        "## Task 1 - Data 6 K Means Clustering"
      ]
    },
    {
      "cell_type": "code",
      "execution_count": null,
      "metadata": {
        "id": "x0b6bcW23DsH"
      },
      "outputs": [],
      "source": [
        "df_6 = pd.read_csv('/content/drive/MyDrive/IE5374 Workspace/Colab Notebooks/Project_1/Data6.csv')\n",
        "df_6"
      ]
    },
    {
      "cell_type": "markdown",
      "metadata": {
        "id": "YqyQ8X8n3DuQ"
      },
      "source": [
        "# Convert the labels of the defined classes from 1-7 to 0-6 as model prediction is between 0-6\n",
        "df_6.loc[df_6['Class']==1,'Class'] = 0\n",
        "df_6.loc[df_6['Class']==2,'Class'] = 1\n",
        "\n",
        "df_6"
      ]
    },
    {
      "cell_type": "code",
      "execution_count": null,
      "metadata": {
        "id": "gv7KQDAA42jd"
      },
      "outputs": [],
      "source": [
        "# Elbow Method\n",
        "from sklearn.cluster import KMeans\n",
        "import seaborn as sns\n",
        "result = []\n",
        "for i in range(1,10):\n",
        "  elbowdata = KMeans(n_clusters=i)\n",
        "\n",
        "  elbowdata.fit(df_6.iloc[:,1:3])\n",
        "  result.append(elbowdata.inertia_)\n",
        "\n",
        "sns.lineplot(y = result, x= range(1,10))"
      ]
    },
    {
      "cell_type": "code",
      "execution_count": null,
      "metadata": {
        "id": "xoTErDDh42q-"
      },
      "outputs": [],
      "source": [
        "# Highest value if SHS is at k = 4\n",
        "\n",
        "from sklearn.cluster import KMeans\n",
        "from sklearn import metrics\n",
        "import seaborn as sns\n",
        "\n",
        "result = []\n",
        "for i in range(2,10):\n",
        "  kmeans = KMeans(n_clusters=i)\n",
        "\n",
        "  kmeans.fit(df_6.iloc[:,1:3])\n",
        "  \n",
        "  print('Cluster : {}'.format(i))\n",
        "  \n",
        "  print('SHScore: {}'.format(str(metrics.silhouette_score(df_6.iloc[:,1:3], kmeans.labels_))))\n",
        "  \n",
        "\n"
      ]
    },
    {
      "cell_type": "code",
      "execution_count": null,
      "metadata": {
        "id": "DWVDfqZG42t1"
      },
      "outputs": [],
      "source": [
        "from sklearn.cluster import KMeans\n",
        "from sklearn.metrics import adjusted_rand_score\n",
        "from sklearn.metrics import precision_score\n",
        "km = KMeans(n_clusters=2)\n",
        "km.fit_predict(df_6.iloc[:,1:3])\n",
        "\n",
        "#print(\"Adjusted Random Index Score :\")\n",
        "#print(adjusted_rand_score(df_5['Class'],km.labels_))\n",
        "print(\"Precision_score :\")\n",
        "print(precision_score(df_6['Class'], km.labels_))"
      ]
    },
    {
      "cell_type": "code",
      "execution_count": null,
      "metadata": {
        "id": "sTPMipHe3DwQ"
      },
      "outputs": [],
      "source": [
        "# 3D visuals of predicted clusters\n",
        "import plotly.express as px\n",
        "plot = px.scatter(df_6, x='X1', y='X2', color='Class')\n",
        "plot.show()"
      ]
    },
    {
      "cell_type": "code",
      "execution_count": null,
      "metadata": {
        "id": "SPvyUJYF5aUd"
      },
      "outputs": [],
      "source": [
        "# 3D visuals of predicted clusters\n",
        "import plotly.express as px\n",
        "plot = px.scatter(df_6, x='X1', y='X2', color=km.labels_)\n",
        "plot.show()"
      ]
    },
    {
      "cell_type": "markdown",
      "metadata": {
        "id": "Tp2HDnbM5xZT"
      },
      "source": [
        "## Task 1 - Data 7 K Means Clustering"
      ]
    },
    {
      "cell_type": "code",
      "execution_count": null,
      "metadata": {
        "id": "m7f5th8E3Dyd"
      },
      "outputs": [],
      "source": [
        "df_7 = pd.read_csv('/content/drive/MyDrive/IE5374 Workspace/Colab Notebooks/Project_1/Data7.csv')\n",
        "df_7"
      ]
    },
    {
      "cell_type": "code",
      "execution_count": null,
      "metadata": {
        "id": "TlM1ExVI55ao"
      },
      "outputs": [],
      "source": [
        "# Convert the labels of the defined classes from 1-7 to 0-6 as model prediction is between 0-6\n",
        "df_7.loc[df_7['Class']==1,'Class'] = 0\n",
        "df_7.loc[df_7['Class']==2,'Class'] = 1\n",
        "df_7.loc[df_7['Class']==3,'Class'] = 2\n",
        "df_7.loc[df_7['Class']==4,'Class'] = 3\n",
        "df_7.loc[df_7['Class']==5,'Class'] = 4\n",
        "df_7.loc[df_7['Class']==6,'Class'] = 5\n",
        "\n",
        "df_7"
      ]
    },
    {
      "cell_type": "code",
      "execution_count": null,
      "metadata": {
        "id": "ls2_gMgh6ORJ"
      },
      "outputs": [],
      "source": [
        "# Elbow Method\n",
        "from sklearn.cluster import KMeans\n",
        "import seaborn as sns\n",
        "result = []\n",
        "for i in range(1,10):\n",
        "  elbowdata = KMeans(n_clusters=i)\n",
        "\n",
        "  elbowdata.fit(df_7.iloc[:,1:3])\n",
        "  result.append(elbowdata.inertia_)\n",
        "\n",
        "sns.lineplot(y = result, x= range(1,10))"
      ]
    },
    {
      "cell_type": "code",
      "execution_count": null,
      "metadata": {
        "id": "VU2vRlZ66P2C"
      },
      "outputs": [],
      "source": [
        "# Highest value if SHS is at k = 4\n",
        "\n",
        "from sklearn.cluster import KMeans\n",
        "from sklearn import metrics\n",
        "import seaborn as sns\n",
        "\n",
        "result = []\n",
        "for i in range(2,10):\n",
        "  kmeans = KMeans(n_clusters=i)\n",
        "\n",
        "  kmeans.fit(df_7.iloc[:,1:3])\n",
        "  \n",
        "  print('Cluster : {}'.format(i))\n",
        "  \n",
        "  print('SHScore: {}'.format(str(metrics.silhouette_score(df_7.iloc[:,1:3], kmeans.labels_))))\n",
        "  \n",
        "\n"
      ]
    },
    {
      "cell_type": "code",
      "execution_count": null,
      "metadata": {
        "id": "cVZ6IxKu6P4f"
      },
      "outputs": [],
      "source": [
        "from sklearn.cluster import KMeans\n",
        "from sklearn.metrics import adjusted_rand_score\n",
        "from sklearn.metrics import precision_score\n",
        "km = KMeans(n_clusters=5)\n",
        "km.fit_predict(df_7.iloc[:,1:3])\n",
        "\n",
        "print(\"Adjusted Random Index Score :\")\n",
        "print(adjusted_rand_score(df_7['Class'],km.labels_))\n",
        "#print(\"Precision_score :\")\n",
        "#print(precision_score(df_6['Class'], km.labels_))"
      ]
    },
    {
      "cell_type": "code",
      "execution_count": null,
      "metadata": {
        "id": "eJS7vf0p6P6e"
      },
      "outputs": [],
      "source": [
        "# 3D visuals of predicted clusters\n",
        "import plotly.express as px\n",
        "plot = px.scatter(df_7, x='X1', y='X2', color=km.labels_)\n",
        "plot.show()"
      ]
    },
    {
      "cell_type": "code",
      "execution_count": null,
      "metadata": {
        "id": "sWeYDU-46P9A"
      },
      "outputs": [],
      "source": [
        "# 3D visuals of predicted clusters\n",
        "import plotly.express as px\n",
        "plot = px.scatter(df_7, x='X1', y='X2', color='Class')\n",
        "plot.show()"
      ]
    },
    {
      "cell_type": "markdown",
      "metadata": {
        "id": "-4TB8g2G7K-n"
      },
      "source": [
        "## Task 1 - Data 8 K Means clustering"
      ]
    },
    {
      "cell_type": "code",
      "execution_count": null,
      "metadata": {
        "id": "Y31Zr_456P_I"
      },
      "outputs": [],
      "source": [
        "df_8 = pd.read_csv('/content/drive/MyDrive/IE5374 Workspace/Colab Notebooks/Project_1/Data8.csv')\n",
        "df_8"
      ]
    },
    {
      "cell_type": "code",
      "execution_count": null,
      "metadata": {
        "id": "Z86Y-diy71T8"
      },
      "outputs": [],
      "source": [
        "df_8.loc[df_8['Class']==1,'Class'] = 0\n",
        "df_8"
      ]
    },
    {
      "cell_type": "code",
      "execution_count": null,
      "metadata": {
        "id": "IFahNVJw71oo"
      },
      "outputs": [],
      "source": [
        "# Elbow Method\n",
        "from sklearn.cluster import KMeans\n",
        "import seaborn as sns\n",
        "result = []\n",
        "for i in range(1,10):\n",
        "  elbowdata = KMeans(n_clusters=i)\n",
        "\n",
        "  elbowdata.fit(df_8.iloc[:,1:4])\n",
        "  result.append(elbowdata.inertia_)\n",
        "\n",
        "sns.lineplot(y = result, x= range(1,10))"
      ]
    },
    {
      "cell_type": "code",
      "execution_count": null,
      "metadata": {
        "id": "uZpxPcXX71q_"
      },
      "outputs": [],
      "source": [
        "# Highest value if SHS is at k = 4\n",
        "\n",
        "from sklearn.cluster import KMeans\n",
        "from sklearn import metrics\n",
        "import seaborn as sns\n",
        "\n",
        "result = []\n",
        "for i in range(2,10):\n",
        "  kmeans = KMeans(n_clusters=i)\n",
        "\n",
        "  kmeans.fit(df_8.iloc[:,1:4])\n",
        "  \n",
        "  print('Cluster : {}'.format(i))\n",
        "  \n",
        "  print('SHScore: {}'.format(str(metrics.silhouette_score(df_8.iloc[:,1:4], kmeans.labels_))))\n",
        "  \n",
        "\n"
      ]
    },
    {
      "cell_type": "code",
      "execution_count": null,
      "metadata": {
        "id": "nSjj5F_h71wf"
      },
      "outputs": [],
      "source": [
        "from sklearn.cluster import KMeans\n",
        "from sklearn.metrics import adjusted_rand_score\n",
        "from sklearn.metrics import precision_score\n",
        "km = KMeans(n_clusters=1)\n",
        "km.fit_predict(df_8.iloc[:,1:4])\n",
        "\n",
        "print(\"Adjusted Random Index Score :\")\n",
        "print(adjusted_rand_score(df_8['Class'],km.labels_))"
      ]
    },
    {
      "cell_type": "code",
      "execution_count": null,
      "metadata": {
        "id": "_mDjl6cW6QBO"
      },
      "outputs": [],
      "source": [
        "# 3D visuals of predicted clusters\n",
        "import plotly.express as px\n",
        "plot = px.scatter_3d(df_8, x='X1', y='X2', z='X3', color='Class')\n",
        "plot.show()"
      ]
    },
    {
      "cell_type": "code",
      "execution_count": null,
      "metadata": {
        "id": "AFRcVQ3r6QDh"
      },
      "outputs": [],
      "source": [
        "# 3D visuals of predicted clusters\n",
        "import plotly.express as px\n",
        "plot = px.scatter_3d(df_8, x='X1', y='X2', z='X3', color=km.labels_)\n",
        "plot.show()"
      ]
    },
    {
      "cell_type": "code",
      "execution_count": null,
      "metadata": {
        "id": "ArureEPt6QGJ"
      },
      "outputs": [],
      "source": []
    },
    {
      "cell_type": "code",
      "execution_count": null,
      "metadata": {
        "id": "k1L0hHsF6QI3"
      },
      "outputs": [],
      "source": []
    },
    {
      "cell_type": "code",
      "execution_count": null,
      "metadata": {
        "id": "JqnXu7iV6QLs"
      },
      "outputs": [],
      "source": []
    },
    {
      "cell_type": "code",
      "execution_count": null,
      "metadata": {
        "id": "Zw3aQHJv6QOv"
      },
      "outputs": [],
      "source": []
    },
    {
      "cell_type": "code",
      "execution_count": null,
      "metadata": {
        "id": "jPAlCWTN6QQC"
      },
      "outputs": [],
      "source": []
    },
    {
      "cell_type": "code",
      "execution_count": null,
      "metadata": {
        "id": "aj0s3ses6QSa"
      },
      "outputs": [],
      "source": []
    },
    {
      "cell_type": "code",
      "execution_count": null,
      "metadata": {
        "id": "uQlJoP496QUn"
      },
      "outputs": [],
      "source": []
    },
    {
      "cell_type": "code",
      "execution_count": null,
      "metadata": {
        "id": "NA0e3hRk6QXH"
      },
      "outputs": [],
      "source": []
    },
    {
      "cell_type": "code",
      "execution_count": null,
      "metadata": {
        "id": "9EwyK8ox6QY_"
      },
      "outputs": [],
      "source": []
    },
    {
      "cell_type": "code",
      "execution_count": null,
      "metadata": {
        "id": "4TdIuJ-D6QbJ"
      },
      "outputs": [],
      "source": []
    }
  ],
  "metadata": {
    "colab": {
      "provenance": [],
      "collapsed_sections": [
        "0TiSCrHK2VT0",
        "SkJkN5DK4UcA",
        "Tp2HDnbM5xZT",
        "-4TB8g2G7K-n"
      ]
    },
    "kernelspec": {
      "display_name": "Python 3",
      "name": "python3"
    },
    "language_info": {
      "name": "python"
    }
  },
  "nbformat": 4,
  "nbformat_minor": 0
}